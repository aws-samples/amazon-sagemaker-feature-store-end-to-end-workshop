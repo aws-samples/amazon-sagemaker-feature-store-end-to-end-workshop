{
 "cells": [
  {
   "cell_type": "markdown",
   "id": "584c4c68",
   "metadata": {},
   "source": [
    "## Module 9: Control creation of feature groups using IAM policies\n",
    "\n"
   ]
  },
  {
   "cell_type": "markdown",
   "id": "8f33e700",
   "metadata": {},
   "source": [
    "Tagging is a useful technique for adopting cloud management and governance techniques. However, it can be difficult to ensure proper tagging behavior if it isn't enforced through proper mechanisms. To meet security and compliance requirements, you may need fine-grained control over the tags that are applied to create a feature store. It is critical for customers that are required to audit access to feature data and ensure the right level of security is in place. In this notebook, we have achieved  this using AWS Identity and Access Management (IAM) policies.In our example, we assume the customer has identified some tags that must be present to help ensure proper security and governance. We show a way to enforce such a requirement."
   ]
  },
  {
   "cell_type": "markdown",
   "id": "c505fcd5",
   "metadata": {},
   "source": [
    "Identity-based policies decide whether someone can create, access, or delete AWS resources in an AWS account. By specifying the `RequestTag` condition key in the IAM policy, you can control access to Sagemaker API calls. For example, you require that a feature store created by an IAM user have a tag with the key environment and values `dev, production, or staging`. You will create an IAM policy with a `RequestTag` condition that denies access to the CreateFeatureGroup action until the tag value is in dev, production, or staging and attach it to the Sagemaker execution role. Now if an IAM user tries to create a feature store for customer data without any tags or tags other than expected values, the request will get denied. \n"
   ]
  },
  {
   "cell_type": "markdown",
   "id": "9e07d823",
   "metadata": {},
   "source": [
    "![FS_Diagram](../../images/fs_security_iam_policy_governance_tag.png)"
   ]
  },
  {
   "cell_type": "markdown",
   "id": "251e560a-eef8-43d4-80df-a6a41127ad30",
   "metadata": {},
   "source": [
    "#### Imports"
   ]
  },
  {
   "cell_type": "code",
   "execution_count": null,
   "id": "c797e7e7",
   "metadata": {
    "tags": []
   },
   "outputs": [],
   "source": [
    "import sagemaker\n",
    "import boto3\n",
    "import sys\n",
    "import pandas as pd\n",
    "import numpy as np\n",
    "import io\n",
    "import time\n",
    "from time import gmtime, strftime, sleep\n",
    "import json\n",
    "import logging\n",
    "from sagemaker.session import Session\n",
    "from sagemaker import get_execution_role"
   ]
  },
  {
   "cell_type": "code",
   "execution_count": null,
   "id": "f64dddbe-4eff-4fad-aa74-b37a96772e55",
   "metadata": {
    "tags": []
   },
   "outputs": [],
   "source": [
    "sm_version = sagemaker.__version__\n",
    "major, minor, patch = sm_version.split('.')\n",
    "if int(major) < 2 or int(minor) < 125:\n",
    "    subprocess.check_call([sys.executable, '-m', 'pip', 'install', 'sagemaker==2.125.0'])\n",
    "    importlib.reload(sagemaker)"
   ]
  },
  {
   "cell_type": "code",
   "execution_count": null,
   "id": "bcc606c0-c846-4d4b-8551-bf6bdd7dc08e",
   "metadata": {
    "tags": []
   },
   "outputs": [],
   "source": [
    "logger = logging.getLogger('__name__')\n",
    "logger.setLevel(logging.DEBUG)\n",
    "logger.addHandler(logging.StreamHandler())"
   ]
  },
  {
   "cell_type": "markdown",
   "id": "5dc978a6",
   "metadata": {},
   "source": [
    "#### Initialize default parameters\n"
   ]
  },
  {
   "cell_type": "code",
   "execution_count": null,
   "id": "92792dbb",
   "metadata": {
    "tags": []
   },
   "outputs": [],
   "source": [
    "prefix = 'sagemaker-feature-store'\n",
    "role = get_execution_role()\n",
    "\n",
    "sagemaker_session = sagemaker.Session()\n",
    "region = sagemaker_session.boto_region_name\n",
    "s3_bucket_name = sagemaker_session.default_bucket()"
   ]
  },
  {
   "cell_type": "markdown",
   "id": "4b39cddf",
   "metadata": {},
   "source": [
    "#### Load and explore dataset\n",
    "In this notebook, we will be using the dataset created in Module 1/Prepare datasets of the workshop."
   ]
  },
  {
   "cell_type": "code",
   "execution_count": null,
   "id": "2adeaa43",
   "metadata": {
    "tags": []
   },
   "outputs": [],
   "source": [
    "customer_data = pd.read_csv('../.././data/transformed/customers.csv')"
   ]
  },
  {
   "cell_type": "code",
   "execution_count": null,
   "id": "be53f232",
   "metadata": {
    "tags": []
   },
   "outputs": [],
   "source": [
    "customer_data.head()"
   ]
  },
  {
   "cell_type": "markdown",
   "id": "3f5cca64",
   "metadata": {},
   "source": [
    "### IAM policy update\n",
    "Add the below policy to the IAM role (SageMaker Execution Role) used for this notebook as inline policy. It will allow you to modify the IAM policy programatically in the following sections.\n",
    "```\n",
    "{\n",
    "    \"Version\": \"2012-10-17\",\n",
    "    \"Statement\": [\n",
    "        {\n",
    "            \"Sid\": \"VisualEditor0\",\n",
    "            \"Effect\": \"Allow\",\n",
    "            \"Action\": [\n",
    "                \"iam:CreatePolicy\",\n",
    "                \"iam:DetachRolePolicy\",\n",
    "                \"iam:ListAttachedRolePolicies\",\n",
    "                \"iam:DeletePolicy\",\n",
    "                \"iam:AttachRolePolicy\"\n",
    "            ],\n",
    "            \"Resource\": \"*\"\n",
    "        }\n",
    "    ]\n",
    "}\n",
    "```"
   ]
  },
  {
   "cell_type": "markdown",
   "id": "a14012a9",
   "metadata": {},
   "source": [
    "### Create and add IAM policies based on tags to the existing role\n"
   ]
  },
  {
   "cell_type": "markdown",
   "id": "b2770d5d",
   "metadata": {},
   "source": [
    "Define IAM policies to restrict feature store creation without specific tags"
   ]
  },
  {
   "cell_type": "code",
   "execution_count": null,
   "id": "d9347a62",
   "metadata": {
    "tags": []
   },
   "outputs": [],
   "source": [
    "\"\"\"creation of iam policy to restrict feature store creation without specific tags.\"\"\"\n",
    "    \n",
    "_iam_tag_policy = {\n",
    "\n",
    "                        \"Version\": \"2012-10-17\",\n",
    "                        \"Statement\": [\n",
    "                            {\n",
    "                                \"Effect\": \"Deny\",\n",
    "                                \"Action\": \"sagemaker:CreateFeatureGroup\",\n",
    "                                \"Resource\": \"arn:aws:sagemaker:*:*:feature-group/*\",\n",
    "                                \"Condition\": {\n",
    "                                    \"StringNotEquals\": {\n",
    "                                        \"aws:RequestTag/environment\": [\n",
    "                                            \"dev\",\n",
    "                                            \"production\",\n",
    "                                            \"staging\"\n",
    "                                        ]\n",
    "                                    }\n",
    "                                }\n",
    "                            }\n",
    "                        ]\n",
    "                    }"
   ]
  },
  {
   "cell_type": "markdown",
   "id": "f69513d4",
   "metadata": {},
   "source": [
    "Create IAM policies and attach them to the IAM role (SageMaker Execution Role)"
   ]
  },
  {
   "cell_type": "code",
   "execution_count": null,
   "id": "471429e8",
   "metadata": {
    "tags": []
   },
   "outputs": [],
   "source": [
    "# Attach IAM policy to restrict SageMaker Execution Role\n",
    "timestamp = int(time.time())\n",
    "iam_client = boto3.client('iam')\n",
    "role_name = role.split('/')[-1] # get the role name from role arn\n",
    "\n",
    "policy_res = iam_client.create_policy(\n",
    "    PolicyName=f'Amazon_SageMaker_Tag_Policy_{timestamp}',\n",
    "    PolicyDocument=json.dumps(_iam_tag_policy)\n",
    ")\n",
    "policy_arn = policy_res['Policy']['Arn']\n",
    "\n",
    "policy_attach_res = iam_client.attach_role_policy(\n",
    "    RoleName=role_name,\n",
    "    PolicyArn=policy_arn\n",
    ")\n",
    "## IAM is eventually consistent so added sleep to allow it to propogate to other regions\n",
    "time.sleep(120) "
   ]
  },
  {
   "cell_type": "markdown",
   "id": "17d2964c",
   "metadata": {},
   "source": [
    "Create a feature group\n"
   ]
  },
  {
   "cell_type": "code",
   "execution_count": null,
   "id": "dc3dd1cb",
   "metadata": {
    "tags": []
   },
   "outputs": [],
   "source": [
    "customers_feature_group_name = \"customers-feature-group-\" + strftime(\"%d-%H-%M-%S\", gmtime())"
   ]
  },
  {
   "cell_type": "code",
   "execution_count": null,
   "id": "59c9eae7",
   "metadata": {
    "tags": []
   },
   "outputs": [],
   "source": [
    "#Instantiate a FeatureGroup object for customers data_data\n",
    "from sagemaker.feature_store.feature_group import FeatureGroup\n",
    "\n",
    "customers_feature_group = FeatureGroup(\n",
    "    name=customers_feature_group_name, sagemaker_session=sagemaker_session\n",
    ")"
   ]
  },
  {
   "cell_type": "code",
   "execution_count": null,
   "id": "423b6792",
   "metadata": {
    "tags": []
   },
   "outputs": [],
   "source": [
    "current_time_sec = int(round(time.time()))\n",
    "record_identifier_feature_name = \"customer_id\""
   ]
  },
  {
   "cell_type": "code",
   "execution_count": null,
   "id": "7dc37940",
   "metadata": {
    "tags": []
   },
   "outputs": [],
   "source": [
    "#Append EventTime feature to your data frame. This parameter is required, and time stamps each data point\n",
    "customer_data[\"EventTime\"] = pd.Series([current_time_sec] * len(customer_data), dtype=\"float64\")"
   ]
  },
  {
   "cell_type": "code",
   "execution_count": null,
   "id": "efe75f23",
   "metadata": {
    "tags": []
   },
   "outputs": [],
   "source": [
    "#Load feature definitions to your feature group.\n",
    "customers_feature_group.load_feature_definitions(data_frame=customer_data)"
   ]
  },
  {
   "cell_type": "markdown",
   "id": "74d1d6d6",
   "metadata": {},
   "source": [
    "### 1. Test Deny when creating a feature store without a tag"
   ]
  },
  {
   "cell_type": "markdown",
   "id": "d8ec1238-8c45-4253-87e2-0add9b688125",
   "metadata": {},
   "source": [
    "You should receive an error message in this scenario. `An error occurred (AccessDeniedException) when calling the CreateFeatureGroup operation: User: arn:aws:sts::*ACCOUNT-ID*:assumed-role/AmazonSageMaker-ExecutionRole-*ID*/SageMaker is not authorized to perform: sagemaker:CreateFeatureGroup on resource: arn:aws:sagemaker:*REGION*:*ACCOUNT-ID*:feature-group/customers-feature-group-*TIMESTAMP* with an explicit deny in an identity-based policy`"
   ]
  },
  {
   "cell_type": "code",
   "execution_count": null,
   "id": "030f4553",
   "metadata": {
    "tags": []
   },
   "outputs": [],
   "source": [
    "customers_feature_group.create(\n",
    "    s3_uri=f\"s3://{s3_bucket_name}/{prefix}\",\n",
    "    record_identifier_name=record_identifier_feature_name,\n",
    "    event_time_feature_name=\"EventTime\",\n",
    "    role_arn=role,\n",
    "    enable_online_store=True\n",
    ")"
   ]
  },
  {
   "cell_type": "markdown",
   "id": "696bf8cb",
   "metadata": {},
   "source": [
    "### 2. Test Deny when creating a feature store with an incorrect tag value"
   ]
  },
  {
   "cell_type": "markdown",
   "id": "4ab8fc0e-d2f0-4bac-bccc-d9f120c488d3",
   "metadata": {},
   "source": [
    "You should receive an error message in this scenario. `An error occurred (AccessDeniedException) when calling the CreateFeatureGroup operation: User: arn:aws:sts::*ACCOUNT-ID*:assumed-role/AmazonSageMaker-ExecutionRole-*ID*/SageMaker is not authorized to perform: sagemaker:CreateFeatureGroup on resource: arn:aws:sagemaker:*REGION*:*ACCOUNT-ID*:feature-group/customers-feature-group-*TIMESTAMP* with an explicit deny in an identity-based policy`"
   ]
  },
  {
   "cell_type": "code",
   "execution_count": null,
   "id": "1273c340",
   "metadata": {
    "tags": []
   },
   "outputs": [],
   "source": [
    "customers_feature_group.create(\n",
    "    s3_uri=f\"s3://{s3_bucket_name}/{prefix}\",\n",
    "    record_identifier_name=record_identifier_feature_name,\n",
    "    event_time_feature_name=\"EventTime\",\n",
    "    role_arn=role,\n",
    "    enable_online_store=True,\n",
    "    tags=[{'Key':'environment','Value':'qa'}]\n",
    ")"
   ]
  },
  {
   "cell_type": "markdown",
   "id": "a95c931c",
   "metadata": {},
   "source": [
    "### 3. Test allow when creating a feature store with a allowed tag value"
   ]
  },
  {
   "cell_type": "code",
   "execution_count": null,
   "id": "e95a7875",
   "metadata": {
    "tags": []
   },
   "outputs": [],
   "source": [
    "customers_feature_group.create(\n",
    "    s3_uri=f\"s3://{s3_bucket_name}/{prefix}\",\n",
    "    record_identifier_name=record_identifier_feature_name,\n",
    "    event_time_feature_name=\"EventTime\",\n",
    "    role_arn=role,\n",
    "    enable_online_store=True,\n",
    "    tags=[{'Key':'environment','Value':'staging'}]\n",
    ")"
   ]
  },
  {
   "cell_type": "markdown",
   "id": "e79f144b",
   "metadata": {},
   "source": [
    "### Clean up"
   ]
  },
  {
   "cell_type": "markdown",
   "id": "8783ec33",
   "metadata": {},
   "source": [
    "First delete the tag based granular access IAM policy "
   ]
  },
  {
   "cell_type": "code",
   "execution_count": null,
   "id": "84d0bf1f",
   "metadata": {
    "tags": []
   },
   "outputs": [],
   "source": [
    "# Detach iam policy added to the SageMaker execution role\n",
    "policy_detach_res = iam_client.detach_role_policy(\n",
    "    RoleName=role_name,\n",
    "    PolicyArn=policy_arn\n",
    ")\n",
    "\n",
    "# Delete the IAM policy\n",
    "delete_policy_res = iam_client.delete_policy(\n",
    "    PolicyArn=policy_arn\n",
    ")"
   ]
  },
  {
   "cell_type": "markdown",
   "id": "4ad60363",
   "metadata": {},
   "source": [
    "Then delete the feature store"
   ]
  },
  {
   "cell_type": "code",
   "execution_count": null,
   "id": "bacb89a5",
   "metadata": {
    "tags": []
   },
   "outputs": [],
   "source": [
    "feature_group_name = customers_feature_group.describe()['FeatureGroupName']\n",
    "index = 1\n",
    "while index < 10:\n",
    "    if customers_feature_group.describe()['FeatureGroupStatus'] == 'Created':\n",
    "       customers_feature_group.delete()\n",
    "       print(f\"{feature_group_name} deleted.\")\n",
    "       index = 10\n",
    "    elif customers_feature_group.describe()['FeatureGroupStatus'] == 'Creating':\n",
    "        print(f\"{feature_group_name} is still in Creating status. Will try delete operation after 10 seconds.\")\n",
    "        time.sleep(10)\n",
    "        index = index + 1"
   ]
  },
  {
   "cell_type": "markdown",
   "id": "4fdc9985",
   "metadata": {},
   "source": [
    "Finally delete the inline policy you added to the IAM role (SageMaker Execution Role) earlier in this notebook.\n",
    "```\n",
    "{\n",
    "    \"Version\": \"2012-10-17\",\n",
    "    \"Statement\": [\n",
    "        {\n",
    "            \"Sid\": \"VisualEditor0\",\n",
    "            \"Effect\": \"Allow\",\n",
    "            \"Action\": [\n",
    "                \"iam:CreatePolicy\",\n",
    "                \"iam:DetachRolePolicy\",\n",
    "                \"iam:ListAttachedRolePolicies\",\n",
    "                \"iam:DeletePolicy\",\n",
    "                \"iam:AttachRolePolicy\"\n",
    "            ],\n",
    "            \"Resource\": \"*\"\n",
    "        }\n",
    "    ]\n",
    "}\n",
    "```"
   ]
  },
  {
   "cell_type": "code",
   "execution_count": null,
   "id": "f99f2dbc",
   "metadata": {},
   "outputs": [],
   "source": []
  }
 ],
 "metadata": {
  "availableInstances": [
   {
    "_defaultOrder": 0,
    "_isFastLaunch": true,
    "category": "General purpose",
    "gpuNum": 0,
    "memoryGiB": 4,
    "name": "ml.t3.medium",
    "vcpuNum": 2
   },
   {
    "_defaultOrder": 1,
    "_isFastLaunch": false,
    "category": "General purpose",
    "gpuNum": 0,
    "memoryGiB": 8,
    "name": "ml.t3.large",
    "vcpuNum": 2
   },
   {
    "_defaultOrder": 2,
    "_isFastLaunch": false,
    "category": "General purpose",
    "gpuNum": 0,
    "memoryGiB": 16,
    "name": "ml.t3.xlarge",
    "vcpuNum": 4
   },
   {
    "_defaultOrder": 3,
    "_isFastLaunch": false,
    "category": "General purpose",
    "gpuNum": 0,
    "memoryGiB": 32,
    "name": "ml.t3.2xlarge",
    "vcpuNum": 8
   },
   {
    "_defaultOrder": 4,
    "_isFastLaunch": true,
    "category": "General purpose",
    "gpuNum": 0,
    "memoryGiB": 8,
    "name": "ml.m5.large",
    "vcpuNum": 2
   },
   {
    "_defaultOrder": 5,
    "_isFastLaunch": false,
    "category": "General purpose",
    "gpuNum": 0,
    "memoryGiB": 16,
    "name": "ml.m5.xlarge",
    "vcpuNum": 4
   },
   {
    "_defaultOrder": 6,
    "_isFastLaunch": false,
    "category": "General purpose",
    "gpuNum": 0,
    "memoryGiB": 32,
    "name": "ml.m5.2xlarge",
    "vcpuNum": 8
   },
   {
    "_defaultOrder": 7,
    "_isFastLaunch": false,
    "category": "General purpose",
    "gpuNum": 0,
    "memoryGiB": 64,
    "name": "ml.m5.4xlarge",
    "vcpuNum": 16
   },
   {
    "_defaultOrder": 8,
    "_isFastLaunch": false,
    "category": "General purpose",
    "gpuNum": 0,
    "memoryGiB": 128,
    "name": "ml.m5.8xlarge",
    "vcpuNum": 32
   },
   {
    "_defaultOrder": 9,
    "_isFastLaunch": false,
    "category": "General purpose",
    "gpuNum": 0,
    "memoryGiB": 192,
    "name": "ml.m5.12xlarge",
    "vcpuNum": 48
   },
   {
    "_defaultOrder": 10,
    "_isFastLaunch": false,
    "category": "General purpose",
    "gpuNum": 0,
    "memoryGiB": 256,
    "name": "ml.m5.16xlarge",
    "vcpuNum": 64
   },
   {
    "_defaultOrder": 11,
    "_isFastLaunch": false,
    "category": "General purpose",
    "gpuNum": 0,
    "memoryGiB": 384,
    "name": "ml.m5.24xlarge",
    "vcpuNum": 96
   },
   {
    "_defaultOrder": 12,
    "_isFastLaunch": false,
    "category": "General purpose",
    "gpuNum": 0,
    "memoryGiB": 8,
    "name": "ml.m5d.large",
    "vcpuNum": 2
   },
   {
    "_defaultOrder": 13,
    "_isFastLaunch": false,
    "category": "General purpose",
    "gpuNum": 0,
    "memoryGiB": 16,
    "name": "ml.m5d.xlarge",
    "vcpuNum": 4
   },
   {
    "_defaultOrder": 14,
    "_isFastLaunch": false,
    "category": "General purpose",
    "gpuNum": 0,
    "memoryGiB": 32,
    "name": "ml.m5d.2xlarge",
    "vcpuNum": 8
   },
   {
    "_defaultOrder": 15,
    "_isFastLaunch": false,
    "category": "General purpose",
    "gpuNum": 0,
    "memoryGiB": 64,
    "name": "ml.m5d.4xlarge",
    "vcpuNum": 16
   },
   {
    "_defaultOrder": 16,
    "_isFastLaunch": false,
    "category": "General purpose",
    "gpuNum": 0,
    "memoryGiB": 128,
    "name": "ml.m5d.8xlarge",
    "vcpuNum": 32
   },
   {
    "_defaultOrder": 17,
    "_isFastLaunch": false,
    "category": "General purpose",
    "gpuNum": 0,
    "memoryGiB": 192,
    "name": "ml.m5d.12xlarge",
    "vcpuNum": 48
   },
   {
    "_defaultOrder": 18,
    "_isFastLaunch": false,
    "category": "General purpose",
    "gpuNum": 0,
    "memoryGiB": 256,
    "name": "ml.m5d.16xlarge",
    "vcpuNum": 64
   },
   {
    "_defaultOrder": 19,
    "_isFastLaunch": false,
    "category": "General purpose",
    "gpuNum": 0,
    "memoryGiB": 384,
    "name": "ml.m5d.24xlarge",
    "vcpuNum": 96
   },
   {
    "_defaultOrder": 20,
    "_isFastLaunch": true,
    "category": "Compute optimized",
    "gpuNum": 0,
    "memoryGiB": 4,
    "name": "ml.c5.large",
    "vcpuNum": 2
   },
   {
    "_defaultOrder": 21,
    "_isFastLaunch": false,
    "category": "Compute optimized",
    "gpuNum": 0,
    "memoryGiB": 8,
    "name": "ml.c5.xlarge",
    "vcpuNum": 4
   },
   {
    "_defaultOrder": 22,
    "_isFastLaunch": false,
    "category": "Compute optimized",
    "gpuNum": 0,
    "memoryGiB": 16,
    "name": "ml.c5.2xlarge",
    "vcpuNum": 8
   },
   {
    "_defaultOrder": 23,
    "_isFastLaunch": false,
    "category": "Compute optimized",
    "gpuNum": 0,
    "memoryGiB": 32,
    "name": "ml.c5.4xlarge",
    "vcpuNum": 16
   },
   {
    "_defaultOrder": 24,
    "_isFastLaunch": false,
    "category": "Compute optimized",
    "gpuNum": 0,
    "memoryGiB": 72,
    "name": "ml.c5.9xlarge",
    "vcpuNum": 36
   },
   {
    "_defaultOrder": 25,
    "_isFastLaunch": false,
    "category": "Compute optimized",
    "gpuNum": 0,
    "memoryGiB": 96,
    "name": "ml.c5.12xlarge",
    "vcpuNum": 48
   },
   {
    "_defaultOrder": 26,
    "_isFastLaunch": false,
    "category": "Compute optimized",
    "gpuNum": 0,
    "memoryGiB": 144,
    "name": "ml.c5.18xlarge",
    "vcpuNum": 72
   },
   {
    "_defaultOrder": 27,
    "_isFastLaunch": false,
    "category": "Compute optimized",
    "gpuNum": 0,
    "memoryGiB": 192,
    "name": "ml.c5.24xlarge",
    "vcpuNum": 96
   },
   {
    "_defaultOrder": 28,
    "_isFastLaunch": true,
    "category": "Accelerated computing",
    "gpuNum": 1,
    "memoryGiB": 16,
    "name": "ml.g4dn.xlarge",
    "vcpuNum": 4
   },
   {
    "_defaultOrder": 29,
    "_isFastLaunch": false,
    "category": "Accelerated computing",
    "gpuNum": 1,
    "memoryGiB": 32,
    "name": "ml.g4dn.2xlarge",
    "vcpuNum": 8
   },
   {
    "_defaultOrder": 30,
    "_isFastLaunch": false,
    "category": "Accelerated computing",
    "gpuNum": 1,
    "memoryGiB": 64,
    "name": "ml.g4dn.4xlarge",
    "vcpuNum": 16
   },
   {
    "_defaultOrder": 31,
    "_isFastLaunch": false,
    "category": "Accelerated computing",
    "gpuNum": 1,
    "memoryGiB": 128,
    "name": "ml.g4dn.8xlarge",
    "vcpuNum": 32
   },
   {
    "_defaultOrder": 32,
    "_isFastLaunch": false,
    "category": "Accelerated computing",
    "gpuNum": 4,
    "memoryGiB": 192,
    "name": "ml.g4dn.12xlarge",
    "vcpuNum": 48
   },
   {
    "_defaultOrder": 33,
    "_isFastLaunch": false,
    "category": "Accelerated computing",
    "gpuNum": 1,
    "memoryGiB": 256,
    "name": "ml.g4dn.16xlarge",
    "vcpuNum": 64
   },
   {
    "_defaultOrder": 34,
    "_isFastLaunch": false,
    "category": "Accelerated computing",
    "gpuNum": 1,
    "memoryGiB": 61,
    "name": "ml.p3.2xlarge",
    "vcpuNum": 8
   },
   {
    "_defaultOrder": 35,
    "_isFastLaunch": false,
    "category": "Accelerated computing",
    "gpuNum": 4,
    "memoryGiB": 244,
    "name": "ml.p3.8xlarge",
    "vcpuNum": 32
   },
   {
    "_defaultOrder": 36,
    "_isFastLaunch": false,
    "category": "Accelerated computing",
    "gpuNum": 8,
    "memoryGiB": 488,
    "name": "ml.p3.16xlarge",
    "vcpuNum": 64
   },
   {
    "_defaultOrder": 37,
    "_isFastLaunch": false,
    "category": "Accelerated computing",
    "gpuNum": 8,
    "memoryGiB": 768,
    "name": "ml.p3dn.24xlarge",
    "vcpuNum": 96
   },
   {
    "_defaultOrder": 38,
    "_isFastLaunch": false,
    "category": "Memory Optimized",
    "gpuNum": 0,
    "memoryGiB": 16,
    "name": "ml.r5.large",
    "vcpuNum": 2
   },
   {
    "_defaultOrder": 39,
    "_isFastLaunch": false,
    "category": "Memory Optimized",
    "gpuNum": 0,
    "memoryGiB": 32,
    "name": "ml.r5.xlarge",
    "vcpuNum": 4
   },
   {
    "_defaultOrder": 40,
    "_isFastLaunch": false,
    "category": "Memory Optimized",
    "gpuNum": 0,
    "memoryGiB": 64,
    "name": "ml.r5.2xlarge",
    "vcpuNum": 8
   },
   {
    "_defaultOrder": 41,
    "_isFastLaunch": false,
    "category": "Memory Optimized",
    "gpuNum": 0,
    "memoryGiB": 128,
    "name": "ml.r5.4xlarge",
    "vcpuNum": 16
   },
   {
    "_defaultOrder": 42,
    "_isFastLaunch": false,
    "category": "Memory Optimized",
    "gpuNum": 0,
    "memoryGiB": 256,
    "name": "ml.r5.8xlarge",
    "vcpuNum": 32
   },
   {
    "_defaultOrder": 43,
    "_isFastLaunch": false,
    "category": "Memory Optimized",
    "gpuNum": 0,
    "memoryGiB": 384,
    "name": "ml.r5.12xlarge",
    "vcpuNum": 48
   },
   {
    "_defaultOrder": 44,
    "_isFastLaunch": false,
    "category": "Memory Optimized",
    "gpuNum": 0,
    "memoryGiB": 512,
    "name": "ml.r5.16xlarge",
    "vcpuNum": 64
   },
   {
    "_defaultOrder": 45,
    "_isFastLaunch": false,
    "category": "Memory Optimized",
    "gpuNum": 0,
    "memoryGiB": 768,
    "name": "ml.r5.24xlarge",
    "vcpuNum": 96
   },
   {
    "_defaultOrder": 46,
    "_isFastLaunch": false,
    "category": "Accelerated computing",
    "gpuNum": 1,
    "memoryGiB": 16,
    "name": "ml.g5.xlarge",
    "vcpuNum": 4
   },
   {
    "_defaultOrder": 47,
    "_isFastLaunch": false,
    "category": "Accelerated computing",
    "gpuNum": 1,
    "memoryGiB": 32,
    "name": "ml.g5.2xlarge",
    "vcpuNum": 8
   },
   {
    "_defaultOrder": 48,
    "_isFastLaunch": false,
    "category": "Accelerated computing",
    "gpuNum": 1,
    "memoryGiB": 64,
    "name": "ml.g5.4xlarge",
    "vcpuNum": 16
   },
   {
    "_defaultOrder": 49,
    "_isFastLaunch": false,
    "category": "Accelerated computing",
    "gpuNum": 1,
    "memoryGiB": 128,
    "name": "ml.g5.8xlarge",
    "vcpuNum": 32
   },
   {
    "_defaultOrder": 50,
    "_isFastLaunch": false,
    "category": "Accelerated computing",
    "gpuNum": 1,
    "memoryGiB": 256,
    "name": "ml.g5.16xlarge",
    "vcpuNum": 64
   },
   {
    "_defaultOrder": 51,
    "_isFastLaunch": false,
    "category": "Accelerated computing",
    "gpuNum": 4,
    "memoryGiB": 192,
    "name": "ml.g5.12xlarge",
    "vcpuNum": 48
   },
   {
    "_defaultOrder": 52,
    "_isFastLaunch": false,
    "category": "Accelerated computing",
    "gpuNum": 4,
    "memoryGiB": 384,
    "name": "ml.g5.24xlarge",
    "vcpuNum": 96
   },
   {
    "_defaultOrder": 53,
    "_isFastLaunch": false,
    "category": "Accelerated computing",
    "gpuNum": 8,
    "memoryGiB": 768,
    "name": "ml.g5.48xlarge",
    "vcpuNum": 192
   }
  ],
  "instance_type": "ml.t3.medium",
  "kernelspec": {
   "display_name": "Python 3 (Data Science)",
   "language": "python",
   "name": "python3__SAGEMAKER_INTERNAL__arn:aws:sagemaker:us-west-2:236514542706:image/datascience-1.0"
  },
  "language_info": {
   "codemirror_mode": {
    "name": "ipython",
    "version": 3
   },
   "file_extension": ".py",
   "mimetype": "text/x-python",
   "name": "python",
   "nbconvert_exporter": "python",
   "pygments_lexer": "ipython3",
   "version": "3.7.10"
  }
 },
 "nbformat": 4,
 "nbformat_minor": 5
}
