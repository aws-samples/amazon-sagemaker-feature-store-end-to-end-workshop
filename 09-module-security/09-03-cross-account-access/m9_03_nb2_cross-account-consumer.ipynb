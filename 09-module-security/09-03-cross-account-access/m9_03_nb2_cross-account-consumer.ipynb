{
 "cells": [
  {
   "cell_type": "markdown",
   "id": "2073eb2f-7a48-41a9-a8aa-704ace0c16ab",
   "metadata": {},
   "source": [
    "# Module 9: Cross Account Access - Consumer Account Utilization"
   ]
  },
  {
   "cell_type": "markdown",
   "id": "9777ab09-1d12-4270-828f-050a0fe8de15",
   "metadata": {},
   "source": [
    "---\n",
    "\n",
    "# Contents\n",
    "\n",
    "1. [Overview](#Overview)\n",
    "1. [Setup](#Setup)\n",
    "1. [Accept pending RAM invitations](#Accept-pending-RAM-invitations)\n",
    "1. [Testing Discoverability](#Testing-Discoverability)\n",
    "1. [Testing Access permissions](#Testing-Access-permissions)"
   ]
  },
  {
   "cell_type": "markdown",
   "id": "f8b3f250-10a5-4034-a814-ed935e700ed9",
   "metadata": {},
   "source": [
    "# Overview"
   ]
  },
  {
   "cell_type": "markdown",
   "id": "fc5e6944-8200-449f-b820-843357203eaa",
   "metadata": {},
   "source": [
    "Amazon SageMaker Feature Store now makes it easier to share, discover and access feature groups\n",
    "across AWS accounts. This new capability promotes collaboration and minimizes duplicate work for\n",
    "teams involved in ML model and application development, particularly in enterprise environments\n",
    "with multiple accounts spanning different business units or functions.\n",
    "\n",
    "With this launch, account owners can grant access to select feature groups by other accounts using\n",
    "AWS Resource Access Manager (RAM). Once granted access, users of those accounts can\n",
    "conveniently view all of their feature groups, including the shared ones, through Amazon SageMaker\n",
    "Studio or SDKs. This enables teams to discover and utilize features developed by other teams,\n",
    "fostering knowledge sharing and efficiency. "
   ]
  },
  {
   "cell_type": "markdown",
   "id": "9e369bbe-96be-4672-85bb-e532ddf6834f",
   "metadata": {},
   "source": [
    "In this notebook to be run within the consumer account, you will learn:\n",
    "- how to accept RAM invitations to discover and access cross account features groups from the admin/owner level\n",
    "- how to discover cross account features groups which are on the admin/owner account and list these on the consumer account\n",
    "- how to access in ReadWrite cross account features groups which are on the admin/owner account and perform the following operations from the consumer account: describe(), get_record(), ingest() and delete_record().\n",
    "\n",
    "Note: It is crucial to ensure proper AWS IAM permissions for using RAM within SageMaker, for successful execution."
   ]
  },
  {
   "cell_type": "markdown",
   "id": "451c6ef2-8721-456c-9b4d-49700b3a7e18",
   "metadata": {},
   "source": [
    "# Setup"
   ]
  },
  {
   "cell_type": "markdown",
   "id": "ef9e21e6-71df-4152-8b18-d4c1fddaf19f",
   "metadata": {
    "tags": []
   },
   "source": [
    "#### IAM Roles\n",
    "\n",
    "If you are running this notebook in Amazon SageMaker Studio, the IAM role assumed by your Studio user needs permission to perform RAM operations. To provide this permission to the role, do the following:\n",
    "\n",
    "1. Open the [Amazon SageMaker console](https://console.aws.amazon.com/sagemaker/).\n",
    "2. Select Amazon SageMaker Studio and choose your user name.\n",
    "3. Under **User summary**, copy just the name part of the execution role ARN \n",
    "4. Go to the [IAM console](https://console.aws.amazon.com/iam) and click on **Roles**. \n",
    "5. Find the role associated with your SageMaker Studio user\n",
    "6. Under the Permissions tab, click **Attach policies** and add the following: **AWSResourceAccessManagerFullAccess**\n",
    "7. Under Trust relationships, click **Edit trust relationship** and add the following JSON,\n",
    "```\n",
    "{\n",
    "  \"Version\": \"2012-10-17\",\n",
    "  \"Statement\": [\n",
    "    {\n",
    "      \"Effect\": \"Allow\",\n",
    "      \"Principal\": {\n",
    "        \"Service\": \"sagemaker.amazonaws.com\"\n",
    "      },\n",
    "      \"Action\": \"sts:AssumeRole\"\n",
    "    },\n",
    "    {\n",
    "      \"Effect\": \"Allow\",\n",
    "      \"Principal\": {\n",
    "        \"Service\": \"ram.amazonaws.com\"\n",
    "      },\n",
    "      \"Action\": \"sts:AssumeRole\"\n",
    "    }\n",
    "  ]\n",
    "}\n",
    "```\n",
    " "
   ]
  },
  {
   "cell_type": "markdown",
   "id": "d7a77114-33aa-4527-a2f8-6dbd39deab0e",
   "metadata": {},
   "source": [
    "#### Imports"
   ]
  },
  {
   "cell_type": "markdown",
   "id": "82fb97b8-9ced-45ce-a8e0-86ee3190da64",
   "metadata": {},
   "source": [
    "Below cells imports necessary libraries, including boto3, which is used for AWS services, and SageMaker components. It also initialize the logging."
   ]
  },
  {
   "cell_type": "code",
   "execution_count": null,
   "id": "ee94d879-c1a9-4547-aaa6-6a518c8f7d67",
   "metadata": {
    "tags": []
   },
   "outputs": [],
   "source": [
    "import boto3\n",
    "from sagemaker import get_execution_role\n",
    "from sagemaker.session import Session\n",
    "from sagemaker.feature_store.feature_group import FeatureGroup\n",
    "from sagemaker.feature_store.feature_group import FeatureGroup\n",
    "import sagemaker\n",
    "import logging\n",
    "import pandas as pd"
   ]
  },
  {
   "cell_type": "code",
   "execution_count": null,
   "id": "a9514cd7-69f3-4fa5-84cd-d2562daa6dcd",
   "metadata": {
    "tags": []
   },
   "outputs": [],
   "source": [
    "logger = logging.getLogger('__name__')\n",
    "logger.setLevel(logging.DEBUG)\n",
    "logger.addHandler(logging.StreamHandler())\n",
    "logger.info(f'Using SageMaker version: {sagemaker.__version__}')\n",
    "logger.info(f'Using Pandas version: {pd.__version__}')"
   ]
  },
  {
   "cell_type": "markdown",
   "id": "92a79c57-c503-41b6-89af-b016158008a1",
   "metadata": {},
   "source": [
    "#### Essentials"
   ]
  },
  {
   "cell_type": "markdown",
   "id": "6eb06d43-4a51-438e-9052-79fd08f287f8",
   "metadata": {},
   "source": [
    "This cell sets up the AWS environment and initializes key components. The script configures the region, creates a session, and defines a role using get_execution_role() to obtain the SageMaker execution role."
   ]
  },
  {
   "cell_type": "code",
   "execution_count": null,
   "id": "314d573b-afc3-4fcd-aef4-f7af5d498dd6",
   "metadata": {
    "tags": []
   },
   "outputs": [],
   "source": [
    "region = boto3.Session().region_name\n",
    "boto_session = boto3.Session(region_name=region)\n",
    "sagemaker_client = boto_session.client(service_name=\"sagemaker\")\n",
    "ram_client = boto3.client(\"ram\")\n",
    "featurestore_runtime = boto_session.client(service_name=\"sagemaker-featurestore-runtime\")\n",
    "feature_store_session = Session(\n",
    "    boto_session=boto_session,\n",
    "    sagemaker_client=sagemaker_client,\n",
    "    sagemaker_featurestore_runtime_client=featurestore_runtime,\n",
    ")\n",
    "\n",
    "role = get_execution_role()"
   ]
  },
  {
   "cell_type": "markdown",
   "id": "86ead199-c64e-4898-be56-1ea62c97bc24",
   "metadata": {},
   "source": [
    "# Accept pending RAM invitations\n",
    "\n",
    "The script below is listing all the invitations in pending state and accepting all\n",
    "\n",
    "You can as well check the RAM console if there is any pending requests that's initiated by admin\n",
    "And then accept the RAM invitation for feature groups manually from the RAM console"
   ]
  },
  {
   "cell_type": "code",
   "execution_count": null,
   "id": "4f3c5276-135b-4588-8a3b-7545cb1e115d",
   "metadata": {
    "tags": []
   },
   "outputs": [],
   "source": [
    "response = ram_client.get_resource_share_invitations()\n",
    "if 'resourceShareInvitations' in response:\n",
    "    for inv in response[\"resourceShareInvitations\"]:\n",
    "        if inv[\"status\"] == 'PENDING':\n",
    "            acct_response = ram_client.accept_resource_share_invitation(\n",
    "                resourceShareInvitationArn=inv[\"resourceShareInvitationArn\"]\n",
    "            )\n",
    "            logger.info(f'Resource-share-invitation accepted for:: {inv[\"resourceShareInvitationArn\"]}')\n",
    "            logger.info(acct_response)"
   ]
  },
  {
   "cell_type": "markdown",
   "id": "eb34f2dd-e4b6-46f9-b6fc-2a41071e1b6a",
   "metadata": {},
   "source": [
    "# Testing Discoverability"
   ]
  },
  {
   "cell_type": "markdown",
   "id": "0b1af74f-1955-461e-89bf-b9d38dc854a7",
   "metadata": {},
   "source": [
    "Discoverability means being able to see feature group names and metadata. When you grant\n",
    "discoverability permission, all feature group entities in the account that you share from\n",
    "(resource owner account) become discoverable by the accounts that you are sharing with\n",
    "(resource consumer account). \n",
    "\n",
    "In below cell we search for the features groups that were created in the admin/owner account and we display their names and ARNs."
   ]
  },
  {
   "cell_type": "code",
   "execution_count": null,
   "id": "092ea5f3-5039-4d1d-89ff-5281ac478174",
   "metadata": {
    "tags": []
   },
   "outputs": [],
   "source": [
    "# As the default catalog is shared, consumer can be able to see all cross account shared resources\n",
    "search_response = sagemaker_client.search(\n",
    "    Resource = \"FeatureGroup\",\n",
    "    CrossAccountFilterOption = 'CrossAccount'\n",
    ")\n",
    "\n",
    "# Owner features groups\n",
    "feature_group_name_1 = 'cross-account-fg-1'\n",
    "feature_group_name_2 = 'cross-account-fg-2'\n",
    "\n",
    "if 'Results' in search_response:\n",
    "    for fg in search_response[\"Results\"]:\n",
    "        if fg[\"FeatureGroup\"][\"FeatureGroupName\"] == feature_group_name_1:\n",
    "            feature_group_name_arn_1 = fg[\"FeatureGroup\"][\"FeatureGroupArn\"]\n",
    "            logger.info(f'FG ARN: {feature_group_name_arn_1}')\n",
    "        if fg[\"FeatureGroup\"][\"FeatureGroupName\"] == feature_group_name_2:\n",
    "            feature_group_name_arn_2 = fg[\"FeatureGroup\"][\"FeatureGroupArn\"]      \n",
    "            logger.info(f'FG ARN: {feature_group_name_arn_2}')"
   ]
  },
  {
   "cell_type": "markdown",
   "id": "c26c87e0-8cc5-4f04-8953-f17c321c8903",
   "metadata": {},
   "source": [
    "# Testing Access permissions"
   ]
  },
  {
   "cell_type": "markdown",
   "id": "1f67fa13-b264-471e-8e75-7f6347b35d19",
   "metadata": {},
   "source": [
    "When you grant an access permission, you do so at a feature group resource level (not at\n",
    "account level). This gives you more granular control over granting access to data. The type of\n",
    "access permissions that can be granted are: read-only, read-write, and admin. "
   ]
  },
  {
   "cell_type": "markdown",
   "id": "1e4ff9a9-1810-4ee7-981b-f64c48b3a5e2",
   "metadata": {},
   "source": [
    "In this cell, the script is trying to identify a pre-existing Feature Group by specifying its ARN (Amazon Resource Name). The Feature Group's ARN is a unique identifier that points to a specific AWS resource. In this case, it is trying to instantiate a FeatureGroup object with the specified ARN for further operations."
   ]
  },
  {
   "cell_type": "code",
   "execution_count": null,
   "id": "742bde3e-4fcb-43fd-a23e-fbfcb96ac59d",
   "metadata": {
    "tags": []
   },
   "outputs": [],
   "source": [
    "feature_group_1 = FeatureGroup(name=feature_group_name_arn_1, sagemaker_session=feature_store_session)\n",
    "feature_group_2 = FeatureGroup(name=feature_group_name_arn_2, sagemaker_session=feature_store_session)"
   ]
  },
  {
   "cell_type": "markdown",
   "id": "7e2bbb93-19cc-43b6-beaa-d33aba3979ce",
   "metadata": {},
   "source": [
    "### Describe a cross account Feature Group"
   ]
  },
  {
   "cell_type": "markdown",
   "id": "1422ead6-2703-4406-a6fb-9c09a04e9081",
   "metadata": {},
   "source": [
    "The script attempts to retrieve information about the Feature Group using the describe() method, which provides details about the Feature Group's configuration and status."
   ]
  },
  {
   "cell_type": "markdown",
   "id": "278401ec-39b7-4754-9804-3f1ac77ed539",
   "metadata": {},
   "source": [
    "This cell is describing the Feature Group 'cross-account-fg-1' and we are successful since we provided Read access to this FG"
   ]
  },
  {
   "cell_type": "code",
   "execution_count": null,
   "id": "cd250e84-d9a1-4513-b82b-25d4095e2bdd",
   "metadata": {
    "tags": []
   },
   "outputs": [],
   "source": [
    "fg_desc_1 = feature_group_1.describe()\n",
    "logger.info(f'FG 1 Description: {fg_desc_1}')"
   ]
  },
  {
   "cell_type": "markdown",
   "id": "3225b890-8a3b-4173-9b58-91a220176a37",
   "metadata": {},
   "source": [
    "For our seconf FG 'cross-account-fg-2' we get an 'AccessDeniedException' which is normal since we did not provide Read access to this FG"
   ]
  },
  {
   "cell_type": "code",
   "execution_count": null,
   "id": "dc6743f6-8645-428b-934a-ca54e1cec89d",
   "metadata": {
    "tags": []
   },
   "outputs": [],
   "source": [
    "fg_desc_2 = feature_group_2.describe()\n",
    "logger.info(f'FG 2 Description: {fg_desc_2}')"
   ]
  },
  {
   "cell_type": "markdown",
   "id": "94886eb4-7fb0-4f22-a057-de2cae40f473",
   "metadata": {},
   "source": [
    "### Get a record from a cross account Feature Group"
   ]
  },
  {
   "cell_type": "markdown",
   "id": "1686d02e-1782-4514-8184-207c9a47a639",
   "metadata": {},
   "source": [
    "This cell retrieves a specific record from the Feature Group 'cross-account-fg-1' using the get_record() method, which takes a record identifier value as input. In this case, it attempts to retrieve a record with a record_identifier_value of '1'."
   ]
  },
  {
   "cell_type": "code",
   "execution_count": null,
   "id": "b3b3a9f8-e378-411a-a2d1-6e6bc29df23d",
   "metadata": {
    "tags": []
   },
   "outputs": [],
   "source": [
    "feature_group_1.get_record(record_identifier_value_as_string='1')"
   ]
  },
  {
   "cell_type": "markdown",
   "id": "66d5457f-ec52-4c98-a339-befe1f94e989",
   "metadata": {},
   "source": [
    "For our second FG 'cross-account-fg-2' we get an 'AccessDeniedException' which is normal since we did not provide read access to this FG"
   ]
  },
  {
   "cell_type": "code",
   "execution_count": null,
   "id": "0ab7a382-9b08-491a-b051-ea07e0704ee9",
   "metadata": {
    "tags": []
   },
   "outputs": [],
   "source": [
    "feature_group_2.get_record(record_identifier_value_as_string='1')"
   ]
  },
  {
   "cell_type": "markdown",
   "id": "bd3c5112-9b80-486a-89dc-2f06e50205c3",
   "metadata": {
    "tags": []
   },
   "source": [
    "### Ingest records into a cross account Feature Group"
   ]
  },
  {
   "cell_type": "markdown",
   "id": "8f2e3a3e-ce33-4d75-acf4-f230cf9a0bb4",
   "metadata": {},
   "source": [
    "This cell is responsible for creating a Pandas DataFrame named new_data_df. "
   ]
  },
  {
   "cell_type": "code",
   "execution_count": null,
   "id": "4b82e354-6c56-472c-82eb-484d8512dce1",
   "metadata": {
    "tags": []
   },
   "outputs": [],
   "source": [
    "# Assuming 'new_data' is the data you want to ingest\n",
    "new_data = [[8, 187512354.0, 160, 240],\n",
    "            [9, 187512355.0, 140, 210],\n",
    "            [10, 187512356.0, 170, 280],\n",
    "            [11, 187512357.0, 155, 260]]"
   ]
  },
  {
   "cell_type": "markdown",
   "id": "b5af4ab4-9dcf-4ab3-a36e-afc6c259b93d",
   "metadata": {},
   "source": [
    "It populates this DataFrame with sample data, including columns like record_id, event_time, feature_11, and feature_12. The data will be used for ingestion into the Feature Group 'cross-account-fg-1'. The operation is successful because we provided write access to FG 'cross-account-fg-1'."
   ]
  },
  {
   "cell_type": "code",
   "execution_count": null,
   "id": "25d45c4e-f608-4865-8dc3-db47113bcd01",
   "metadata": {
    "tags": []
   },
   "outputs": [],
   "source": [
    "# Define a DataFrame using the data\n",
    "new_data_df_1 = pd.DataFrame(new_data, columns=[\"record_id\", \"event_time\", \"feature_11\", \"feature_12\"])\n",
    "\n",
    "# Ingest data into the cross account feature group 'cross-account-fg-1'\n",
    "logger.info(f'Preparing to ingest data into feature group: {feature_group_name_1} ...')\n",
    "feature_group_1.ingest(data_frame=new_data_df_1, max_processes=4, wait=True)\n",
    "logger.info(f'{len(new_data)} records ingested into feature group: {feature_group_name_1}')"
   ]
  },
  {
   "cell_type": "markdown",
   "id": "3dbd2331-5742-49d7-ab5c-43434466918d",
   "metadata": {
    "tags": []
   },
   "source": [
    "For our second FG 'cross-account-fg-2' we get an 'AccessDeniedException' which is normal since we did not provide write access to this FG."
   ]
  },
  {
   "cell_type": "code",
   "execution_count": null,
   "id": "2f512868-73fb-40c0-abaf-f05783922d28",
   "metadata": {
    "tags": []
   },
   "outputs": [],
   "source": [
    "# Define a DataFrame using the data\n",
    "new_data_df_2 = pd.DataFrame(new_data, columns=[\"record_id\", \"event_time\", \"feature_21\", \"feature_21\"])\n",
    "\n",
    "# Ingest data into the cross account feature group 'cross-account-fg-2'\n",
    "logger.info(f'Preparing to ingest data into feature group: {feature_group_name_2} ...')\n",
    "feature_group_2.ingest(data_frame=new_data_df_2, max_processes=4, wait=True)\n",
    "logger.info(f'{len(new_data)} records ingested into feature group: {feature_group_name_2}')"
   ]
  },
  {
   "cell_type": "markdown",
   "id": "394ba308-404f-40b9-9a0c-dbe266ff4dc5",
   "metadata": {},
   "source": [
    "### Delete record from a cross account Feature Group"
   ]
  },
  {
   "cell_type": "markdown",
   "id": "441bd6b0-2c5f-49d0-9fd8-0da89d267dbb",
   "metadata": {},
   "source": [
    "The script attempts to delete a specific record from the Feature Group using the delete_record() method. It specifies the record identifier value and event time for the deletion. The operation is successful because we provided write access to FG 'cross-account-fg-1'."
   ]
  },
  {
   "cell_type": "code",
   "execution_count": null,
   "id": "c7596264-411e-4557-bc69-cad8fc8f2812",
   "metadata": {
    "tags": []
   },
   "outputs": [],
   "source": [
    "# Define the values for the record you want to delete\n",
    "record_identifier_value = '1'\n",
    "event_time_value = '187512346.0'\n",
    "\n",
    "# Delete the record from the feature group\n",
    "feature_group_1.delete_record(\n",
    "    record_identifier_value_as_string=record_identifier_value,\n",
    "    event_time=event_time_value\n",
    ")"
   ]
  },
  {
   "cell_type": "markdown",
   "id": "e71eefcf-a8b9-4673-b3f5-bdd3dae3c15f",
   "metadata": {},
   "source": [
    "For our second FG 'cross-account-fg-2' we get an 'AccessDeniedException' which is normal since we did not provide write access to this FG."
   ]
  },
  {
   "cell_type": "code",
   "execution_count": null,
   "id": "e8eab910-9469-4fa6-9d26-0f2409feb7af",
   "metadata": {
    "tags": []
   },
   "outputs": [],
   "source": [
    "# Delete the record from the feature group\n",
    "feature_group_2.delete_record(\n",
    "    record_identifier_value_as_string=record_identifier_value,\n",
    "    event_time=event_time_value\n",
    ")"
   ]
  },
  {
   "cell_type": "code",
   "execution_count": null,
   "id": "1931bd6a-e9f6-49e8-97c3-a5e184ce5016",
   "metadata": {},
   "outputs": [],
   "source": []
  }
 ],
 "metadata": {
  "availableInstances": [
   {
    "_defaultOrder": 0,
    "_isFastLaunch": true,
    "category": "General purpose",
    "gpuNum": 0,
    "hideHardwareSpecs": false,
    "memoryGiB": 4,
    "name": "ml.t3.medium",
    "vcpuNum": 2
   },
   {
    "_defaultOrder": 1,
    "_isFastLaunch": false,
    "category": "General purpose",
    "gpuNum": 0,
    "hideHardwareSpecs": false,
    "memoryGiB": 8,
    "name": "ml.t3.large",
    "vcpuNum": 2
   },
   {
    "_defaultOrder": 2,
    "_isFastLaunch": false,
    "category": "General purpose",
    "gpuNum": 0,
    "hideHardwareSpecs": false,
    "memoryGiB": 16,
    "name": "ml.t3.xlarge",
    "vcpuNum": 4
   },
   {
    "_defaultOrder": 3,
    "_isFastLaunch": false,
    "category": "General purpose",
    "gpuNum": 0,
    "hideHardwareSpecs": false,
    "memoryGiB": 32,
    "name": "ml.t3.2xlarge",
    "vcpuNum": 8
   },
   {
    "_defaultOrder": 4,
    "_isFastLaunch": true,
    "category": "General purpose",
    "gpuNum": 0,
    "hideHardwareSpecs": false,
    "memoryGiB": 8,
    "name": "ml.m5.large",
    "vcpuNum": 2
   },
   {
    "_defaultOrder": 5,
    "_isFastLaunch": false,
    "category": "General purpose",
    "gpuNum": 0,
    "hideHardwareSpecs": false,
    "memoryGiB": 16,
    "name": "ml.m5.xlarge",
    "vcpuNum": 4
   },
   {
    "_defaultOrder": 6,
    "_isFastLaunch": false,
    "category": "General purpose",
    "gpuNum": 0,
    "hideHardwareSpecs": false,
    "memoryGiB": 32,
    "name": "ml.m5.2xlarge",
    "vcpuNum": 8
   },
   {
    "_defaultOrder": 7,
    "_isFastLaunch": false,
    "category": "General purpose",
    "gpuNum": 0,
    "hideHardwareSpecs": false,
    "memoryGiB": 64,
    "name": "ml.m5.4xlarge",
    "vcpuNum": 16
   },
   {
    "_defaultOrder": 8,
    "_isFastLaunch": false,
    "category": "General purpose",
    "gpuNum": 0,
    "hideHardwareSpecs": false,
    "memoryGiB": 128,
    "name": "ml.m5.8xlarge",
    "vcpuNum": 32
   },
   {
    "_defaultOrder": 9,
    "_isFastLaunch": false,
    "category": "General purpose",
    "gpuNum": 0,
    "hideHardwareSpecs": false,
    "memoryGiB": 192,
    "name": "ml.m5.12xlarge",
    "vcpuNum": 48
   },
   {
    "_defaultOrder": 10,
    "_isFastLaunch": false,
    "category": "General purpose",
    "gpuNum": 0,
    "hideHardwareSpecs": false,
    "memoryGiB": 256,
    "name": "ml.m5.16xlarge",
    "vcpuNum": 64
   },
   {
    "_defaultOrder": 11,
    "_isFastLaunch": false,
    "category": "General purpose",
    "gpuNum": 0,
    "hideHardwareSpecs": false,
    "memoryGiB": 384,
    "name": "ml.m5.24xlarge",
    "vcpuNum": 96
   },
   {
    "_defaultOrder": 12,
    "_isFastLaunch": false,
    "category": "General purpose",
    "gpuNum": 0,
    "hideHardwareSpecs": false,
    "memoryGiB": 8,
    "name": "ml.m5d.large",
    "vcpuNum": 2
   },
   {
    "_defaultOrder": 13,
    "_isFastLaunch": false,
    "category": "General purpose",
    "gpuNum": 0,
    "hideHardwareSpecs": false,
    "memoryGiB": 16,
    "name": "ml.m5d.xlarge",
    "vcpuNum": 4
   },
   {
    "_defaultOrder": 14,
    "_isFastLaunch": false,
    "category": "General purpose",
    "gpuNum": 0,
    "hideHardwareSpecs": false,
    "memoryGiB": 32,
    "name": "ml.m5d.2xlarge",
    "vcpuNum": 8
   },
   {
    "_defaultOrder": 15,
    "_isFastLaunch": false,
    "category": "General purpose",
    "gpuNum": 0,
    "hideHardwareSpecs": false,
    "memoryGiB": 64,
    "name": "ml.m5d.4xlarge",
    "vcpuNum": 16
   },
   {
    "_defaultOrder": 16,
    "_isFastLaunch": false,
    "category": "General purpose",
    "gpuNum": 0,
    "hideHardwareSpecs": false,
    "memoryGiB": 128,
    "name": "ml.m5d.8xlarge",
    "vcpuNum": 32
   },
   {
    "_defaultOrder": 17,
    "_isFastLaunch": false,
    "category": "General purpose",
    "gpuNum": 0,
    "hideHardwareSpecs": false,
    "memoryGiB": 192,
    "name": "ml.m5d.12xlarge",
    "vcpuNum": 48
   },
   {
    "_defaultOrder": 18,
    "_isFastLaunch": false,
    "category": "General purpose",
    "gpuNum": 0,
    "hideHardwareSpecs": false,
    "memoryGiB": 256,
    "name": "ml.m5d.16xlarge",
    "vcpuNum": 64
   },
   {
    "_defaultOrder": 19,
    "_isFastLaunch": false,
    "category": "General purpose",
    "gpuNum": 0,
    "hideHardwareSpecs": false,
    "memoryGiB": 384,
    "name": "ml.m5d.24xlarge",
    "vcpuNum": 96
   },
   {
    "_defaultOrder": 20,
    "_isFastLaunch": false,
    "category": "General purpose",
    "gpuNum": 0,
    "hideHardwareSpecs": true,
    "memoryGiB": 0,
    "name": "ml.geospatial.interactive",
    "supportedImageNames": [
     "sagemaker-geospatial-v1-0"
    ],
    "vcpuNum": 0
   },
   {
    "_defaultOrder": 21,
    "_isFastLaunch": true,
    "category": "Compute optimized",
    "gpuNum": 0,
    "hideHardwareSpecs": false,
    "memoryGiB": 4,
    "name": "ml.c5.large",
    "vcpuNum": 2
   },
   {
    "_defaultOrder": 22,
    "_isFastLaunch": false,
    "category": "Compute optimized",
    "gpuNum": 0,
    "hideHardwareSpecs": false,
    "memoryGiB": 8,
    "name": "ml.c5.xlarge",
    "vcpuNum": 4
   },
   {
    "_defaultOrder": 23,
    "_isFastLaunch": false,
    "category": "Compute optimized",
    "gpuNum": 0,
    "hideHardwareSpecs": false,
    "memoryGiB": 16,
    "name": "ml.c5.2xlarge",
    "vcpuNum": 8
   },
   {
    "_defaultOrder": 24,
    "_isFastLaunch": false,
    "category": "Compute optimized",
    "gpuNum": 0,
    "hideHardwareSpecs": false,
    "memoryGiB": 32,
    "name": "ml.c5.4xlarge",
    "vcpuNum": 16
   },
   {
    "_defaultOrder": 25,
    "_isFastLaunch": false,
    "category": "Compute optimized",
    "gpuNum": 0,
    "hideHardwareSpecs": false,
    "memoryGiB": 72,
    "name": "ml.c5.9xlarge",
    "vcpuNum": 36
   },
   {
    "_defaultOrder": 26,
    "_isFastLaunch": false,
    "category": "Compute optimized",
    "gpuNum": 0,
    "hideHardwareSpecs": false,
    "memoryGiB": 96,
    "name": "ml.c5.12xlarge",
    "vcpuNum": 48
   },
   {
    "_defaultOrder": 27,
    "_isFastLaunch": false,
    "category": "Compute optimized",
    "gpuNum": 0,
    "hideHardwareSpecs": false,
    "memoryGiB": 144,
    "name": "ml.c5.18xlarge",
    "vcpuNum": 72
   },
   {
    "_defaultOrder": 28,
    "_isFastLaunch": false,
    "category": "Compute optimized",
    "gpuNum": 0,
    "hideHardwareSpecs": false,
    "memoryGiB": 192,
    "name": "ml.c5.24xlarge",
    "vcpuNum": 96
   },
   {
    "_defaultOrder": 29,
    "_isFastLaunch": true,
    "category": "Accelerated computing",
    "gpuNum": 1,
    "hideHardwareSpecs": false,
    "memoryGiB": 16,
    "name": "ml.g4dn.xlarge",
    "vcpuNum": 4
   },
   {
    "_defaultOrder": 30,
    "_isFastLaunch": false,
    "category": "Accelerated computing",
    "gpuNum": 1,
    "hideHardwareSpecs": false,
    "memoryGiB": 32,
    "name": "ml.g4dn.2xlarge",
    "vcpuNum": 8
   },
   {
    "_defaultOrder": 31,
    "_isFastLaunch": false,
    "category": "Accelerated computing",
    "gpuNum": 1,
    "hideHardwareSpecs": false,
    "memoryGiB": 64,
    "name": "ml.g4dn.4xlarge",
    "vcpuNum": 16
   },
   {
    "_defaultOrder": 32,
    "_isFastLaunch": false,
    "category": "Accelerated computing",
    "gpuNum": 1,
    "hideHardwareSpecs": false,
    "memoryGiB": 128,
    "name": "ml.g4dn.8xlarge",
    "vcpuNum": 32
   },
   {
    "_defaultOrder": 33,
    "_isFastLaunch": false,
    "category": "Accelerated computing",
    "gpuNum": 4,
    "hideHardwareSpecs": false,
    "memoryGiB": 192,
    "name": "ml.g4dn.12xlarge",
    "vcpuNum": 48
   },
   {
    "_defaultOrder": 34,
    "_isFastLaunch": false,
    "category": "Accelerated computing",
    "gpuNum": 1,
    "hideHardwareSpecs": false,
    "memoryGiB": 256,
    "name": "ml.g4dn.16xlarge",
    "vcpuNum": 64
   },
   {
    "_defaultOrder": 35,
    "_isFastLaunch": false,
    "category": "Accelerated computing",
    "gpuNum": 1,
    "hideHardwareSpecs": false,
    "memoryGiB": 61,
    "name": "ml.p3.2xlarge",
    "vcpuNum": 8
   },
   {
    "_defaultOrder": 36,
    "_isFastLaunch": false,
    "category": "Accelerated computing",
    "gpuNum": 4,
    "hideHardwareSpecs": false,
    "memoryGiB": 244,
    "name": "ml.p3.8xlarge",
    "vcpuNum": 32
   },
   {
    "_defaultOrder": 37,
    "_isFastLaunch": false,
    "category": "Accelerated computing",
    "gpuNum": 8,
    "hideHardwareSpecs": false,
    "memoryGiB": 488,
    "name": "ml.p3.16xlarge",
    "vcpuNum": 64
   },
   {
    "_defaultOrder": 38,
    "_isFastLaunch": false,
    "category": "Accelerated computing",
    "gpuNum": 8,
    "hideHardwareSpecs": false,
    "memoryGiB": 768,
    "name": "ml.p3dn.24xlarge",
    "vcpuNum": 96
   },
   {
    "_defaultOrder": 39,
    "_isFastLaunch": false,
    "category": "Memory Optimized",
    "gpuNum": 0,
    "hideHardwareSpecs": false,
    "memoryGiB": 16,
    "name": "ml.r5.large",
    "vcpuNum": 2
   },
   {
    "_defaultOrder": 40,
    "_isFastLaunch": false,
    "category": "Memory Optimized",
    "gpuNum": 0,
    "hideHardwareSpecs": false,
    "memoryGiB": 32,
    "name": "ml.r5.xlarge",
    "vcpuNum": 4
   },
   {
    "_defaultOrder": 41,
    "_isFastLaunch": false,
    "category": "Memory Optimized",
    "gpuNum": 0,
    "hideHardwareSpecs": false,
    "memoryGiB": 64,
    "name": "ml.r5.2xlarge",
    "vcpuNum": 8
   },
   {
    "_defaultOrder": 42,
    "_isFastLaunch": false,
    "category": "Memory Optimized",
    "gpuNum": 0,
    "hideHardwareSpecs": false,
    "memoryGiB": 128,
    "name": "ml.r5.4xlarge",
    "vcpuNum": 16
   },
   {
    "_defaultOrder": 43,
    "_isFastLaunch": false,
    "category": "Memory Optimized",
    "gpuNum": 0,
    "hideHardwareSpecs": false,
    "memoryGiB": 256,
    "name": "ml.r5.8xlarge",
    "vcpuNum": 32
   },
   {
    "_defaultOrder": 44,
    "_isFastLaunch": false,
    "category": "Memory Optimized",
    "gpuNum": 0,
    "hideHardwareSpecs": false,
    "memoryGiB": 384,
    "name": "ml.r5.12xlarge",
    "vcpuNum": 48
   },
   {
    "_defaultOrder": 45,
    "_isFastLaunch": false,
    "category": "Memory Optimized",
    "gpuNum": 0,
    "hideHardwareSpecs": false,
    "memoryGiB": 512,
    "name": "ml.r5.16xlarge",
    "vcpuNum": 64
   },
   {
    "_defaultOrder": 46,
    "_isFastLaunch": false,
    "category": "Memory Optimized",
    "gpuNum": 0,
    "hideHardwareSpecs": false,
    "memoryGiB": 768,
    "name": "ml.r5.24xlarge",
    "vcpuNum": 96
   },
   {
    "_defaultOrder": 47,
    "_isFastLaunch": false,
    "category": "Accelerated computing",
    "gpuNum": 1,
    "hideHardwareSpecs": false,
    "memoryGiB": 16,
    "name": "ml.g5.xlarge",
    "vcpuNum": 4
   },
   {
    "_defaultOrder": 48,
    "_isFastLaunch": false,
    "category": "Accelerated computing",
    "gpuNum": 1,
    "hideHardwareSpecs": false,
    "memoryGiB": 32,
    "name": "ml.g5.2xlarge",
    "vcpuNum": 8
   },
   {
    "_defaultOrder": 49,
    "_isFastLaunch": false,
    "category": "Accelerated computing",
    "gpuNum": 1,
    "hideHardwareSpecs": false,
    "memoryGiB": 64,
    "name": "ml.g5.4xlarge",
    "vcpuNum": 16
   },
   {
    "_defaultOrder": 50,
    "_isFastLaunch": false,
    "category": "Accelerated computing",
    "gpuNum": 1,
    "hideHardwareSpecs": false,
    "memoryGiB": 128,
    "name": "ml.g5.8xlarge",
    "vcpuNum": 32
   },
   {
    "_defaultOrder": 51,
    "_isFastLaunch": false,
    "category": "Accelerated computing",
    "gpuNum": 1,
    "hideHardwareSpecs": false,
    "memoryGiB": 256,
    "name": "ml.g5.16xlarge",
    "vcpuNum": 64
   },
   {
    "_defaultOrder": 52,
    "_isFastLaunch": false,
    "category": "Accelerated computing",
    "gpuNum": 4,
    "hideHardwareSpecs": false,
    "memoryGiB": 192,
    "name": "ml.g5.12xlarge",
    "vcpuNum": 48
   },
   {
    "_defaultOrder": 53,
    "_isFastLaunch": false,
    "category": "Accelerated computing",
    "gpuNum": 4,
    "hideHardwareSpecs": false,
    "memoryGiB": 384,
    "name": "ml.g5.24xlarge",
    "vcpuNum": 96
   },
   {
    "_defaultOrder": 54,
    "_isFastLaunch": false,
    "category": "Accelerated computing",
    "gpuNum": 8,
    "hideHardwareSpecs": false,
    "memoryGiB": 768,
    "name": "ml.g5.48xlarge",
    "vcpuNum": 192
   },
   {
    "_defaultOrder": 55,
    "_isFastLaunch": false,
    "category": "Accelerated computing",
    "gpuNum": 8,
    "hideHardwareSpecs": false,
    "memoryGiB": 1152,
    "name": "ml.p4d.24xlarge",
    "vcpuNum": 96
   },
   {
    "_defaultOrder": 56,
    "_isFastLaunch": false,
    "category": "Accelerated computing",
    "gpuNum": 8,
    "hideHardwareSpecs": false,
    "memoryGiB": 1152,
    "name": "ml.p4de.24xlarge",
    "vcpuNum": 96
   }
  ],
  "instance_type": "ml.t3.medium",
  "kernelspec": {
   "display_name": "Python 3 (Data Science 3.0)",
   "language": "python",
   "name": "python3__SAGEMAKER_INTERNAL__arn:aws:sagemaker:eu-west-1:470317259841:image/sagemaker-data-science-310-v1"
  },
  "language_info": {
   "codemirror_mode": {
    "name": "ipython",
    "version": 3
   },
   "file_extension": ".py",
   "mimetype": "text/x-python",
   "name": "python",
   "nbconvert_exporter": "python",
   "pygments_lexer": "ipython3",
   "version": "3.10.6"
  }
 },
 "nbformat": 4,
 "nbformat_minor": 5
}
