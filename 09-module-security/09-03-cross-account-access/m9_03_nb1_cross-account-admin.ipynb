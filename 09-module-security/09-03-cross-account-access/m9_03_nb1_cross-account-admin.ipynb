{
 "cells": [
  {
   "cell_type": "markdown",
   "id": "a4d066fb-b47d-4b5f-bce0-f47c3a6b6ee9",
   "metadata": {},
   "source": [
    "# Module 9: Cross Account Access - Admin Account Setup  "
   ]
  },
  {
   "cell_type": "markdown",
   "id": "e8fb4063-a217-46d0-ad7c-9a3987ee7c33",
   "metadata": {
    "tags": []
   },
   "source": [
    "---\n",
    "\n",
    "# Contents\n",
    "\n",
    "1. [Overview](#Overview)\n",
    "1. [Setup](#Setup)\n",
    "1. [Create cross account feature groups](#Create-cross-account-feature-groups)\n",
    "1. [Ingest data into feature groups](#Ingest-data-into-feature-groups)\n",
    "1. [Create Resource Share](#Create-Resource-Share)"
   ]
  },
  {
   "cell_type": "markdown",
   "id": "5aefaa32-ce89-4f3d-8547-d11635a4108c",
   "metadata": {},
   "source": [
    "# Overview"
   ]
  },
  {
   "cell_type": "markdown",
   "id": "1d523090-6e5d-40f9-84ba-2b034242448b",
   "metadata": {},
   "source": [
    "Amazon SageMaker Feature Store now makes it easier to share, discover and access feature groups\n",
    "across AWS accounts. This new capability promotes collaboration and minimizes duplicate work for\n",
    "teams involved in ML model and application development, particularly in enterprise environments\n",
    "with multiple accounts spanning different business units or functions.\n",
    "\n",
    "With this launch, account owners can grant access to select feature groups by other accounts using\n",
    "AWS Resource Access Manager (RAM). Once granted access, users of those accounts can\n",
    "conveniently view all of their feature groups, including the shared ones, through Amazon SageMaker\n",
    "Studio or SDKs. This enables teams to discover and utilize features developed by other teams,\n",
    "fostering knowledge sharing and efficiency. "
   ]
  },
  {
   "cell_type": "markdown",
   "id": "0e2e6bc7-1b61-4b37-b6ee-be946c088331",
   "metadata": {},
   "source": [
    "In this notebook to be run within the admin/owner account, you will learn:\n",
    "\n",
    "- how to create and ingest features into features groups at the admin/owner account level\n",
    "- how to create discoverability resource share for existing features groups at the admin/owner account and how to share it with another consumer account using RAM \n",
    "- how to grant access permissions to existing features groups at the admin/owner account and how to share these with another consumer account using RAM\n",
    "\n",
    "Note: It is crucial to ensure proper AWS IAM permissions for using RAM for successful execution."
   ]
  },
  {
   "cell_type": "markdown",
   "id": "9a574221-d87c-408f-8008-a3b676cc9915",
   "metadata": {},
   "source": [
    "# Setup"
   ]
  },
  {
   "cell_type": "markdown",
   "id": "89dd9dca-e757-44e0-bd87-f4424cf6b51d",
   "metadata": {},
   "source": [
    "#### IAM Roles\n",
    "\n",
    "If you are running this notebook in Amazon SageMaker Studio, the IAM role assumed by your Studio user needs permission to perform RAM operations. To provide this permission to the role, do the following:\n",
    "\n",
    "1. Open the [Amazon SageMaker console](https://console.aws.amazon.com/sagemaker/).\n",
    "2. Select Amazon SageMaker Studio and choose your user name.\n",
    "3. Under **User summary**, copy just the name part of the execution role ARN \n",
    "4. Go to the [IAM console](https://console.aws.amazon.com/iam) and click on **Roles**. \n",
    "5. Find the role associated with your SageMaker Studio user\n",
    "6. Under the Permissions tab, click **Attach policies** and add the following: **AWSResourceAccessManagerFullAccess**\n",
    "7. Under Trust relationships, click **Edit trust relationship** and add the following JSON,\n",
    "```\n",
    "{\n",
    "  \"Version\": \"2012-10-17\",\n",
    "  \"Statement\": [\n",
    "    {\n",
    "      \"Effect\": \"Allow\",\n",
    "      \"Principal\": {\n",
    "        \"Service\": \"sagemaker.amazonaws.com\"\n",
    "      },\n",
    "      \"Action\": \"sts:AssumeRole\"\n",
    "    },\n",
    "    {\n",
    "      \"Effect\": \"Allow\",\n",
    "      \"Principal\": {\n",
    "        \"Service\": \"ram.amazonaws.com\"\n",
    "      },\n",
    "      \"Action\": \"sts:AssumeRole\"\n",
    "    }\n",
    "  ]\n",
    "}\n",
    "```\n",
    " "
   ]
  },
  {
   "cell_type": "markdown",
   "id": "2d1d9460-ff12-4b2c-a3c9-d9c045c9c93e",
   "metadata": {},
   "source": [
    "#### Imports"
   ]
  },
  {
   "cell_type": "markdown",
   "id": "b8d74498-42df-4b4b-899e-df697f741c60",
   "metadata": {
    "tags": []
   },
   "source": [
    "Below cells imports necessary libraries, including boto3, which is used for AWS services, and SageMaker components. It also initialize the logging."
   ]
  },
  {
   "cell_type": "code",
   "execution_count": null,
   "id": "e7a7a76b-16c8-45eb-9385-43325c984dce",
   "metadata": {
    "tags": []
   },
   "outputs": [],
   "source": [
    "import boto3\n",
    "from sagemaker.feature_store.feature_group import FeatureGroup\n",
    "from sagemaker.feature_store.inputs import TableFormatEnum\n",
    "from time import gmtime, strftime, sleep\n",
    "from random import randint\n",
    "import pandas as pd\n",
    "import numpy as np\n",
    "import subprocess\n",
    "import sagemaker\n",
    "import importlib\n",
    "import logging\n",
    "import time\n",
    "import sys\n",
    "import re"
   ]
  },
  {
   "cell_type": "code",
   "execution_count": null,
   "id": "ba8d6015-27fa-45af-a25a-14fef184621e",
   "metadata": {
    "tags": []
   },
   "outputs": [],
   "source": [
    "sm_version = sagemaker.__version__\n",
    "major, minor, patch = sm_version.split('.')\n",
    "if int(major) < 2 or int(minor) < 125:\n",
    "    subprocess.check_call([sys.executable, '-m', 'pip', 'install', 'sagemaker==2.125.0'])\n",
    "    importlib.reload(sagemaker)"
   ]
  },
  {
   "cell_type": "code",
   "execution_count": null,
   "id": "2f514055-f380-4428-8c92-4c39613c5e76",
   "metadata": {
    "tags": []
   },
   "outputs": [],
   "source": [
    "logger = logging.getLogger('__name__')\n",
    "logger.setLevel(logging.DEBUG)\n",
    "logger.addHandler(logging.StreamHandler())\n",
    "logger.info(f'Using SageMaker version: {sagemaker.__version__}')\n",
    "logger.info(f'Using Pandas version: {pd.__version__}')"
   ]
  },
  {
   "cell_type": "markdown",
   "id": "a0bf9f99-c954-4902-a442-2f9c886f691a",
   "metadata": {},
   "source": [
    "#### Essentials"
   ]
  },
  {
   "cell_type": "markdown",
   "id": "4e5a88a1-338f-4455-9d96-7bf3c20b97b7",
   "metadata": {},
   "source": [
    "This cell sets up the AWS environment and initializes key components. The script configures the region, creates a session, and defines a role using get_execution_role() to obtain the SageMaker execution role."
   ]
  },
  {
   "cell_type": "code",
   "execution_count": null,
   "id": "8bae9e71-18f9-4756-9ba6-b501979a477a",
   "metadata": {
    "tags": []
   },
   "outputs": [],
   "source": [
    "region = boto3.Session().region_name\n",
    "boto_session = boto3.Session(region_name=region)\n",
    "sagemaker_session = sagemaker.Session()\n",
    "sagemaker_client = boto_session.client(service_name=\"sagemaker\")\n",
    "ram_client = boto3.client(\"ram\")\n",
    "role = sagemaker.get_execution_role()\n",
    "default_bucket = sagemaker_session.default_bucket() #This bucket is used for offline storage\n",
    "prefix = 'sagemaker-feature-store-cross-acc'\n",
    "logger.info(f'Default S3 bucket and prefix = {default_bucket}/{prefix}')"
   ]
  },
  {
   "cell_type": "markdown",
   "id": "c9fd866f-5752-467e-8e53-e43074085d9f",
   "metadata": {},
   "source": [
    "# Create cross account feature groups"
   ]
  },
  {
   "cell_type": "markdown",
   "id": "40d066ab-1717-4ca3-b889-6746eed1aa51",
   "metadata": {},
   "source": [
    "The following cells will create a Pandas DataFrame with sample data. The sample data consists of features like record_id, event_time, feature_11, and feature_12. The feature group's feature definitions are loaded from this DataFrame.\n",
    "\n",
    "Then a feature group is created using the create method of the feature group.\n",
    "The parameters for creating the feature group include the S3 URI for offline storage, record identifier name, event time feature name, AWS IAM role ARN, and whether to enable the online store.\n",
    "The feature group is created and the script waits for its creation to complete."
   ]
  },
  {
   "cell_type": "markdown",
   "id": "6474def8-6c12-49df-809d-df322a42bfae",
   "metadata": {},
   "source": [
    "### Create first cross account feature group"
   ]
  },
  {
   "cell_type": "code",
   "execution_count": null,
   "id": "74b30815-2d78-4563-94f7-2efe56fdbf32",
   "metadata": {
    "tags": []
   },
   "outputs": [],
   "source": [
    "feature_group_name_1 = 'cross-account-fg-1'\n",
    "feature_group_1 = FeatureGroup(name=feature_group_name_1, sagemaker_session=sagemaker_session)\n",
    "data_1 = [[1, 187512346.0, 123, 128],\n",
    "        [2, 187512347.0, 168, 258],\n",
    "        [3, 187512348.0, 125, 184],\n",
    "        [1, 187512349.0, 195, 206]]\n",
    "data_df_1 = pd.DataFrame(data_1, columns=[\"record_id\", \"event_time\", \"feature_11\", \"feature_12\"])\n",
    "feature_group_1.load_feature_definitions(data_frame=data_df_1)\n",
    "data_df_1.head()"
   ]
  },
  {
   "cell_type": "markdown",
   "id": "c23cbc8b-701a-4fcf-81fa-ee1dc71dc38c",
   "metadata": {},
   "source": [
    "This function waints until the feature group is created."
   ]
  },
  {
   "cell_type": "code",
   "execution_count": null,
   "id": "6728ae87-0e3a-4fd0-96dc-3383d42edf6b",
   "metadata": {
    "tags": []
   },
   "outputs": [],
   "source": [
    "def wait_for_feature_group_creation_complete(feature_group):\n",
    "    status = feature_group.describe().get('FeatureGroupStatus')\n",
    "    print(f'Initial status: {status}')\n",
    "    while status == 'Creating':\n",
    "        logger.info(f'Waiting for feature group: {feature_group.name} to be created ...')\n",
    "        time.sleep(5)\n",
    "        status = feature_group.describe().get('FeatureGroupStatus')\n",
    "    if status != 'Created':\n",
    "        raise SystemExit(f'Failed to create feature group {feature_group.name}: {status}')\n",
    "    logger.info(f'FeatureGroup {feature_group.name} was successfully created.')"
   ]
  },
  {
   "cell_type": "code",
   "execution_count": null,
   "id": "8f7385f2-167a-4cfa-afc6-b1cc0f7d23c3",
   "metadata": {
    "tags": []
   },
   "outputs": [],
   "source": [
    "feature_group_1.create(s3_uri=f's3://{default_bucket}/{prefix}', \n",
    "                               record_identifier_name='record_id', \n",
    "                               event_time_feature_name='event_time', \n",
    "                               role_arn=role, \n",
    "                               enable_online_store=True\n",
    "                              )"
   ]
  },
  {
   "cell_type": "code",
   "execution_count": null,
   "id": "1d5a03d6-f5d3-4a09-8961-a935fbaea584",
   "metadata": {
    "tags": []
   },
   "outputs": [],
   "source": [
    "wait_for_feature_group_creation_complete(feature_group_1)"
   ]
  },
  {
   "cell_type": "code",
   "execution_count": null,
   "id": "41e7aa76-643b-491d-ac7a-cdad51c7308a",
   "metadata": {
    "tags": []
   },
   "outputs": [],
   "source": [
    "# Retreive the FG ARN\n",
    "fg_desc_1 = feature_group_1.describe()\n",
    "fg_arn_1 = fg_desc_1['FeatureGroupArn']"
   ]
  },
  {
   "cell_type": "markdown",
   "id": "e1e58f61-80b1-4564-a0fe-3c2ae3994134",
   "metadata": {},
   "source": [
    "### Create second cross account feature group"
   ]
  },
  {
   "cell_type": "code",
   "execution_count": null,
   "id": "8e3f1eab-af93-45e5-bbfe-ba0b89ffa787",
   "metadata": {
    "tags": []
   },
   "outputs": [],
   "source": [
    "feature_group_name_2 = 'cross-account-fg-2'\n",
    "feature_group_2 = FeatureGroup(name=feature_group_name_2, sagemaker_session=sagemaker_session)\n",
    "data_2 = [[1, 187512346.0, 321, 821],\n",
    "        [2, 187512347.0, 861, 852],\n",
    "        [3, 187512348.0, 521, 481],\n",
    "        [1, 187512349.0, 591, 602]]\n",
    "data_df_2 = pd.DataFrame(data_2, columns=[\"record_id\", \"event_time\", \"feature_21\", \"feature_22\"])\n",
    "feature_group_2.load_feature_definitions(data_frame=data_df_2)\n",
    "data_df_2.head()"
   ]
  },
  {
   "cell_type": "code",
   "execution_count": null,
   "id": "defc031c-bf7b-43fc-85ff-74759ad552cb",
   "metadata": {
    "tags": []
   },
   "outputs": [],
   "source": [
    "feature_group_2.create(s3_uri=f's3://{default_bucket}/{prefix}', \n",
    "                               record_identifier_name='record_id', \n",
    "                               event_time_feature_name='event_time', \n",
    "                               role_arn=role, \n",
    "                               enable_online_store=True\n",
    "                              )"
   ]
  },
  {
   "cell_type": "code",
   "execution_count": null,
   "id": "c9697fea-ab2e-4ee2-947f-bde657ac115d",
   "metadata": {
    "tags": []
   },
   "outputs": [],
   "source": [
    "wait_for_feature_group_creation_complete(feature_group_2)"
   ]
  },
  {
   "cell_type": "code",
   "execution_count": null,
   "id": "d3a2b302-7068-4fad-b37c-e63b6ec9869c",
   "metadata": {
    "tags": []
   },
   "outputs": [],
   "source": [
    "# Retreive the FG ARN\n",
    "fg_desc_2 = feature_group_2.describe()\n",
    "fg_arn_2 = fg_desc_2['FeatureGroupArn']"
   ]
  },
  {
   "cell_type": "markdown",
   "id": "668d1065-1724-492a-8c2c-b0b17dcc22a9",
   "metadata": {
    "tags": []
   },
   "source": [
    "# Ingest data into feature groups"
   ]
  },
  {
   "cell_type": "markdown",
   "id": "e4b270e6-895b-44a4-8e6e-0801e4e80256",
   "metadata": {
    "tags": []
   },
   "source": [
    "Data is ingested into the feature groups using the ingest method.\n",
    "The code attempts to ingest data into the feature groups with a specified number of processes."
   ]
  },
  {
   "cell_type": "code",
   "execution_count": null,
   "id": "3f0c0e82-59f9-4cc7-824a-bab36ac82ee4",
   "metadata": {
    "tags": []
   },
   "outputs": [],
   "source": [
    "%%time\n",
    "\n",
    "logger.info(f'Ingesting data into feature group: {feature_group_1.name} ...')\n",
    "feature_group_1.ingest(data_frame=data_df_1, max_processes=4, wait=True)\n",
    "logger.info(f'{len(data_df_1)} records ingested into feature group: {feature_group_1.name}')"
   ]
  },
  {
   "cell_type": "code",
   "execution_count": null,
   "id": "abb7f465-c014-49b7-a7be-56634196de0a",
   "metadata": {
    "tags": []
   },
   "outputs": [],
   "source": [
    "%%time\n",
    "\n",
    "logger.info(f'Ingesting data into feature group: {feature_group_2.name} ...')\n",
    "feature_group_2.ingest(data_frame=data_df_2, max_processes=4, wait=True)\n",
    "logger.info(f'{len(data_df_2)} records ingested into feature group: {feature_group_2.name}')"
   ]
  },
  {
   "cell_type": "markdown",
   "id": "110f9ecd-bd1f-4efb-a38f-626382992397",
   "metadata": {},
   "source": [
    "# Create Resource Share"
   ]
  },
  {
   "cell_type": "markdown",
   "id": "f0ac13c5-dc24-41ae-8df7-8a0c07d96c44",
   "metadata": {},
   "source": [
    "### Discoverability resource share"
   ]
  },
  {
   "cell_type": "markdown",
   "id": "40a86b3b-caf7-4dc3-b5c6-ade7c68d6a66",
   "metadata": {},
   "source": [
    "Discoverability means being able to see feature group names and metadata. When you grant\n",
    "discoverability permission, all feature group entities in the account that you share from\n",
    "(resource owner account) become discoverable by the accounts that you are sharing with\n",
    "(resource consumer account). \n",
    "\n",
    "In this cell, the code lists SageMaker resource catalogs and searches for a specific one named \"DefaultFeatureGroupCatalog.\"\n",
    "If found, it attempts to share the default catalog with another AWS account using AWS RAM.\n",
    "The shared resource catalog is intended to enable cross-account searching of SageMaker Feature Groups."
   ]
  },
  {
   "cell_type": "code",
   "execution_count": null,
   "id": "06b9fcb2-28c1-41df-97ce-807a8297f6b6",
   "metadata": {
    "tags": []
   },
   "outputs": [],
   "source": [
    "# List resource catalogs\n",
    "list_catalogs_response = sagemaker_client.list_resource_catalogs()\n",
    "logger.info(f'ResourceCatalogs: {list_catalogs_response} ...')\n",
    "find_catalog = \"DefaultFeatureGroupCatalog\"\n",
    "res = [\n",
    "    sub[\"ResourceCatalogArn\"]\n",
    "    for sub in list_catalogs_response[\"ResourceCatalogs\"]\n",
    "    if re.search(find_catalog, sub[\"ResourceCatalogArn\"])\n",
    "]\n",
    "\n",
    "if len(res) == 0:\n",
    "    print(\"No default caratlog found, please contact service team\")\n",
    "    exit\n",
    "\n",
    "# Share DefaultFeatureGroupCatalog with other account\n",
    "disc_permission_arn = \"arn:aws:ram::aws:permission/AWSRAMPermissionSageMakerFeatureGroupReadWrite\"\n",
    "# Please fill in your consumer account ID on the following line\n",
    "consumer_account = 'CONS_ACC_ID'\n",
    "ram_share_catalogue_name = 'cross-account-catalog-ram-share'\n",
    "\n",
    "response = ram_client.create_resource_share(\n",
    "    name=ram_share_catalogue_name,\n",
    "    resourceArns=[\n",
    "        res[0],\n",
    "    ],\n",
    "    principals=[\n",
    "        consumer_account,\n",
    "    ],\n",
    "    # There is only one permission which is sagemaker:search\n",
    "    permissionArns = [disc_permission_arn]\n",
    ")\n",
    "logger.info(f'Resource share {ram_share_catalogue_name} created.')"
   ]
  },
  {
   "cell_type": "markdown",
   "id": "7324f261-f950-41a1-94ae-aa0805ba0805",
   "metadata": {},
   "source": [
    "### Access permissions"
   ]
  },
  {
   "cell_type": "markdown",
   "id": "ecda6ab4-c8fc-4cb0-9889-e6c684238d6f",
   "metadata": {},
   "source": [
    "When you grant an access permission, you do so at a feature group resource level (not at\n",
    "account level). This gives you more granular control over granting access to data. The type of\n",
    "access permissions that can be granted are: read-only, read-write, and admin. "
   ]
  },
  {
   "cell_type": "markdown",
   "id": "191785e0-7a7c-447c-80d7-9c55d9fe55e1",
   "metadata": {},
   "source": [
    "This cell deals with sharing the feature group's resources (in this case, the Feature Group itself) with another AWS account using AWS Resource Access Manager (RAM).\n",
    "It specifies the AWS account ID to share with, creates a RAM share name, and specifies a permission ARN that grants read and write access to the SageMaker Feature Group.\n",
    "The code creates a RAM resource share and shares the feature group in ReadWrite mode with the specified account."
   ]
  },
  {
   "cell_type": "code",
   "execution_count": null,
   "id": "931c67b6-9dc5-41a1-b51a-fc299960f86d",
   "metadata": {
    "tags": []
   },
   "outputs": [],
   "source": [
    "# AWSRAMPermissionSageMakerFeatureGroupReadWrite\n",
    "# AWSRAMPermissionSageMakerFeatureGroupReadOnly\n",
    "# AWSRAMPermissionSageMakerFeatureGroupAdmin\n",
    "write_permission_arn = \"arn:aws:ram::aws:permission/AWSRAMPermissionSageMakerFeatureGroupReadWrite\"\n",
    "ram_share_name_1 = feature_group_name_1 + '-ram-share'\n",
    "\n",
    "response = ram_client.create_resource_share(\n",
    "    name = ram_share_name_1,\n",
    "    resourceArns=[\n",
    "        fg_arn_1\n",
    "    ],\n",
    "    principals=[\n",
    "        consumer_account,\n",
    "    ],\n",
    "    permissionArns=[write_permission_arn]\n",
    ")\n",
    "logger.info(f'Resource share {ram_share_name_1} created.')"
   ]
  }
 ],
 "metadata": {
  "availableInstances": [
   {
    "_defaultOrder": 0,
    "_isFastLaunch": true,
    "category": "General purpose",
    "gpuNum": 0,
    "hideHardwareSpecs": false,
    "memoryGiB": 4,
    "name": "ml.t3.medium",
    "vcpuNum": 2
   },
   {
    "_defaultOrder": 1,
    "_isFastLaunch": false,
    "category": "General purpose",
    "gpuNum": 0,
    "hideHardwareSpecs": false,
    "memoryGiB": 8,
    "name": "ml.t3.large",
    "vcpuNum": 2
   },
   {
    "_defaultOrder": 2,
    "_isFastLaunch": false,
    "category": "General purpose",
    "gpuNum": 0,
    "hideHardwareSpecs": false,
    "memoryGiB": 16,
    "name": "ml.t3.xlarge",
    "vcpuNum": 4
   },
   {
    "_defaultOrder": 3,
    "_isFastLaunch": false,
    "category": "General purpose",
    "gpuNum": 0,
    "hideHardwareSpecs": false,
    "memoryGiB": 32,
    "name": "ml.t3.2xlarge",
    "vcpuNum": 8
   },
   {
    "_defaultOrder": 4,
    "_isFastLaunch": true,
    "category": "General purpose",
    "gpuNum": 0,
    "hideHardwareSpecs": false,
    "memoryGiB": 8,
    "name": "ml.m5.large",
    "vcpuNum": 2
   },
   {
    "_defaultOrder": 5,
    "_isFastLaunch": false,
    "category": "General purpose",
    "gpuNum": 0,
    "hideHardwareSpecs": false,
    "memoryGiB": 16,
    "name": "ml.m5.xlarge",
    "vcpuNum": 4
   },
   {
    "_defaultOrder": 6,
    "_isFastLaunch": false,
    "category": "General purpose",
    "gpuNum": 0,
    "hideHardwareSpecs": false,
    "memoryGiB": 32,
    "name": "ml.m5.2xlarge",
    "vcpuNum": 8
   },
   {
    "_defaultOrder": 7,
    "_isFastLaunch": false,
    "category": "General purpose",
    "gpuNum": 0,
    "hideHardwareSpecs": false,
    "memoryGiB": 64,
    "name": "ml.m5.4xlarge",
    "vcpuNum": 16
   },
   {
    "_defaultOrder": 8,
    "_isFastLaunch": false,
    "category": "General purpose",
    "gpuNum": 0,
    "hideHardwareSpecs": false,
    "memoryGiB": 128,
    "name": "ml.m5.8xlarge",
    "vcpuNum": 32
   },
   {
    "_defaultOrder": 9,
    "_isFastLaunch": false,
    "category": "General purpose",
    "gpuNum": 0,
    "hideHardwareSpecs": false,
    "memoryGiB": 192,
    "name": "ml.m5.12xlarge",
    "vcpuNum": 48
   },
   {
    "_defaultOrder": 10,
    "_isFastLaunch": false,
    "category": "General purpose",
    "gpuNum": 0,
    "hideHardwareSpecs": false,
    "memoryGiB": 256,
    "name": "ml.m5.16xlarge",
    "vcpuNum": 64
   },
   {
    "_defaultOrder": 11,
    "_isFastLaunch": false,
    "category": "General purpose",
    "gpuNum": 0,
    "hideHardwareSpecs": false,
    "memoryGiB": 384,
    "name": "ml.m5.24xlarge",
    "vcpuNum": 96
   },
   {
    "_defaultOrder": 12,
    "_isFastLaunch": false,
    "category": "General purpose",
    "gpuNum": 0,
    "hideHardwareSpecs": false,
    "memoryGiB": 8,
    "name": "ml.m5d.large",
    "vcpuNum": 2
   },
   {
    "_defaultOrder": 13,
    "_isFastLaunch": false,
    "category": "General purpose",
    "gpuNum": 0,
    "hideHardwareSpecs": false,
    "memoryGiB": 16,
    "name": "ml.m5d.xlarge",
    "vcpuNum": 4
   },
   {
    "_defaultOrder": 14,
    "_isFastLaunch": false,
    "category": "General purpose",
    "gpuNum": 0,
    "hideHardwareSpecs": false,
    "memoryGiB": 32,
    "name": "ml.m5d.2xlarge",
    "vcpuNum": 8
   },
   {
    "_defaultOrder": 15,
    "_isFastLaunch": false,
    "category": "General purpose",
    "gpuNum": 0,
    "hideHardwareSpecs": false,
    "memoryGiB": 64,
    "name": "ml.m5d.4xlarge",
    "vcpuNum": 16
   },
   {
    "_defaultOrder": 16,
    "_isFastLaunch": false,
    "category": "General purpose",
    "gpuNum": 0,
    "hideHardwareSpecs": false,
    "memoryGiB": 128,
    "name": "ml.m5d.8xlarge",
    "vcpuNum": 32
   },
   {
    "_defaultOrder": 17,
    "_isFastLaunch": false,
    "category": "General purpose",
    "gpuNum": 0,
    "hideHardwareSpecs": false,
    "memoryGiB": 192,
    "name": "ml.m5d.12xlarge",
    "vcpuNum": 48
   },
   {
    "_defaultOrder": 18,
    "_isFastLaunch": false,
    "category": "General purpose",
    "gpuNum": 0,
    "hideHardwareSpecs": false,
    "memoryGiB": 256,
    "name": "ml.m5d.16xlarge",
    "vcpuNum": 64
   },
   {
    "_defaultOrder": 19,
    "_isFastLaunch": false,
    "category": "General purpose",
    "gpuNum": 0,
    "hideHardwareSpecs": false,
    "memoryGiB": 384,
    "name": "ml.m5d.24xlarge",
    "vcpuNum": 96
   },
   {
    "_defaultOrder": 20,
    "_isFastLaunch": false,
    "category": "General purpose",
    "gpuNum": 0,
    "hideHardwareSpecs": true,
    "memoryGiB": 0,
    "name": "ml.geospatial.interactive",
    "supportedImageNames": [
     "sagemaker-geospatial-v1-0"
    ],
    "vcpuNum": 0
   },
   {
    "_defaultOrder": 21,
    "_isFastLaunch": true,
    "category": "Compute optimized",
    "gpuNum": 0,
    "hideHardwareSpecs": false,
    "memoryGiB": 4,
    "name": "ml.c5.large",
    "vcpuNum": 2
   },
   {
    "_defaultOrder": 22,
    "_isFastLaunch": false,
    "category": "Compute optimized",
    "gpuNum": 0,
    "hideHardwareSpecs": false,
    "memoryGiB": 8,
    "name": "ml.c5.xlarge",
    "vcpuNum": 4
   },
   {
    "_defaultOrder": 23,
    "_isFastLaunch": false,
    "category": "Compute optimized",
    "gpuNum": 0,
    "hideHardwareSpecs": false,
    "memoryGiB": 16,
    "name": "ml.c5.2xlarge",
    "vcpuNum": 8
   },
   {
    "_defaultOrder": 24,
    "_isFastLaunch": false,
    "category": "Compute optimized",
    "gpuNum": 0,
    "hideHardwareSpecs": false,
    "memoryGiB": 32,
    "name": "ml.c5.4xlarge",
    "vcpuNum": 16
   },
   {
    "_defaultOrder": 25,
    "_isFastLaunch": false,
    "category": "Compute optimized",
    "gpuNum": 0,
    "hideHardwareSpecs": false,
    "memoryGiB": 72,
    "name": "ml.c5.9xlarge",
    "vcpuNum": 36
   },
   {
    "_defaultOrder": 26,
    "_isFastLaunch": false,
    "category": "Compute optimized",
    "gpuNum": 0,
    "hideHardwareSpecs": false,
    "memoryGiB": 96,
    "name": "ml.c5.12xlarge",
    "vcpuNum": 48
   },
   {
    "_defaultOrder": 27,
    "_isFastLaunch": false,
    "category": "Compute optimized",
    "gpuNum": 0,
    "hideHardwareSpecs": false,
    "memoryGiB": 144,
    "name": "ml.c5.18xlarge",
    "vcpuNum": 72
   },
   {
    "_defaultOrder": 28,
    "_isFastLaunch": false,
    "category": "Compute optimized",
    "gpuNum": 0,
    "hideHardwareSpecs": false,
    "memoryGiB": 192,
    "name": "ml.c5.24xlarge",
    "vcpuNum": 96
   },
   {
    "_defaultOrder": 29,
    "_isFastLaunch": true,
    "category": "Accelerated computing",
    "gpuNum": 1,
    "hideHardwareSpecs": false,
    "memoryGiB": 16,
    "name": "ml.g4dn.xlarge",
    "vcpuNum": 4
   },
   {
    "_defaultOrder": 30,
    "_isFastLaunch": false,
    "category": "Accelerated computing",
    "gpuNum": 1,
    "hideHardwareSpecs": false,
    "memoryGiB": 32,
    "name": "ml.g4dn.2xlarge",
    "vcpuNum": 8
   },
   {
    "_defaultOrder": 31,
    "_isFastLaunch": false,
    "category": "Accelerated computing",
    "gpuNum": 1,
    "hideHardwareSpecs": false,
    "memoryGiB": 64,
    "name": "ml.g4dn.4xlarge",
    "vcpuNum": 16
   },
   {
    "_defaultOrder": 32,
    "_isFastLaunch": false,
    "category": "Accelerated computing",
    "gpuNum": 1,
    "hideHardwareSpecs": false,
    "memoryGiB": 128,
    "name": "ml.g4dn.8xlarge",
    "vcpuNum": 32
   },
   {
    "_defaultOrder": 33,
    "_isFastLaunch": false,
    "category": "Accelerated computing",
    "gpuNum": 4,
    "hideHardwareSpecs": false,
    "memoryGiB": 192,
    "name": "ml.g4dn.12xlarge",
    "vcpuNum": 48
   },
   {
    "_defaultOrder": 34,
    "_isFastLaunch": false,
    "category": "Accelerated computing",
    "gpuNum": 1,
    "hideHardwareSpecs": false,
    "memoryGiB": 256,
    "name": "ml.g4dn.16xlarge",
    "vcpuNum": 64
   },
   {
    "_defaultOrder": 35,
    "_isFastLaunch": false,
    "category": "Accelerated computing",
    "gpuNum": 1,
    "hideHardwareSpecs": false,
    "memoryGiB": 61,
    "name": "ml.p3.2xlarge",
    "vcpuNum": 8
   },
   {
    "_defaultOrder": 36,
    "_isFastLaunch": false,
    "category": "Accelerated computing",
    "gpuNum": 4,
    "hideHardwareSpecs": false,
    "memoryGiB": 244,
    "name": "ml.p3.8xlarge",
    "vcpuNum": 32
   },
   {
    "_defaultOrder": 37,
    "_isFastLaunch": false,
    "category": "Accelerated computing",
    "gpuNum": 8,
    "hideHardwareSpecs": false,
    "memoryGiB": 488,
    "name": "ml.p3.16xlarge",
    "vcpuNum": 64
   },
   {
    "_defaultOrder": 38,
    "_isFastLaunch": false,
    "category": "Accelerated computing",
    "gpuNum": 8,
    "hideHardwareSpecs": false,
    "memoryGiB": 768,
    "name": "ml.p3dn.24xlarge",
    "vcpuNum": 96
   },
   {
    "_defaultOrder": 39,
    "_isFastLaunch": false,
    "category": "Memory Optimized",
    "gpuNum": 0,
    "hideHardwareSpecs": false,
    "memoryGiB": 16,
    "name": "ml.r5.large",
    "vcpuNum": 2
   },
   {
    "_defaultOrder": 40,
    "_isFastLaunch": false,
    "category": "Memory Optimized",
    "gpuNum": 0,
    "hideHardwareSpecs": false,
    "memoryGiB": 32,
    "name": "ml.r5.xlarge",
    "vcpuNum": 4
   },
   {
    "_defaultOrder": 41,
    "_isFastLaunch": false,
    "category": "Memory Optimized",
    "gpuNum": 0,
    "hideHardwareSpecs": false,
    "memoryGiB": 64,
    "name": "ml.r5.2xlarge",
    "vcpuNum": 8
   },
   {
    "_defaultOrder": 42,
    "_isFastLaunch": false,
    "category": "Memory Optimized",
    "gpuNum": 0,
    "hideHardwareSpecs": false,
    "memoryGiB": 128,
    "name": "ml.r5.4xlarge",
    "vcpuNum": 16
   },
   {
    "_defaultOrder": 43,
    "_isFastLaunch": false,
    "category": "Memory Optimized",
    "gpuNum": 0,
    "hideHardwareSpecs": false,
    "memoryGiB": 256,
    "name": "ml.r5.8xlarge",
    "vcpuNum": 32
   },
   {
    "_defaultOrder": 44,
    "_isFastLaunch": false,
    "category": "Memory Optimized",
    "gpuNum": 0,
    "hideHardwareSpecs": false,
    "memoryGiB": 384,
    "name": "ml.r5.12xlarge",
    "vcpuNum": 48
   },
   {
    "_defaultOrder": 45,
    "_isFastLaunch": false,
    "category": "Memory Optimized",
    "gpuNum": 0,
    "hideHardwareSpecs": false,
    "memoryGiB": 512,
    "name": "ml.r5.16xlarge",
    "vcpuNum": 64
   },
   {
    "_defaultOrder": 46,
    "_isFastLaunch": false,
    "category": "Memory Optimized",
    "gpuNum": 0,
    "hideHardwareSpecs": false,
    "memoryGiB": 768,
    "name": "ml.r5.24xlarge",
    "vcpuNum": 96
   },
   {
    "_defaultOrder": 47,
    "_isFastLaunch": false,
    "category": "Accelerated computing",
    "gpuNum": 1,
    "hideHardwareSpecs": false,
    "memoryGiB": 16,
    "name": "ml.g5.xlarge",
    "vcpuNum": 4
   },
   {
    "_defaultOrder": 48,
    "_isFastLaunch": false,
    "category": "Accelerated computing",
    "gpuNum": 1,
    "hideHardwareSpecs": false,
    "memoryGiB": 32,
    "name": "ml.g5.2xlarge",
    "vcpuNum": 8
   },
   {
    "_defaultOrder": 49,
    "_isFastLaunch": false,
    "category": "Accelerated computing",
    "gpuNum": 1,
    "hideHardwareSpecs": false,
    "memoryGiB": 64,
    "name": "ml.g5.4xlarge",
    "vcpuNum": 16
   },
   {
    "_defaultOrder": 50,
    "_isFastLaunch": false,
    "category": "Accelerated computing",
    "gpuNum": 1,
    "hideHardwareSpecs": false,
    "memoryGiB": 128,
    "name": "ml.g5.8xlarge",
    "vcpuNum": 32
   },
   {
    "_defaultOrder": 51,
    "_isFastLaunch": false,
    "category": "Accelerated computing",
    "gpuNum": 1,
    "hideHardwareSpecs": false,
    "memoryGiB": 256,
    "name": "ml.g5.16xlarge",
    "vcpuNum": 64
   },
   {
    "_defaultOrder": 52,
    "_isFastLaunch": false,
    "category": "Accelerated computing",
    "gpuNum": 4,
    "hideHardwareSpecs": false,
    "memoryGiB": 192,
    "name": "ml.g5.12xlarge",
    "vcpuNum": 48
   },
   {
    "_defaultOrder": 53,
    "_isFastLaunch": false,
    "category": "Accelerated computing",
    "gpuNum": 4,
    "hideHardwareSpecs": false,
    "memoryGiB": 384,
    "name": "ml.g5.24xlarge",
    "vcpuNum": 96
   },
   {
    "_defaultOrder": 54,
    "_isFastLaunch": false,
    "category": "Accelerated computing",
    "gpuNum": 8,
    "hideHardwareSpecs": false,
    "memoryGiB": 768,
    "name": "ml.g5.48xlarge",
    "vcpuNum": 192
   },
   {
    "_defaultOrder": 55,
    "_isFastLaunch": false,
    "category": "Accelerated computing",
    "gpuNum": 8,
    "hideHardwareSpecs": false,
    "memoryGiB": 1152,
    "name": "ml.p4d.24xlarge",
    "vcpuNum": 96
   },
   {
    "_defaultOrder": 56,
    "_isFastLaunch": false,
    "category": "Accelerated computing",
    "gpuNum": 8,
    "hideHardwareSpecs": false,
    "memoryGiB": 1152,
    "name": "ml.p4de.24xlarge",
    "vcpuNum": 96
   }
  ],
  "instance_type": "ml.t3.medium",
  "kernelspec": {
   "display_name": "Python 3 (Data Science 3.0)",
   "language": "python",
   "name": "python3__SAGEMAKER_INTERNAL__arn:aws:sagemaker:eu-west-1:470317259841:image/sagemaker-data-science-310-v1"
  },
  "language_info": {
   "codemirror_mode": {
    "name": "ipython",
    "version": 3
   },
   "file_extension": ".py",
   "mimetype": "text/x-python",
   "name": "python",
   "nbconvert_exporter": "python",
   "pygments_lexer": "ipython3",
   "version": "3.10.6"
  }
 },
 "nbformat": 4,
 "nbformat_minor": 5
}
