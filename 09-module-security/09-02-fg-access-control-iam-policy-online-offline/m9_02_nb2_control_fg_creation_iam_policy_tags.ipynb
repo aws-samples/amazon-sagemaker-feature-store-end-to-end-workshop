{
 "cells": [
  {
   "cell_type": "markdown",
   "id": "584c4c68",
   "metadata": {},
   "source": [
    "## Module 9: Access control to Feature Store using Tags through Identity-based policy\n",
    "\n"
   ]
  },
  {
   "cell_type": "markdown",
   "id": "8f33e700",
   "metadata": {},
   "source": [
    "Tagging is a useful technique for adopting cloud management and governance techniques. However, it can be difficult to ensure proper tagging behavior if it isn't enforced through proper mechanisms. To meet security and compliance requirements, you may need fine-grained control over the tags that are applied to create a feature store. It is critical for customers that are required to audit access to feature data and ensure the right level of security is in place. In this notebook, we have achieved  this using AWS Identity and Access Management (IAM) policies.In our example, we assume the customer has identified some tags that must be present to help ensure proper security and governance. We show a way to enforce such a requirement."
   ]
  },
  {
   "cell_type": "markdown",
   "id": "c505fcd5",
   "metadata": {},
   "source": [
    "Identity-based policies decide whether someone can create, access, or delete AWS resources in an AWS account. By specifying the `RequestTag` condition key in the IAM policy, you can control access to Sagemaker API calls. For example, you require that a feature store created by an IAM user have a tag with the key environment and values `dev, production, or staging`. You will create an IAM policy with a `RequestTag` condition that denies access to the CreateFeatureGroup action until the tag value is in dev, production, or staging and attach it to the Sagemaker execution role. Now if an IAM user tries to create a feature store for customer data without any tags or tags other than expected values, the request will get denied. \n"
   ]
  },
  {
   "cell_type": "markdown",
   "id": "9e07d823",
   "metadata": {},
   "source": [
    "![FS_Diagram](../../images/fs_security_iam_policy_governance_tag.png)"
   ]
  },
  {
   "cell_type": "markdown",
   "id": "251e560a-eef8-43d4-80df-a6a41127ad30",
   "metadata": {},
   "source": [
    "#### Imports"
   ]
  },
  {
   "cell_type": "code",
   "execution_count": 22,
   "id": "c797e7e7",
   "metadata": {
    "tags": []
   },
   "outputs": [],
   "source": [
    "import sagemaker\n",
    "import boto3\n",
    "import sys\n",
    "import pandas as pd\n",
    "import numpy as np\n",
    "import io\n",
    "import time\n",
    "from time import gmtime, strftime, sleep\n",
    "import json\n",
    "import logging\n",
    "from sagemaker.session import Session\n",
    "from sagemaker import get_execution_role"
   ]
  },
  {
   "cell_type": "code",
   "execution_count": 23,
   "id": "f64dddbe-4eff-4fad-aa74-b37a96772e55",
   "metadata": {
    "tags": []
   },
   "outputs": [],
   "source": [
    "sm_version = sagemaker.__version__\n",
    "major, minor, patch = sm_version.split('.')\n",
    "if int(major) < 2 or int(minor) < 125:\n",
    "    subprocess.check_call([sys.executable, '-m', 'pip', 'install', 'sagemaker==2.125.0'])\n",
    "    importlib.reload(sagemaker)"
   ]
  },
  {
   "cell_type": "code",
   "execution_count": 24,
   "id": "bcc606c0-c846-4d4b-8551-bf6bdd7dc08e",
   "metadata": {
    "tags": []
   },
   "outputs": [],
   "source": [
    "logger = logging.getLogger('__name__')\n",
    "logger.setLevel(logging.DEBUG)\n",
    "logger.addHandler(logging.StreamHandler())"
   ]
  },
  {
   "cell_type": "markdown",
   "id": "5dc978a6",
   "metadata": {},
   "source": [
    "#### Initialize default parameters\n"
   ]
  },
  {
   "cell_type": "code",
   "execution_count": 25,
   "id": "92792dbb",
   "metadata": {
    "tags": []
   },
   "outputs": [],
   "source": [
    "prefix = 'sagemaker-feature-store'\n",
    "role = get_execution_role()\n",
    "\n",
    "sagemaker_session = sagemaker.Session()\n",
    "region = sagemaker_session.boto_region_name\n",
    "s3_bucket_name = sagemaker_session.default_bucket()"
   ]
  },
  {
   "cell_type": "markdown",
   "id": "4b39cddf",
   "metadata": {},
   "source": [
    "#### Load and explore dataset\n",
    "In this notebook, we will be using the dataset created in Module 1/Prepare datasets of the workshop."
   ]
  },
  {
   "cell_type": "code",
   "execution_count": 26,
   "id": "2adeaa43",
   "metadata": {
    "tags": []
   },
   "outputs": [],
   "source": [
    "customer_data = pd.read_csv('../.././data/transformed/customers.csv')"
   ]
  },
  {
   "cell_type": "code",
   "execution_count": 27,
   "id": "be53f232",
   "metadata": {
    "tags": []
   },
   "outputs": [
    {
     "data": {
      "text/html": [
       "<div>\n",
       "<style scoped>\n",
       "    .dataframe tbody tr th:only-of-type {\n",
       "        vertical-align: middle;\n",
       "    }\n",
       "\n",
       "    .dataframe tbody tr th {\n",
       "        vertical-align: top;\n",
       "    }\n",
       "\n",
       "    .dataframe thead th {\n",
       "        text-align: right;\n",
       "    }\n",
       "</style>\n",
       "<table border=\"1\" class=\"dataframe\">\n",
       "  <thead>\n",
       "    <tr style=\"text-align: right;\">\n",
       "      <th></th>\n",
       "      <th>customer_id</th>\n",
       "      <th>sex</th>\n",
       "      <th>is_married</th>\n",
       "      <th>event_time</th>\n",
       "      <th>age_18-29</th>\n",
       "      <th>age_30-39</th>\n",
       "      <th>age_40-49</th>\n",
       "      <th>age_50-59</th>\n",
       "      <th>age_60-69</th>\n",
       "      <th>age_70-plus</th>\n",
       "      <th>n_days_active</th>\n",
       "    </tr>\n",
       "  </thead>\n",
       "  <tbody>\n",
       "    <tr>\n",
       "      <th>0</th>\n",
       "      <td>C1</td>\n",
       "      <td>0</td>\n",
       "      <td>0</td>\n",
       "      <td>2022-11-03T11:06:49.595Z</td>\n",
       "      <td>0</td>\n",
       "      <td>0</td>\n",
       "      <td>0</td>\n",
       "      <td>1</td>\n",
       "      <td>0</td>\n",
       "      <td>0</td>\n",
       "      <td>0.026027</td>\n",
       "    </tr>\n",
       "    <tr>\n",
       "      <th>1</th>\n",
       "      <td>C2</td>\n",
       "      <td>1</td>\n",
       "      <td>0</td>\n",
       "      <td>2022-11-03T11:06:49.597Z</td>\n",
       "      <td>1</td>\n",
       "      <td>0</td>\n",
       "      <td>0</td>\n",
       "      <td>0</td>\n",
       "      <td>0</td>\n",
       "      <td>0</td>\n",
       "      <td>0.077397</td>\n",
       "    </tr>\n",
       "    <tr>\n",
       "      <th>2</th>\n",
       "      <td>C3</td>\n",
       "      <td>0</td>\n",
       "      <td>1</td>\n",
       "      <td>2022-11-03T11:06:49.599Z</td>\n",
       "      <td>0</td>\n",
       "      <td>0</td>\n",
       "      <td>0</td>\n",
       "      <td>0</td>\n",
       "      <td>1</td>\n",
       "      <td>0</td>\n",
       "      <td>0.821233</td>\n",
       "    </tr>\n",
       "    <tr>\n",
       "      <th>3</th>\n",
       "      <td>C4</td>\n",
       "      <td>1</td>\n",
       "      <td>1</td>\n",
       "      <td>2022-11-03T11:06:49.600Z</td>\n",
       "      <td>0</td>\n",
       "      <td>0</td>\n",
       "      <td>0</td>\n",
       "      <td>1</td>\n",
       "      <td>0</td>\n",
       "      <td>0</td>\n",
       "      <td>0.887671</td>\n",
       "    </tr>\n",
       "    <tr>\n",
       "      <th>4</th>\n",
       "      <td>C5</td>\n",
       "      <td>0</td>\n",
       "      <td>1</td>\n",
       "      <td>2022-11-03T11:06:49.602Z</td>\n",
       "      <td>0</td>\n",
       "      <td>1</td>\n",
       "      <td>0</td>\n",
       "      <td>0</td>\n",
       "      <td>0</td>\n",
       "      <td>0</td>\n",
       "      <td>0.265753</td>\n",
       "    </tr>\n",
       "  </tbody>\n",
       "</table>\n",
       "</div>"
      ],
      "text/plain": [
       "  customer_id  sex  is_married                event_time  age_18-29  \\\n",
       "0          C1    0           0  2022-11-03T11:06:49.595Z          0   \n",
       "1          C2    1           0  2022-11-03T11:06:49.597Z          1   \n",
       "2          C3    0           1  2022-11-03T11:06:49.599Z          0   \n",
       "3          C4    1           1  2022-11-03T11:06:49.600Z          0   \n",
       "4          C5    0           1  2022-11-03T11:06:49.602Z          0   \n",
       "\n",
       "   age_30-39  age_40-49  age_50-59  age_60-69  age_70-plus  n_days_active  \n",
       "0          0          0          1          0            0       0.026027  \n",
       "1          0          0          0          0            0       0.077397  \n",
       "2          0          0          0          1            0       0.821233  \n",
       "3          0          0          1          0            0       0.887671  \n",
       "4          1          0          0          0            0       0.265753  "
      ]
     },
     "execution_count": 27,
     "metadata": {},
     "output_type": "execute_result"
    }
   ],
   "source": [
    "customer_data.head()"
   ]
  },
  {
   "cell_type": "markdown",
   "id": "3f5cca64",
   "metadata": {},
   "source": [
    "### IAM policy update\n",
    "Add the below policy to the IAM role (SageMaker Execution Role) used for this notebook as inline policy. It will allow you to modify the IAM policy programatically in the following sections.\n",
    "```\n",
    "{\n",
    "    \"Version\": \"2012-10-17\",\n",
    "    \"Statement\": [\n",
    "        {\n",
    "            \"Sid\": \"VisualEditor0\",\n",
    "            \"Effect\": \"Allow\",\n",
    "            \"Action\": [\n",
    "                \"iam:CreatePolicy\",\n",
    "                \"iam:DetachRolePolicy\",\n",
    "                \"iam:ListAttachedRolePolicies\",\n",
    "                \"iam:DeletePolicy\",\n",
    "                \"iam:AttachRolePolicy\"\n",
    "            ],\n",
    "            \"Resource\": \"*\"\n",
    "        }\n",
    "    ]\n",
    "}\n",
    "```"
   ]
  },
  {
   "cell_type": "markdown",
   "id": "a14012a9",
   "metadata": {},
   "source": [
    "### Create and add IAM policies based on tags to the existing role\n"
   ]
  },
  {
   "cell_type": "markdown",
   "id": "b2770d5d",
   "metadata": {},
   "source": [
    "Define IAM policies to restrict feature store creation without specific tags"
   ]
  },
  {
   "cell_type": "code",
   "execution_count": 28,
   "id": "d9347a62",
   "metadata": {
    "tags": []
   },
   "outputs": [],
   "source": [
    "\"\"\"creation of iam policy to restrict feature store creation without specific tags.\"\"\"\n",
    "    \n",
    "_iam_tag_policy = {\n",
    "\n",
    "                        \"Version\": \"2012-10-17\",\n",
    "                        \"Statement\": [\n",
    "                            {\n",
    "                                \"Effect\": \"Deny\",\n",
    "                                \"Action\": \"sagemaker:CreateFeatureGroup\",\n",
    "                                \"Resource\": \"arn:aws:sagemaker:*:*:feature-group/*\",\n",
    "                                \"Condition\": {\n",
    "                                    \"StringNotEquals\": {\n",
    "                                        \"aws:RequestTag/environment\": [\n",
    "                                            \"dev\",\n",
    "                                            \"production\",\n",
    "                                            \"staging\"\n",
    "                                        ]\n",
    "                                    }\n",
    "                                }\n",
    "                            }\n",
    "                        ]\n",
    "                    }"
   ]
  },
  {
   "cell_type": "markdown",
   "id": "f69513d4",
   "metadata": {},
   "source": [
    "Create IAM policies and attach them to the IAM role (SageMaker Execution Role)"
   ]
  },
  {
   "cell_type": "code",
   "execution_count": 12,
   "id": "471429e8",
   "metadata": {
    "tags": []
   },
   "outputs": [],
   "source": [
    "# Attach IAM policy to restrict SageMaker Execution Role\n",
    "timestamp = int(time.time())\n",
    "iam_client = boto3.client('iam')\n",
    "role_name = role.split('/')[-1] # get the role name from role arn\n",
    "\n",
    "policy_res = iam_client.create_policy(\n",
    "    PolicyName=f'Amazon_SageMaker_Tag_Policy_{timestamp}',\n",
    "    PolicyDocument=json.dumps(_iam_tag_policy)\n",
    ")\n",
    "policy_arn = policy_res['Policy']['Arn']\n",
    "\n",
    "policy_attach_res = iam_client.attach_role_policy(\n",
    "    RoleName=role_name,\n",
    "    PolicyArn=policy_arn\n",
    ")\n",
    "## IAM is eventually consistent so added sleep to allow it to propogate to other regions\n",
    "time.sleep(120) "
   ]
  },
  {
   "cell_type": "markdown",
   "id": "17d2964c",
   "metadata": {},
   "source": [
    "Create a feature group\n"
   ]
  },
  {
   "cell_type": "code",
   "execution_count": 29,
   "id": "dc3dd1cb",
   "metadata": {
    "tags": []
   },
   "outputs": [],
   "source": [
    "customers_feature_group_name = \"customers-feature-group-\" + strftime(\"%d-%H-%M-%S\", gmtime())"
   ]
  },
  {
   "cell_type": "code",
   "execution_count": 30,
   "id": "59c9eae7",
   "metadata": {
    "tags": []
   },
   "outputs": [],
   "source": [
    "#Instantiate a FeatureGroup object for customers data_data\n",
    "from sagemaker.feature_store.feature_group import FeatureGroup\n",
    "\n",
    "customers_feature_group = FeatureGroup(\n",
    "    name=customers_feature_group_name, sagemaker_session=sagemaker_session\n",
    ")"
   ]
  },
  {
   "cell_type": "code",
   "execution_count": 31,
   "id": "423b6792",
   "metadata": {
    "tags": []
   },
   "outputs": [],
   "source": [
    "current_time_sec = int(round(time.time()))\n",
    "record_identifier_feature_name = \"customer_id\""
   ]
  },
  {
   "cell_type": "code",
   "execution_count": 32,
   "id": "7dc37940",
   "metadata": {
    "tags": []
   },
   "outputs": [],
   "source": [
    "#Append EventTime feature to your data frame. This parameter is required, and time stamps each data point\n",
    "customer_data[\"EventTime\"] = pd.Series([current_time_sec] * len(customer_data), dtype=\"float64\")"
   ]
  },
  {
   "cell_type": "code",
   "execution_count": 33,
   "id": "efe75f23",
   "metadata": {
    "tags": []
   },
   "outputs": [
    {
     "data": {
      "text/plain": [
       "[FeatureDefinition(feature_name='customer_id', feature_type=<FeatureTypeEnum.STRING: 'String'>),\n",
       " FeatureDefinition(feature_name='sex', feature_type=<FeatureTypeEnum.INTEGRAL: 'Integral'>),\n",
       " FeatureDefinition(feature_name='is_married', feature_type=<FeatureTypeEnum.INTEGRAL: 'Integral'>),\n",
       " FeatureDefinition(feature_name='event_time', feature_type=<FeatureTypeEnum.STRING: 'String'>),\n",
       " FeatureDefinition(feature_name='age_18-29', feature_type=<FeatureTypeEnum.INTEGRAL: 'Integral'>),\n",
       " FeatureDefinition(feature_name='age_30-39', feature_type=<FeatureTypeEnum.INTEGRAL: 'Integral'>),\n",
       " FeatureDefinition(feature_name='age_40-49', feature_type=<FeatureTypeEnum.INTEGRAL: 'Integral'>),\n",
       " FeatureDefinition(feature_name='age_50-59', feature_type=<FeatureTypeEnum.INTEGRAL: 'Integral'>),\n",
       " FeatureDefinition(feature_name='age_60-69', feature_type=<FeatureTypeEnum.INTEGRAL: 'Integral'>),\n",
       " FeatureDefinition(feature_name='age_70-plus', feature_type=<FeatureTypeEnum.INTEGRAL: 'Integral'>),\n",
       " FeatureDefinition(feature_name='n_days_active', feature_type=<FeatureTypeEnum.FRACTIONAL: 'Fractional'>),\n",
       " FeatureDefinition(feature_name='EventTime', feature_type=<FeatureTypeEnum.FRACTIONAL: 'Fractional'>)]"
      ]
     },
     "execution_count": 33,
     "metadata": {},
     "output_type": "execute_result"
    }
   ],
   "source": [
    "#Load feature definitions to your feature group.\n",
    "customers_feature_group.load_feature_definitions(data_frame=customer_data)"
   ]
  },
  {
   "cell_type": "markdown",
   "id": "74d1d6d6",
   "metadata": {},
   "source": [
    "### 1. Test Deny when creating a feature store without a tag"
   ]
  },
  {
   "cell_type": "markdown",
   "id": "d8ec1238-8c45-4253-87e2-0add9b688125",
   "metadata": {},
   "source": [
    "You should receive an error message in this scenario. `An error occurred (AccessDeniedException) when calling the CreateFeatureGroup operation: User: arn:aws:sts::*ACCOUNT-ID*:assumed-role/AmazonSageMaker-ExecutionRole-*ID*/SageMaker is not authorized to perform: sagemaker:CreateFeatureGroup on resource: arn:aws:sagemaker:*REGION*:*ACCOUNT-ID*:feature-group/customers-feature-group-*TIMESTAMP* with an explicit deny in an identity-based policy`"
   ]
  },
  {
   "cell_type": "code",
   "execution_count": 34,
   "id": "030f4553",
   "metadata": {
    "tags": []
   },
   "outputs": [
    {
     "ename": "ClientError",
     "evalue": "An error occurred (AccessDeniedException) when calling the CreateFeatureGroup operation: User: arn:aws:sts::227246955871:assumed-role/AmazonSageMaker-ExecutionRole-20220810T165739/SageMaker is not authorized to perform: sagemaker:CreateFeatureGroup on resource: arn:aws:sagemaker:us-west-2:227246955871:feature-group/customers-feature-group-09-14-17-58 with an explicit deny in an identity-based policy",
     "output_type": "error",
     "traceback": [
      "\u001b[0;31m---------------------------------------------------------------------------\u001b[0m",
      "\u001b[0;31mClientError\u001b[0m                               Traceback (most recent call last)",
      "\u001b[0;32m<ipython-input-34-e81bb967ffba>\u001b[0m in \u001b[0;36m<module>\u001b[0;34m\u001b[0m\n\u001b[1;32m      4\u001b[0m     \u001b[0mevent_time_feature_name\u001b[0m\u001b[0;34m=\u001b[0m\u001b[0;34m\"EventTime\"\u001b[0m\u001b[0;34m,\u001b[0m\u001b[0;34m\u001b[0m\u001b[0;34m\u001b[0m\u001b[0m\n\u001b[1;32m      5\u001b[0m     \u001b[0mrole_arn\u001b[0m\u001b[0;34m=\u001b[0m\u001b[0mrole\u001b[0m\u001b[0;34m,\u001b[0m\u001b[0;34m\u001b[0m\u001b[0;34m\u001b[0m\u001b[0m\n\u001b[0;32m----> 6\u001b[0;31m     \u001b[0menable_online_store\u001b[0m\u001b[0;34m=\u001b[0m\u001b[0;32mTrue\u001b[0m\u001b[0;34m\u001b[0m\u001b[0;34m\u001b[0m\u001b[0m\n\u001b[0m\u001b[1;32m      7\u001b[0m )\n",
      "\u001b[0;32m/opt/conda/lib/python3.7/site-packages/sagemaker/feature_store/feature_group.py\u001b[0m in \u001b[0;36mcreate\u001b[0;34m(self, s3_uri, record_identifier_name, event_time_feature_name, role_arn, online_store_kms_key_id, enable_online_store, offline_store_kms_key_id, disable_glue_table_creation, data_catalog_config, description, tags, table_format)\u001b[0m\n\u001b[1;32m    531\u001b[0m             )\n\u001b[1;32m    532\u001b[0m \u001b[0;34m\u001b[0m\u001b[0m\n\u001b[0;32m--> 533\u001b[0;31m         \u001b[0;32mreturn\u001b[0m \u001b[0mself\u001b[0m\u001b[0;34m.\u001b[0m\u001b[0msagemaker_session\u001b[0m\u001b[0;34m.\u001b[0m\u001b[0mcreate_feature_group\u001b[0m\u001b[0;34m(\u001b[0m\u001b[0;34m**\u001b[0m\u001b[0mcreate_feature_store_args\u001b[0m\u001b[0;34m)\u001b[0m\u001b[0;34m\u001b[0m\u001b[0;34m\u001b[0m\u001b[0m\n\u001b[0m\u001b[1;32m    534\u001b[0m \u001b[0;34m\u001b[0m\u001b[0m\n\u001b[1;32m    535\u001b[0m     \u001b[0;32mdef\u001b[0m \u001b[0mdelete\u001b[0m\u001b[0;34m(\u001b[0m\u001b[0mself\u001b[0m\u001b[0;34m)\u001b[0m\u001b[0;34m:\u001b[0m\u001b[0;34m\u001b[0m\u001b[0;34m\u001b[0m\u001b[0m\n",
      "\u001b[0;32m/opt/conda/lib/python3.7/site-packages/sagemaker/session.py\u001b[0m in \u001b[0;36mcreate_feature_group\u001b[0;34m(self, feature_group_name, record_identifier_name, event_time_feature_name, feature_definitions, role_arn, online_store_config, offline_store_config, description, tags)\u001b[0m\n\u001b[1;32m   4338\u001b[0m             \u001b[0mTags\u001b[0m\u001b[0;34m=\u001b[0m\u001b[0mtags\u001b[0m\u001b[0;34m,\u001b[0m\u001b[0;34m\u001b[0m\u001b[0;34m\u001b[0m\u001b[0m\n\u001b[1;32m   4339\u001b[0m         )\n\u001b[0;32m-> 4340\u001b[0;31m         \u001b[0;32mreturn\u001b[0m \u001b[0mself\u001b[0m\u001b[0;34m.\u001b[0m\u001b[0msagemaker_client\u001b[0m\u001b[0;34m.\u001b[0m\u001b[0mcreate_feature_group\u001b[0m\u001b[0;34m(\u001b[0m\u001b[0;34m**\u001b[0m\u001b[0mkwargs\u001b[0m\u001b[0;34m)\u001b[0m\u001b[0;34m\u001b[0m\u001b[0;34m\u001b[0m\u001b[0m\n\u001b[0m\u001b[1;32m   4341\u001b[0m \u001b[0;34m\u001b[0m\u001b[0m\n\u001b[1;32m   4342\u001b[0m     def describe_feature_group(\n",
      "\u001b[0;32m/opt/conda/lib/python3.7/site-packages/botocore/client.py\u001b[0m in \u001b[0;36m_api_call\u001b[0;34m(self, *args, **kwargs)\u001b[0m\n\u001b[1;32m    528\u001b[0m                 )\n\u001b[1;32m    529\u001b[0m             \u001b[0;31m# The \"self\" in this scope is referring to the BaseClient.\u001b[0m\u001b[0;34m\u001b[0m\u001b[0;34m\u001b[0m\u001b[0;34m\u001b[0m\u001b[0m\n\u001b[0;32m--> 530\u001b[0;31m             \u001b[0;32mreturn\u001b[0m \u001b[0mself\u001b[0m\u001b[0;34m.\u001b[0m\u001b[0m_make_api_call\u001b[0m\u001b[0;34m(\u001b[0m\u001b[0moperation_name\u001b[0m\u001b[0;34m,\u001b[0m \u001b[0mkwargs\u001b[0m\u001b[0;34m)\u001b[0m\u001b[0;34m\u001b[0m\u001b[0;34m\u001b[0m\u001b[0m\n\u001b[0m\u001b[1;32m    531\u001b[0m \u001b[0;34m\u001b[0m\u001b[0m\n\u001b[1;32m    532\u001b[0m         \u001b[0m_api_call\u001b[0m\u001b[0;34m.\u001b[0m\u001b[0m__name__\u001b[0m \u001b[0;34m=\u001b[0m \u001b[0mstr\u001b[0m\u001b[0;34m(\u001b[0m\u001b[0mpy_operation_name\u001b[0m\u001b[0;34m)\u001b[0m\u001b[0;34m\u001b[0m\u001b[0;34m\u001b[0m\u001b[0m\n",
      "\u001b[0;32m/opt/conda/lib/python3.7/site-packages/botocore/client.py\u001b[0m in \u001b[0;36m_make_api_call\u001b[0;34m(self, operation_name, api_params)\u001b[0m\n\u001b[1;32m    958\u001b[0m             \u001b[0merror_code\u001b[0m \u001b[0;34m=\u001b[0m \u001b[0mparsed_response\u001b[0m\u001b[0;34m.\u001b[0m\u001b[0mget\u001b[0m\u001b[0;34m(\u001b[0m\u001b[0;34m\"Error\"\u001b[0m\u001b[0;34m,\u001b[0m \u001b[0;34m{\u001b[0m\u001b[0;34m}\u001b[0m\u001b[0;34m)\u001b[0m\u001b[0;34m.\u001b[0m\u001b[0mget\u001b[0m\u001b[0;34m(\u001b[0m\u001b[0;34m\"Code\"\u001b[0m\u001b[0;34m)\u001b[0m\u001b[0;34m\u001b[0m\u001b[0;34m\u001b[0m\u001b[0m\n\u001b[1;32m    959\u001b[0m             \u001b[0merror_class\u001b[0m \u001b[0;34m=\u001b[0m \u001b[0mself\u001b[0m\u001b[0;34m.\u001b[0m\u001b[0mexceptions\u001b[0m\u001b[0;34m.\u001b[0m\u001b[0mfrom_code\u001b[0m\u001b[0;34m(\u001b[0m\u001b[0merror_code\u001b[0m\u001b[0;34m)\u001b[0m\u001b[0;34m\u001b[0m\u001b[0;34m\u001b[0m\u001b[0m\n\u001b[0;32m--> 960\u001b[0;31m             \u001b[0;32mraise\u001b[0m \u001b[0merror_class\u001b[0m\u001b[0;34m(\u001b[0m\u001b[0mparsed_response\u001b[0m\u001b[0;34m,\u001b[0m \u001b[0moperation_name\u001b[0m\u001b[0;34m)\u001b[0m\u001b[0;34m\u001b[0m\u001b[0;34m\u001b[0m\u001b[0m\n\u001b[0m\u001b[1;32m    961\u001b[0m         \u001b[0;32melse\u001b[0m\u001b[0;34m:\u001b[0m\u001b[0;34m\u001b[0m\u001b[0;34m\u001b[0m\u001b[0m\n\u001b[1;32m    962\u001b[0m             \u001b[0;32mreturn\u001b[0m \u001b[0mparsed_response\u001b[0m\u001b[0;34m\u001b[0m\u001b[0;34m\u001b[0m\u001b[0m\n",
      "\u001b[0;31mClientError\u001b[0m: An error occurred (AccessDeniedException) when calling the CreateFeatureGroup operation: User: arn:aws:sts::227246955871:assumed-role/AmazonSageMaker-ExecutionRole-20220810T165739/SageMaker is not authorized to perform: sagemaker:CreateFeatureGroup on resource: arn:aws:sagemaker:us-west-2:227246955871:feature-group/customers-feature-group-09-14-17-58 with an explicit deny in an identity-based policy"
     ]
    }
   ],
   "source": [
    "customers_feature_group.create(\n",
    "    s3_uri=f\"s3://{s3_bucket_name}/{prefix}\",\n",
    "    record_identifier_name=record_identifier_feature_name,\n",
    "    event_time_feature_name=\"EventTime\",\n",
    "    role_arn=role,\n",
    "    enable_online_store=True\n",
    ")"
   ]
  },
  {
   "cell_type": "markdown",
   "id": "696bf8cb",
   "metadata": {},
   "source": [
    "### 2. Test Deny when creating a feature store with an incorrect tag value"
   ]
  },
  {
   "cell_type": "markdown",
   "id": "4ab8fc0e-d2f0-4bac-bccc-d9f120c488d3",
   "metadata": {},
   "source": [
    "You should receive an error message in this scenario. `An error occurred (AccessDeniedException) when calling the CreateFeatureGroup operation: User: arn:aws:sts::*ACCOUNT-ID*:assumed-role/AmazonSageMaker-ExecutionRole-*ID*/SageMaker is not authorized to perform: sagemaker:CreateFeatureGroup on resource: arn:aws:sagemaker:*REGION*:*ACCOUNT-ID*:feature-group/customers-feature-group-*TIMESTAMP* with an explicit deny in an identity-based policy`"
   ]
  },
  {
   "cell_type": "code",
   "execution_count": 35,
   "id": "1273c340",
   "metadata": {
    "tags": []
   },
   "outputs": [
    {
     "ename": "ClientError",
     "evalue": "An error occurred (AccessDeniedException) when calling the CreateFeatureGroup operation: User: arn:aws:sts::227246955871:assumed-role/AmazonSageMaker-ExecutionRole-20220810T165739/SageMaker is not authorized to perform: sagemaker:CreateFeatureGroup on resource: arn:aws:sagemaker:us-west-2:227246955871:feature-group/customers-feature-group-09-14-17-58 with an explicit deny in an identity-based policy",
     "output_type": "error",
     "traceback": [
      "\u001b[0;31m---------------------------------------------------------------------------\u001b[0m",
      "\u001b[0;31mClientError\u001b[0m                               Traceback (most recent call last)",
      "\u001b[0;32m<ipython-input-35-84338a454ac2>\u001b[0m in \u001b[0;36m<module>\u001b[0;34m\u001b[0m\n\u001b[1;32m      5\u001b[0m     \u001b[0mrole_arn\u001b[0m\u001b[0;34m=\u001b[0m\u001b[0mrole\u001b[0m\u001b[0;34m,\u001b[0m\u001b[0;34m\u001b[0m\u001b[0;34m\u001b[0m\u001b[0m\n\u001b[1;32m      6\u001b[0m     \u001b[0menable_online_store\u001b[0m\u001b[0;34m=\u001b[0m\u001b[0;32mTrue\u001b[0m\u001b[0;34m,\u001b[0m\u001b[0;34m\u001b[0m\u001b[0;34m\u001b[0m\u001b[0m\n\u001b[0;32m----> 7\u001b[0;31m     \u001b[0mtags\u001b[0m\u001b[0;34m=\u001b[0m\u001b[0;34m[\u001b[0m\u001b[0;34m{\u001b[0m\u001b[0;34m'Key'\u001b[0m\u001b[0;34m:\u001b[0m\u001b[0;34m'environment'\u001b[0m\u001b[0;34m,\u001b[0m\u001b[0;34m'Value'\u001b[0m\u001b[0;34m:\u001b[0m\u001b[0;34m'qa'\u001b[0m\u001b[0;34m}\u001b[0m\u001b[0;34m]\u001b[0m\u001b[0;34m\u001b[0m\u001b[0;34m\u001b[0m\u001b[0m\n\u001b[0m\u001b[1;32m      8\u001b[0m )\n",
      "\u001b[0;32m/opt/conda/lib/python3.7/site-packages/sagemaker/feature_store/feature_group.py\u001b[0m in \u001b[0;36mcreate\u001b[0;34m(self, s3_uri, record_identifier_name, event_time_feature_name, role_arn, online_store_kms_key_id, enable_online_store, offline_store_kms_key_id, disable_glue_table_creation, data_catalog_config, description, tags, table_format)\u001b[0m\n\u001b[1;32m    531\u001b[0m             )\n\u001b[1;32m    532\u001b[0m \u001b[0;34m\u001b[0m\u001b[0m\n\u001b[0;32m--> 533\u001b[0;31m         \u001b[0;32mreturn\u001b[0m \u001b[0mself\u001b[0m\u001b[0;34m.\u001b[0m\u001b[0msagemaker_session\u001b[0m\u001b[0;34m.\u001b[0m\u001b[0mcreate_feature_group\u001b[0m\u001b[0;34m(\u001b[0m\u001b[0;34m**\u001b[0m\u001b[0mcreate_feature_store_args\u001b[0m\u001b[0;34m)\u001b[0m\u001b[0;34m\u001b[0m\u001b[0;34m\u001b[0m\u001b[0m\n\u001b[0m\u001b[1;32m    534\u001b[0m \u001b[0;34m\u001b[0m\u001b[0m\n\u001b[1;32m    535\u001b[0m     \u001b[0;32mdef\u001b[0m \u001b[0mdelete\u001b[0m\u001b[0;34m(\u001b[0m\u001b[0mself\u001b[0m\u001b[0;34m)\u001b[0m\u001b[0;34m:\u001b[0m\u001b[0;34m\u001b[0m\u001b[0;34m\u001b[0m\u001b[0m\n",
      "\u001b[0;32m/opt/conda/lib/python3.7/site-packages/sagemaker/session.py\u001b[0m in \u001b[0;36mcreate_feature_group\u001b[0;34m(self, feature_group_name, record_identifier_name, event_time_feature_name, feature_definitions, role_arn, online_store_config, offline_store_config, description, tags)\u001b[0m\n\u001b[1;32m   4338\u001b[0m             \u001b[0mTags\u001b[0m\u001b[0;34m=\u001b[0m\u001b[0mtags\u001b[0m\u001b[0;34m,\u001b[0m\u001b[0;34m\u001b[0m\u001b[0;34m\u001b[0m\u001b[0m\n\u001b[1;32m   4339\u001b[0m         )\n\u001b[0;32m-> 4340\u001b[0;31m         \u001b[0;32mreturn\u001b[0m \u001b[0mself\u001b[0m\u001b[0;34m.\u001b[0m\u001b[0msagemaker_client\u001b[0m\u001b[0;34m.\u001b[0m\u001b[0mcreate_feature_group\u001b[0m\u001b[0;34m(\u001b[0m\u001b[0;34m**\u001b[0m\u001b[0mkwargs\u001b[0m\u001b[0;34m)\u001b[0m\u001b[0;34m\u001b[0m\u001b[0;34m\u001b[0m\u001b[0m\n\u001b[0m\u001b[1;32m   4341\u001b[0m \u001b[0;34m\u001b[0m\u001b[0m\n\u001b[1;32m   4342\u001b[0m     def describe_feature_group(\n",
      "\u001b[0;32m/opt/conda/lib/python3.7/site-packages/botocore/client.py\u001b[0m in \u001b[0;36m_api_call\u001b[0;34m(self, *args, **kwargs)\u001b[0m\n\u001b[1;32m    528\u001b[0m                 )\n\u001b[1;32m    529\u001b[0m             \u001b[0;31m# The \"self\" in this scope is referring to the BaseClient.\u001b[0m\u001b[0;34m\u001b[0m\u001b[0;34m\u001b[0m\u001b[0;34m\u001b[0m\u001b[0m\n\u001b[0;32m--> 530\u001b[0;31m             \u001b[0;32mreturn\u001b[0m \u001b[0mself\u001b[0m\u001b[0;34m.\u001b[0m\u001b[0m_make_api_call\u001b[0m\u001b[0;34m(\u001b[0m\u001b[0moperation_name\u001b[0m\u001b[0;34m,\u001b[0m \u001b[0mkwargs\u001b[0m\u001b[0;34m)\u001b[0m\u001b[0;34m\u001b[0m\u001b[0;34m\u001b[0m\u001b[0m\n\u001b[0m\u001b[1;32m    531\u001b[0m \u001b[0;34m\u001b[0m\u001b[0m\n\u001b[1;32m    532\u001b[0m         \u001b[0m_api_call\u001b[0m\u001b[0;34m.\u001b[0m\u001b[0m__name__\u001b[0m \u001b[0;34m=\u001b[0m \u001b[0mstr\u001b[0m\u001b[0;34m(\u001b[0m\u001b[0mpy_operation_name\u001b[0m\u001b[0;34m)\u001b[0m\u001b[0;34m\u001b[0m\u001b[0;34m\u001b[0m\u001b[0m\n",
      "\u001b[0;32m/opt/conda/lib/python3.7/site-packages/botocore/client.py\u001b[0m in \u001b[0;36m_make_api_call\u001b[0;34m(self, operation_name, api_params)\u001b[0m\n\u001b[1;32m    958\u001b[0m             \u001b[0merror_code\u001b[0m \u001b[0;34m=\u001b[0m \u001b[0mparsed_response\u001b[0m\u001b[0;34m.\u001b[0m\u001b[0mget\u001b[0m\u001b[0;34m(\u001b[0m\u001b[0;34m\"Error\"\u001b[0m\u001b[0;34m,\u001b[0m \u001b[0;34m{\u001b[0m\u001b[0;34m}\u001b[0m\u001b[0;34m)\u001b[0m\u001b[0;34m.\u001b[0m\u001b[0mget\u001b[0m\u001b[0;34m(\u001b[0m\u001b[0;34m\"Code\"\u001b[0m\u001b[0;34m)\u001b[0m\u001b[0;34m\u001b[0m\u001b[0;34m\u001b[0m\u001b[0m\n\u001b[1;32m    959\u001b[0m             \u001b[0merror_class\u001b[0m \u001b[0;34m=\u001b[0m \u001b[0mself\u001b[0m\u001b[0;34m.\u001b[0m\u001b[0mexceptions\u001b[0m\u001b[0;34m.\u001b[0m\u001b[0mfrom_code\u001b[0m\u001b[0;34m(\u001b[0m\u001b[0merror_code\u001b[0m\u001b[0;34m)\u001b[0m\u001b[0;34m\u001b[0m\u001b[0;34m\u001b[0m\u001b[0m\n\u001b[0;32m--> 960\u001b[0;31m             \u001b[0;32mraise\u001b[0m \u001b[0merror_class\u001b[0m\u001b[0;34m(\u001b[0m\u001b[0mparsed_response\u001b[0m\u001b[0;34m,\u001b[0m \u001b[0moperation_name\u001b[0m\u001b[0;34m)\u001b[0m\u001b[0;34m\u001b[0m\u001b[0;34m\u001b[0m\u001b[0m\n\u001b[0m\u001b[1;32m    961\u001b[0m         \u001b[0;32melse\u001b[0m\u001b[0;34m:\u001b[0m\u001b[0;34m\u001b[0m\u001b[0;34m\u001b[0m\u001b[0m\n\u001b[1;32m    962\u001b[0m             \u001b[0;32mreturn\u001b[0m \u001b[0mparsed_response\u001b[0m\u001b[0;34m\u001b[0m\u001b[0;34m\u001b[0m\u001b[0m\n",
      "\u001b[0;31mClientError\u001b[0m: An error occurred (AccessDeniedException) when calling the CreateFeatureGroup operation: User: arn:aws:sts::227246955871:assumed-role/AmazonSageMaker-ExecutionRole-20220810T165739/SageMaker is not authorized to perform: sagemaker:CreateFeatureGroup on resource: arn:aws:sagemaker:us-west-2:227246955871:feature-group/customers-feature-group-09-14-17-58 with an explicit deny in an identity-based policy"
     ]
    }
   ],
   "source": [
    "customers_feature_group.create(\n",
    "    s3_uri=f\"s3://{s3_bucket_name}/{prefix}\",\n",
    "    record_identifier_name=record_identifier_feature_name,\n",
    "    event_time_feature_name=\"EventTime\",\n",
    "    role_arn=role,\n",
    "    enable_online_store=True,\n",
    "    tags=[{'Key':'environment','Value':'qa'}]\n",
    ")"
   ]
  },
  {
   "cell_type": "markdown",
   "id": "a95c931c",
   "metadata": {},
   "source": [
    "### 3. Test allow when creating a feature store with a allowed tag value"
   ]
  },
  {
   "cell_type": "code",
   "execution_count": 36,
   "id": "e95a7875",
   "metadata": {
    "tags": []
   },
   "outputs": [
    {
     "data": {
      "text/plain": [
       "{'FeatureGroupArn': 'arn:aws:sagemaker:us-west-2:227246955871:feature-group/customers-feature-group-09-14-17-58',\n",
       " 'ResponseMetadata': {'RequestId': '42f2a810-5660-4103-afcc-1459dcbfb901',\n",
       "  'HTTPStatusCode': 200,\n",
       "  'HTTPHeaders': {'x-amzn-requestid': '42f2a810-5660-4103-afcc-1459dcbfb901',\n",
       "   'content-type': 'application/x-amz-json-1.1',\n",
       "   'content-length': '112',\n",
       "   'date': 'Thu, 09 Feb 2023 14:19:15 GMT'},\n",
       "  'RetryAttempts': 0}}"
      ]
     },
     "execution_count": 36,
     "metadata": {},
     "output_type": "execute_result"
    }
   ],
   "source": [
    "customers_feature_group.create(\n",
    "    s3_uri=f\"s3://{s3_bucket_name}/{prefix}\",\n",
    "    record_identifier_name=record_identifier_feature_name,\n",
    "    event_time_feature_name=\"EventTime\",\n",
    "    role_arn=role,\n",
    "    enable_online_store=True,\n",
    "    tags=[{'Key':'environment','Value':'staging'}]\n",
    ")"
   ]
  },
  {
   "cell_type": "markdown",
   "id": "e79f144b",
   "metadata": {},
   "source": [
    "### Clean up"
   ]
  },
  {
   "cell_type": "markdown",
   "id": "8783ec33",
   "metadata": {},
   "source": [
    "First delete the tag based granular access IAM policy "
   ]
  },
  {
   "cell_type": "code",
   "execution_count": 37,
   "id": "84d0bf1f",
   "metadata": {
    "tags": []
   },
   "outputs": [],
   "source": [
    "# Detach iam policy added to the SageMaker execution role\n",
    "policy_detach_res = iam_client.detach_role_policy(\n",
    "    RoleName=role_name,\n",
    "    PolicyArn=policy_arn\n",
    ")\n",
    "\n",
    "# Delete the IAM policy\n",
    "delete_policy_res = iam_client.delete_policy(\n",
    "    PolicyArn=policy_arn\n",
    ")"
   ]
  },
  {
   "cell_type": "markdown",
   "id": "4ad60363",
   "metadata": {},
   "source": [
    "Then delete the feature store"
   ]
  },
  {
   "cell_type": "code",
   "execution_count": 38,
   "id": "bacb89a5",
   "metadata": {
    "tags": []
   },
   "outputs": [
    {
     "name": "stdout",
     "output_type": "stream",
     "text": [
      "customers-feature-group-09-14-17-58 deleted.\n"
     ]
    }
   ],
   "source": [
    "feature_group_name = customers_feature_group.describe()['FeatureGroupName']\n",
    "index = 1\n",
    "while index < 10:\n",
    "    if customers_feature_group.describe()['FeatureGroupStatus'] == 'Created':\n",
    "       customers_feature_group.delete()\n",
    "       print(f\"{feature_group_name} deleted.\")\n",
    "       index = 10\n",
    "    elif customers_feature_group.describe()['FeatureGroupStatus'] == 'Creating':\n",
    "        print(f\"{feature_group_name} is still in Creating status. Will try delete operation after 10 seconds.\")\n",
    "        time.sleep(10)\n",
    "        index = index + 1"
   ]
  },
  {
   "cell_type": "markdown",
   "id": "4fdc9985",
   "metadata": {},
   "source": [
    "Finally delete the inline policy you added to the IAM role (SageMaker Execution Role) earlier in this notebook.\n",
    "```\n",
    "{\n",
    "    \"Version\": \"2012-10-17\",\n",
    "    \"Statement\": [\n",
    "        {\n",
    "            \"Sid\": \"VisualEditor0\",\n",
    "            \"Effect\": \"Allow\",\n",
    "            \"Action\": [\n",
    "                \"iam:CreatePolicy\",\n",
    "                \"iam:DetachRolePolicy\",\n",
    "                \"iam:ListAttachedRolePolicies\",\n",
    "                \"iam:DeletePolicy\",\n",
    "                \"iam:AttachRolePolicy\"\n",
    "            ],\n",
    "            \"Resource\": \"*\"\n",
    "        }\n",
    "    ]\n",
    "}\n",
    "```"
   ]
  },
  {
   "cell_type": "code",
   "execution_count": null,
   "id": "f99f2dbc",
   "metadata": {},
   "outputs": [],
   "source": []
  }
 ],
 "metadata": {
  "instance_type": "ml.t3.medium",
  "kernelspec": {
   "display_name": "Python 3 (Data Science)",
   "language": "python",
   "name": "python3__SAGEMAKER_INTERNAL__arn:aws:sagemaker:us-west-2:236514542706:image/datascience-1.0"
  },
  "language_info": {
   "codemirror_mode": {
    "name": "ipython",
    "version": 3
   },
   "file_extension": ".py",
   "mimetype": "text/x-python",
   "name": "python",
   "nbconvert_exporter": "python",
   "pygments_lexer": "ipython3",
   "version": "3.7.10"
  }
 },
 "nbformat": 4,
 "nbformat_minor": 5
}
