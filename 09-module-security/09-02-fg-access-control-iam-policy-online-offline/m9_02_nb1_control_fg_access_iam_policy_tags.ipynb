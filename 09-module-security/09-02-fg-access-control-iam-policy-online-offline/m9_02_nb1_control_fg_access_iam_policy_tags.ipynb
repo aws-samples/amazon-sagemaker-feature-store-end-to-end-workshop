{
 "cells": [
  {
   "cell_type": "markdown",
   "metadata": {},
   "source": [
    "## Module 9: Access control to online and offline feature store using IAM policies\n"
   ]
  },
  {
   "cell_type": "markdown",
   "metadata": {},
   "source": [
    "Feature Store helps improve security without affecting team productivity and innovation. Feature Store allows you to grant or deny access to individuals at the feature group-level and enables cross-account access to Feature Store. For example, you can set up developer accounts to access the offline store for model training and exploration that do not have write access to production accounts. You can set up production accounts to access both online and offline stores.  Similarly, you can setup Data Scientists that are consumers from one Business Unit with read access but Data Scientists from another Business Unit are a producer with write access."
   ]
  },
  {
   "cell_type": "markdown",
   "metadata": {},
   "source": [
    "![Granular Access using IAM Policy](../../images/fs_security_iam_policy_overview.png \"Granular Access using IAM Policy\")"
   ]
  },
  {
   "cell_type": "markdown",
   "metadata": {},
   "source": [
    "### IAM Roles"
   ]
  },
  {
   "cell_type": "markdown",
   "metadata": {},
   "source": [
    "You can use AWS Identity and Access Management (https://aws.amazon.com/iam/) (IAM) roles to give or restrict granular access to specific features for specific users or groups. This is applicable for both the online and offline feature store. Access control is enabled through both the API and AWS KMS key access.  For more information about using AWS KMS permissions for feature store access control, please refer to this document (https://docs.aws.amazon.com/sagemaker/latest/dg/feature-store-security.html)."
   ]
  },
  {
   "cell_type": "markdown",
   "metadata": {},
   "source": [
    "#### Imports "
   ]
  },
  {
   "cell_type": "code",
   "execution_count": 6,
   "metadata": {},
   "outputs": [],
   "source": [
    "from sagemaker.feature_store.feature_group import FeatureGroup\n",
    "from sagemaker import get_execution_role\n",
    "import sagemaker\n",
    "import logging\n",
    "import boto3\n",
    "import pandas as pd\n",
    "import time\n",
    "import re\n",
    "import os\n",
    "import sys\n",
    "import json\n",
    "import pandas as pd\n",
    "sys.path.append('../..')\n",
    "from utilities import Utils"
   ]
  },
  {
   "cell_type": "code",
   "execution_count": 7,
   "metadata": {},
   "outputs": [],
   "source": [
    "logger = logging.getLogger('__name__')\n",
    "logger.setLevel(logging.DEBUG)\n",
    "logger.addHandler(logging.StreamHandler())"
   ]
  },
  {
   "cell_type": "markdown",
   "metadata": {},
   "source": [
    "#### Initialize default parameters"
   ]
  },
  {
   "cell_type": "code",
   "execution_count": 8,
   "metadata": {},
   "outputs": [],
   "source": [
    "sagemaker_session = sagemaker.Session()\n",
    "account_id = sagemaker_session.account_id()\n",
    "role = sagemaker.get_execution_role()\n",
    "region = sagemaker_session.boto_region_name\n",
    "default_bucket = sagemaker_session.default_bucket()\n",
    "s3_client = boto3.client('s3', region_name=region)\n",
    "query_results= 'sagemaker-featurestore-workshop'\n",
    "prefix = 'sagemaker-feature-store'"
   ]
  },
  {
   "cell_type": "markdown",
   "metadata": {},
   "source": [
    "#### Initialize boto3 runtime"
   ]
  },
  {
   "cell_type": "code",
   "execution_count": 9,
   "metadata": {},
   "outputs": [],
   "source": [
    "boto_session = boto3.Session(region_name=region)\n",
    "sagemaker_client = boto_session.client(service_name='sagemaker', region_name=region)\n",
    "featurestore_runtime = boto_session.client(service_name='sagemaker-featurestore-runtime', region_name=region)\n",
    "\n",
    "feature_store_session = sagemaker.Session(boto_session=boto_session, \n",
    "                                          sagemaker_client=sagemaker_client, \n",
    "                                          sagemaker_featurestore_runtime_client=featurestore_runtime)"
   ]
  },
  {
   "cell_type": "markdown",
   "metadata": {},
   "source": [
    "#### Retrieve the orders products and customers feature group names"
   ]
  },
  {
   "cell_type": "markdown",
   "metadata": {},
   "source": [
    "In this notebook, we will be using the feature groups created in Module 1 of the workshop. In case you would like to use a different feature group, please uncomment and replace **ORDERS_FEATURE_GROUP_NAME**, **CUSTOMERS_FEATURE_GROUP_NAME**, **PRODUCTS_FEATURE_GROUP_NAME** with the name of your Feature Groups for example. "
   ]
  },
  {
   "cell_type": "code",
   "execution_count": null,
   "metadata": {},
   "outputs": [],
   "source": [
    "# Retrieve FG names (when running previous modules)\n",
    "%store -r customers_feature_group_name\n",
    "%store -r orders_feature_group_name\n",
    "%store -r products_feature_group_name\n",
    "\n",
    "#orders_feature_group_name = 'ORDERS_FEATURE_GROUP_NAME'\n",
    "#customers_feature_group_name = 'CUSTOMERS_FEATURE_GROUP_NAME'\n",
    "#products_feature_group_name = 'PRODUCTS_FEATURE_GROUP_NAME'\n",
    "\n",
    "logger.info(f'Customers feature group name = {customers_feature_group_name}')\n",
    "logger.info(f'Products feature group name = {products_feature_group_name}')\n",
    "logger.info(f'Orders feature group name = {orders_feature_group_name}')\n",
    "\n",
    "customers_fg = FeatureGroup(name=customers_feature_group_name, sagemaker_session=feature_store_session)  \n",
    "orders_fg = FeatureGroup(name=orders_feature_group_name, sagemaker_session=feature_store_session)\n",
    "products_fg = FeatureGroup(name=products_feature_group_name, sagemaker_session=feature_store_session)"
   ]
  },
  {
   "cell_type": "markdown",
   "metadata": {},
   "source": [
    "### IAM policy update\n",
    "Add the below policy to the IAM role (SageMaker Execution Role) used for this notebook as inline policy. These will allow you to modify the IAM policy programatically in the following sections.\n",
    "```\n",
    "{\n",
    "    \"Version\": \"2012-10-17\",\n",
    "    \"Statement\": [\n",
    "        {\n",
    "            \"Sid\": \"VisualEditor0\",\n",
    "            \"Effect\": \"Allow\",\n",
    "            \"Action\": [\n",
    "                \"iam:CreatePolicy\",\n",
    "                \"iam:DetachRolePolicy\",\n",
    "                \"iam:ListAttachedRolePolicies\",\n",
    "                \"iam:DeletePolicy\",\n",
    "                \"iam:AttachRolePolicy\"\n",
    "            ],\n",
    "            \"Resource\": \"*\"\n",
    "        }\n",
    "    ]\n",
    "}\n",
    "```"
   ]
  },
  {
   "cell_type": "code",
   "execution_count": null,
   "metadata": {},
   "outputs": [],
   "source": [
    "sagemaker_client.describe_feature_metadata(\n",
    "    FeatureGroupName='fscw-orders-02-13-20-20',\n",
    "    FeatureName=\"order_id\"\n",
    ")"
   ]
  },
  {
   "cell_type": "markdown",
   "metadata": {},
   "source": [
    "### Add tags to feature groups\n",
    "Tags are key value pairs and in this section you will create and add a tag to feature groups: *team=A* for *customers* feature group and *team=B* for *orders* feature group."
   ]
  },
  {
   "cell_type": "code",
   "execution_count": 7,
   "metadata": {},
   "outputs": [
    {
     "data": {
      "text/plain": [
       "{'Tags': [{'Key': 'team', 'Value': 'B'}],\n",
       " 'ResponseMetadata': {'RequestId': '479e451b-3eaa-45da-96bb-375714bb64d9',\n",
       "  'HTTPStatusCode': 200,\n",
       "  'HTTPHeaders': {'x-amzn-requestid': '479e451b-3eaa-45da-96bb-375714bb64d9',\n",
       "   'content-type': 'application/x-amz-json-1.1',\n",
       "   'content-length': '37',\n",
       "   'date': 'Tue, 17 May 2022 15:15:10 GMT'},\n",
       "  'RetryAttempts': 0}}"
      ]
     },
     "execution_count": 7,
     "metadata": {},
     "output_type": "execute_result"
    }
   ],
   "source": [
    "# Utility function to add tag to a feature group\n",
    "# If the same tag exists it overides previous value\n",
    "def feature_add_tag(fg_name, tag, value):\n",
    "\n",
    "    fg = FeatureGroup(name=fg_name, sagemaker_session=feature_store_session)    \n",
    "    fg_arn = fg.describe()['FeatureGroupArn']\n",
    "    \n",
    "    # Add the DataBrew Profile URL tag to FG\n",
    "    response = sagemaker_client.add_tags(\n",
    "        ResourceArn= fg_arn,\n",
    "        Tags=[\n",
    "            {\n",
    "                'Key': tag,\n",
    "                'Value': Utils._escape_tag_chars(value)\n",
    "            },\n",
    "        ]\n",
    "    )\n",
    "    \n",
    "    return response\n",
    "\n",
    "# Use utility function to add tags to feature groups\n",
    "fg_team_tag = 'team'\n",
    "\n",
    "# Add tag \"team\" and value \"A\" for customers, and \"B\" for orders\n",
    "feature_add_tag(customers_feature_group_name, fg_team_tag, \"A\")\n",
    "feature_add_tag(orders_feature_group_name, fg_team_tag, \"B\")\n",
    "    "
   ]
  },
  {
   "cell_type": "markdown",
   "metadata": {},
   "source": [
    "### Create and add IAM policies based on tags to the existing role"
   ]
  },
  {
   "cell_type": "markdown",
   "metadata": {},
   "source": [
    "Define IAM policies for offline feature store access and online feature store respectively"
   ]
  },
  {
   "cell_type": "code",
   "execution_count": 8,
   "metadata": {},
   "outputs": [],
   "source": [
    "\"\"\"creation of iam policy for offline feature store.\"\"\"\n",
    "    \n",
    "_iam_access_policy = {\n",
    "    \"Version\": \"2012-10-17\",\n",
    "    \"Statement\": [\n",
    "    {\n",
    "        \"Sid\": \"VisualEditor0\",\n",
    "        \"Effect\": \"Deny\",\n",
    "        \"Action\": [\n",
    "            \"sagemaker:DeleteFeatureGroup\",\n",
    "            \"sagemaker:DescribeFeatureGroup\",\n",
    "            \"sagemaker:CreateFeatureGroup\",\n",
    "            \"sagemaker:GetRecord\",\n",
    "        ],\n",
    "        \"Resource\": \"*\",\n",
    "        \"Condition\": {\n",
    "            \"ForAnyValue:StringEquals\": {\n",
    "                \"aws:ResourceTag/team\":\"A\"\n",
    "            }\n",
    "        }\n",
    "    }\n",
    "    ]\n",
    "}\n"
   ]
  },
  {
   "cell_type": "markdown",
   "metadata": {},
   "source": [
    "Create IAM policies and attach them to the IAM role (SageMaker Execution Role)"
   ]
  },
  {
   "cell_type": "code",
   "execution_count": 9,
   "metadata": {},
   "outputs": [],
   "source": [
    "# Attach IAM policy to restrict SageMaker Execution Role\n",
    "timestamp = int(time.time())\n",
    "iam_client = boto3.client('iam')\n",
    "role_name = role.split('/')[-1] # get the role name from role arn\n",
    "\n",
    "policy_res = iam_client.create_policy(\n",
    "    PolicyName=f'Amazon_SageMaker_Granular_Policy_{timestamp}',\n",
    "    PolicyDocument=json.dumps(_iam_access_policy)\n",
    ")\n",
    "policy_arn = policy_res['Policy']['Arn']\n",
    "\n",
    "policy_attach_res = iam_client.attach_role_policy(\n",
    "    RoleName=role_name,\n",
    "    PolicyArn=policy_arn\n",
    ")"
   ]
  },
  {
   "cell_type": "markdown",
   "metadata": {},
   "source": [
    "### 1. Test Deny with one tag and offline feature store"
   ]
  },
  {
   "cell_type": "markdown",
   "metadata": {},
   "source": [
    "**Open Feature Store and click on Feature group with tag team = \"A\"**, and the blow page show the describe api call failed due to the IAM policy.\n",
    "![access_deny](../../images/fs_security_access_deny.png) \n",
    "\n",
    "But when opening feature group with tag team = \"B\", the describe api call was successful\n",
    "\n",
    "![allow_access_team_b](../../images/fs_security_allow_access_team_b.png) "
   ]
  },
  {
   "cell_type": "markdown",
   "metadata": {},
   "source": [
    "### 2. Test Deny with API for online feature store"
   ]
  },
  {
   "cell_type": "markdown",
   "metadata": {},
   "source": [
    "In this test, you are calling the GetRecord API to retrieve a feature group record from customers feature group. It will fail because the SageMaker user does not have access to feature groups that are tagged with team \"A\"."
   ]
  },
  {
   "cell_type": "code",
   "execution_count": null,
   "metadata": {},
   "outputs": [],
   "source": [
    "customer_id = 'C7469'\n",
    "feature_record = featurestore_runtime.get_record(FeatureGroupName=customers_feature_group_name, RecordIdentifierValueAsString=str(customer_id))\n",
    "print(json.dumps(feature_record[\"Record\"], indent=2))"
   ]
  },
  {
   "cell_type": "markdown",
   "metadata": {},
   "source": [
    "In this test, you are calling the GetRecord API to retrieve a feature group record from orders feature group. It will be successful because the SageMaker user has been given access to feature groups except the ones that are tagged with team \"A\"."
   ]
  },
  {
   "cell_type": "code",
   "execution_count": null,
   "metadata": {},
   "outputs": [],
   "source": [
    "record_id = 'O2235'\n",
    "feature_record = featurestore_runtime.get_record(FeatureGroupName=orders_feature_group_name, RecordIdentifierValueAsString=str(record_id))\n",
    "print(json.dumps(feature_record[\"Record\"], indent=2))"
   ]
  },
  {
   "cell_type": "markdown",
   "metadata": {},
   "source": [
    "### Clean up"
   ]
  },
  {
   "cell_type": "markdown",
   "metadata": {},
   "source": [
    "First delete the tag based granular access IAM policy "
   ]
  },
  {
   "cell_type": "code",
   "execution_count": 15,
   "metadata": {},
   "outputs": [],
   "source": [
    "# Detach iam policy added to the SageMaker execution role\n",
    "policy_detach_res = iam_client.detach_role_policy(\n",
    "    RoleName=role_name,\n",
    "    PolicyArn=policy_arn\n",
    ")\n",
    "\n",
    "# Delete the IAM policy\n",
    "delete_policy_res = iam_client.delete_policy(\n",
    "    PolicyArn=policy_arn\n",
    ")\n"
   ]
  },
  {
   "cell_type": "markdown",
   "metadata": {},
   "source": [
    "Finally delete the inline policy you added to the IAM role (SageMaker Execution Role) earlier in this notebook.\n",
    "```\n",
    "{\n",
    "    \"Version\": \"2012-10-17\",\n",
    "    \"Statement\": [\n",
    "        {\n",
    "            \"Sid\": \"VisualEditor0\",\n",
    "            \"Effect\": \"Allow\",\n",
    "            \"Action\": [\n",
    "                \"iam:CreatePolicy\",\n",
    "                \"iam:DetachRolePolicy\",\n",
    "                \"iam:ListAttachedRolePolicies\",\n",
    "                \"iam:DeletePolicy\",\n",
    "                \"iam:AttachRolePolicy\"\n",
    "            ],\n",
    "            \"Resource\": \"*\"\n",
    "        }\n",
    "    ]\n",
    "}\n",
    "```"
   ]
  },
  {
   "cell_type": "code",
   "execution_count": null,
   "metadata": {},
   "outputs": [],
   "source": []
  }
 ],
 "metadata": {
  "celltoolbar": "Tags",
  "instance_type": "ml.t3.medium",
  "kernelspec": {
   "display_name": "Python 3 (Data Science)",
   "language": "python",
   "name": "python3__SAGEMAKER_INTERNAL__arn:aws:sagemaker:us-east-1:081325390199:image/datascience-1.0"
  },
  "language_info": {
   "codemirror_mode": {
    "name": "ipython",
    "version": 3
   },
   "file_extension": ".py",
   "mimetype": "text/x-python",
   "name": "python",
   "nbconvert_exporter": "python",
   "pygments_lexer": "ipython3",
   "version": "3.7.10"
  },
  "notice": "Copyright 2017 Amazon.com, Inc. or its affiliates. All Rights Reserved.  Licensed under the Apache License, Version 2.0 (the \"License\"). You may not use this file except in compliance with the License. A copy of the License is located at http://aws.amazon.com/apache2.0/ or in the \"license\" file accompanying this file. This file is distributed on an \"AS IS\" BASIS, WITHOUT WARRANTIES OR CONDITIONS OF ANY KIND, either express or implied. See the License for the specific language governing permissions and limitations under the License."
 },
 "nbformat": 4,
 "nbformat_minor": 4
}
