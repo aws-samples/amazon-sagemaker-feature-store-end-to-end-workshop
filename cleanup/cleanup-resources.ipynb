{
 "cells": [
  {
   "cell_type": "markdown",
   "metadata": {},
   "source": [
    "# Cleanup resources\n",
    "\n",
    "\n",
    "**This notebook ensures you delete all AWS resources that was created as part of this workshop**\n",
    "\n",
    "**Note:** Please set kernel to `Python 3 (Data Science)` and select instance to `ml.t3.medium`\n",
    "\n",
    "---\n",
    "\n",
    "## Contents\n",
    "\n",
    "1. [Setup](#Setup)\n",
    "1. [Collect feature groups to delete](#Collect-feature-groups-to-delete)\n",
    "1. [Delete feature groups and purge objects in Offline feature store](#Delete-feature-groups-and-purge-objects-in-Offline-feature-store)\n",
    "1. [Cleanup other S3 artifacts created as part of workshop](#Cleanup-other-S3-artifacts-created-as-part-of-workshop)\n",
    "1. [Delete SageMaker model endpoint ](#Delete-SageMaker-model-endpoint)"
   ]
  },
  {
   "cell_type": "markdown",
   "metadata": {},
   "source": [
    "# Setup"
   ]
  },
  {
   "cell_type": "code",
   "execution_count": null,
   "metadata": {},
   "outputs": [],
   "source": [
    "import sagemaker\n",
    "import logging\n",
    "import boto3"
   ]
  },
  {
   "cell_type": "code",
   "execution_count": null,
   "metadata": {},
   "outputs": [],
   "source": [
    "logger = logging.getLogger('__name__')\n",
    "logger.setLevel(logging.DEBUG)\n",
    "logger.addHandler(logging.StreamHandler())"
   ]
  },
  {
   "cell_type": "code",
   "execution_count": null,
   "metadata": {},
   "outputs": [],
   "source": [
    "boto_session = boto3.Session()\n",
    "region = boto_session.region_name\n",
    "account_id = boto3.client('sts').get_caller_identity()['Account']\n",
    "sagemaker_client = boto_session.client(service_name='sagemaker', region_name=region)\n",
    "s3 = boto3.resource('s3')\n",
    "\n",
    "sagemaker_session = sagemaker.Session()\n",
    "default_bucket = sagemaker_session.default_bucket()\n",
    "prefix = 'sagemaker-feature-store'"
   ]
  },
  {
   "cell_type": "markdown",
   "metadata": {},
   "source": [
    "# Collect feature groups to delete"
   ]
  },
  {
   "cell_type": "markdown",
   "metadata": {},
   "source": [
    "List and paginate feature groups to collect the ones created during this workshop"
   ]
  },
  {
   "cell_type": "code",
   "execution_count": null,
   "metadata": {},
   "outputs": [],
   "source": [
    "# Dict to store feature groups created by this workshop\n",
    "feature_groups_to_delete = []\n",
    "\n",
    "# Retrieve list of Feature Groups using filter subword ('fscw')\n",
    "next_token = None\n",
    "filter_subword = 'fscw'\n",
    "\n",
    "response = sagemaker_client.list_feature_groups(NameContains=filter_subword)\n",
    "# Collect Feature Group names from returned summaries\n",
    "fg_summaries = response['FeatureGroupSummaries']\n",
    "for summary in fg_summaries:\n",
    "    #print('#1> Appending> '+ summary['FeatureGroupName'])\n",
    "    feature_groups_to_delete.append(summary['FeatureGroupName'])\n",
    "\n",
    "# Capture NextToken from response, if it exists, for pagination\n",
    "if 'NextToken' in (response.keys()):\n",
    "    next_token = response['NextToken']\n",
    "\n",
    "\n",
    "while next_token:\n",
    "    # Retrieve next page of feature groups based on NextToken\n",
    "    response = sagemaker_client.list_feature_groups(NameContains=filter_subword, NextToken=next_token)\n",
    "    # Collect Feature Group names from returned summaries\n",
    "    fg_summaries = response['FeatureGroupSummaries']\n",
    "    for summary in fg_summaries:\n",
    "        #print('#2> Appending> '+ summary['FeatureGroupName'])\n",
    "        feature_groups_to_delete.append(summary['FeatureGroupName'])\n",
    "\n",
    "    # Capture NextToken from response, if it exists, for pagination\n",
    "    next_token = None\n",
    "    if 'NextToken' in (response.keys()):\n",
    "        next_token = response['NextToken']\n",
    "\n",
    "\n",
    "feature_groups_to_delete"
   ]
  },
  {
   "cell_type": "markdown",
   "metadata": {},
   "source": [
    "# Delete feature groups and purge objects in Offline feature store"
   ]
  },
  {
   "cell_type": "code",
   "execution_count": null,
   "metadata": {},
   "outputs": [],
   "source": [
    "def delete_offline_store(feature_group_name: str):\n",
    "    try:\n",
    "        response = sagemaker_client.describe_feature_group(FeatureGroupName=feature_group_name)\n",
    "        offline_store_config = response['OfflineStoreConfig']\n",
    "    except Exception:\n",
    "        print(response)\n",
    "        logger.error(f'Feature group: {feature_group_name} does NOT have an offline store!')\n",
    "        has_offline_store = False\n",
    "        return\n",
    "    \n",
    "    offline_store_s3_uri = offline_store_config['S3StorageConfig']['S3Uri']\n",
    "    offline_store_bucket = offline_store_s3_uri.split('s3://')[1].split('/')[0]\n",
    "    offline_store_prefix = '/'.join(offline_store_s3_uri.split('/')[3:])\n",
    "    full_prefix = f'{offline_store_prefix}/{account_id}/sagemaker/{region}/offline-store/{feature_group_name}'\n",
    "    \n",
    "    if full_prefix[0] == '/':\n",
    "        full_prefix = full_prefix[1:]\n",
    "        \n",
    "    bucket = s3.Bucket(offline_store_bucket)\n",
    "    filtered_objects = bucket.objects.filter(Prefix=full_prefix)\n",
    "    \n",
    "    object_count = 0\n",
    "    n_objects = len(list(filtered_objects))\n",
    "    logger.warning(f'You are about to delete {n_objects} objects in prefix: {full_prefix} in bucket: {offline_store_bucket}')\n",
    "    logger.warning(f'Are you sure you want to these objects ? (y/n)')\n",
    "    choice = input()\n",
    "    if choice == 'y':\n",
    "        filtered_objects.delete()"
   ]
  },
  {
   "cell_type": "code",
   "execution_count": null,
   "metadata": {},
   "outputs": [],
   "source": [
    "def interactive_cleanup(feature_group_names: list):\n",
    "    for feature_group_name in feature_group_names:\n",
    "        logger.info(f'Delete feature group {feature_group_name} ? (y/n)')\n",
    "        choice = input()\n",
    "        if choice == 'y':\n",
    "            logger.info(f'Delete offline store for {feature_group_name} ? (y/n)')\n",
    "            deletion_choice = input()\n",
    "            if deletion_choice == 'y':\n",
    "                delete_offline_store(feature_group_name)\n",
    "            logger.info(f'Deleting feature group: {feature_group_name} ...')\n",
    "            sagemaker_client.delete_feature_group(FeatureGroupName=feature_group_name)\n",
    "            logger.info(f'Deleted feature group: {feature_group_name}')"
   ]
  },
  {
   "cell_type": "code",
   "execution_count": null,
   "metadata": {},
   "outputs": [],
   "source": [
    "interactive_cleanup(feature_groups_to_delete)"
   ]
  },
  {
   "cell_type": "markdown",
   "metadata": {},
   "source": [
    "# Cleanup other S3 artifacts created as part of workshop"
   ]
  },
  {
   "cell_type": "code",
   "execution_count": null,
   "metadata": {},
   "outputs": [],
   "source": [
    "!aws s3 rm s3://{default_bucket}/{prefix}/fscw/ --recursive"
   ]
  },
  {
   "cell_type": "code",
   "execution_count": null,
   "metadata": {},
   "outputs": [],
   "source": [
    "!aws s3 rm s3://{default_bucket}/{prefix}/partitions/ --recursive"
   ]
  },
  {
   "cell_type": "markdown",
   "metadata": {},
   "source": [
    "# Delete SageMaker model endpoint"
   ]
  },
  {
   "cell_type": "code",
   "execution_count": null,
   "metadata": {},
   "outputs": [],
   "source": [
    "%store -r endpoint_name\n",
    "\n",
    "# retrieving endpoint name created in module 3\n",
    "model_endpoint_name = endpoint_name "
   ]
  },
  {
   "cell_type": "code",
   "execution_count": null,
   "metadata": {},
   "outputs": [],
   "source": [
    "response = sagemaker_client.describe_endpoint_config(EndpointConfigName=model_endpoint_name)\n",
    "model_name = response['ProductionVariants'][0]['ModelName']\n",
    "model_name"
   ]
  },
  {
   "cell_type": "code",
   "execution_count": null,
   "metadata": {},
   "outputs": [],
   "source": [
    "sagemaker_client.delete_model(ModelName=model_name)    "
   ]
  },
  {
   "cell_type": "code",
   "execution_count": null,
   "metadata": {},
   "outputs": [],
   "source": [
    "sagemaker_client.delete_endpoint(EndpointName=model_endpoint_name)"
   ]
  },
  {
   "cell_type": "code",
   "execution_count": null,
   "metadata": {},
   "outputs": [],
   "source": [
    "sagemaker_client.delete_endpoint_config(EndpointConfigName=model_endpoint_name)"
   ]
  },
  {
   "cell_type": "code",
   "execution_count": null,
   "metadata": {},
   "outputs": [],
   "source": []
  }
 ],
 "metadata": {
  "instance_type": "ml.t3.medium",
  "kernelspec": {
   "display_name": "Python 3 (Data Science)",
   "language": "python",
   "name": "python3__SAGEMAKER_INTERNAL__arn:aws:sagemaker:us-east-1:081325390199:image/datascience-1.0"
  },
  "language_info": {
   "codemirror_mode": {
    "name": "ipython",
    "version": 3
   },
   "file_extension": ".py",
   "mimetype": "text/x-python",
   "name": "python",
   "nbconvert_exporter": "python",
   "pygments_lexer": "ipython3",
   "version": "3.7.10"
  }
 },
 "nbformat": 4,
 "nbformat_minor": 4
}
