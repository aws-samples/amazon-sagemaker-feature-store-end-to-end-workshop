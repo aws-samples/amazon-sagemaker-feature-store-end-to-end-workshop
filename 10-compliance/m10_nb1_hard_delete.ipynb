{
 "cells": [
  {
   "cell_type": "markdown",
   "id": "65bd2951",
   "metadata": {},
   "source": [
    "# Module 2: Offline Store hard Delete\n"
   ]
  },
  {
   "cell_type": "markdown",
   "id": "93001c3d",
   "metadata": {},
   "source": [
    "---\n",
    "**Note:** Please set kernel to `Python 3 (Data Science)` and select instance to `ml.t3.medium`\n",
    "\n",
    "## Contents\n",
    "\n",
    "1. [Background](#Background)\n",
    "1. [Setup](#Setup)\n",
    "1. [Create Feature Group in Iceberg table format](#Create-Feature-Group-in-Iceberg-table-format)\n",
    "1. [Hard Delete Record using DeleteRecord API](#Hard-Delete-Record-using-DeleteRecord-API)\n",
    "2. [Hard Delete records from Offline store with Iceberg Compaction Procedures](#Hard-Delete-records-from-Offline-store-with-Iceberg-Compaction-Procedures)\n"
   ]
  },
  {
   "cell_type": "markdown",
   "id": "5fb98418",
   "metadata": {},
   "source": [
    "# Background"
   ]
  },
  {
   "cell_type": "markdown",
   "id": "358b68fc",
   "metadata": {},
   "source": [
    "\n"
   ]
  },
  {
   "cell_type": "markdown",
   "id": "7210e3bf",
   "metadata": {},
   "source": [
    "New regulations such as the European General Data Protection Regulation (GDPR), California Consumer Privacy Act (CCPA), and others have created new obligations that operators now need to be able to erase private data from their data stores when requested. Customers who need to comply with such regulations will need to guarantee their users data that needs to be forgotten is forgotten. This applies to data stores such as Feature Store. Customers are responsible for implementing processes and solutions to erase private data.\n",
    "\n",
    "In this notebook, you will learn how you can erase data from the online and offline feature store. We will talk about the concept of “hard-delete” in Iceberg which is removing the data entirely from feature store as opposed to \"soft-delete\" where we are flagging records as deleted without physically removing them from storage.\n",
    "\n",
    "SageMaker Feature store supports Apache Iceberg as a table format. Iceberg supports operations such as record-level insert, update, delete, and time travel queries. Iceberg tracks individual data files in a table instead of in directories. The table state is maintained in metadata files. All changes to the table state create a new metadata file version that automically replaces the older metadata. As a result simply deleting records are soft and the data still exists if you use time travel. \n",
    "\n",
    "Customers will have business logic to defines which feature records are to be deleted and which ones to retain. They can then decide how to handle the records identified for deletion. For example, users may want to run Athena delete queries and Athena vacuum queries on a schedule to remove records from the offline store (Amazon S3), or call Iceberg maintenance methods directly from Spark Commands. Customers can also leverage the DeleteRecord API to delete a record from a FeatureGroup in the OnlineStore. Feature Store supports both SoftDelete and HardDelete. \n",
    "\n",
    "This notebook will show how to remove data from the online and offline store using the DeleteRecord API and Amazon Athena procedures, which customers can leverage to implement their compliance workflows and policies. Source[1](https://docs.dremio.com/software/data-formats/apache-iceberg/).\n",
    "\n",
    "![Iceberg Architecture](../images/iceberg_architecture.png \"Iceberg Architecture\")\n"
   ]
  },
  {
   "cell_type": "markdown",
   "id": "8f23e6d1",
   "metadata": {},
   "source": [
    "# Setup"
   ]
  },
  {
   "cell_type": "markdown",
   "id": "614e4a31",
   "metadata": {},
   "source": [
    "#### Imports"
   ]
  },
  {
   "cell_type": "code",
   "execution_count": null,
   "id": "ee622efb",
   "metadata": {},
   "outputs": [],
   "source": [
    "import sagemaker\n",
    "import boto3\n",
    "import sys\n",
    "import pandas as pd\n",
    "import numpy as np\n",
    "import io\n",
    "import importlib\n",
    "from sagemaker.session import Session\n",
    "from sagemaker import get_execution_role\n",
    "from sagemaker.feature_store.feature_group import FeatureGroup\n",
    "from sagemaker.feature_store.inputs import TtlDuration\n",
    "from time import gmtime, strftime, sleep\n",
    "import subprocess\n",
    "import logging\n",
    "import time\n",
    "\n",
    "sys.path.append('..')\n",
    "from utilities import Utils"
   ]
  },
  {
   "cell_type": "code",
   "execution_count": null,
   "id": "dea5a8cc",
   "metadata": {},
   "outputs": [],
   "source": [
    "sm_version = sagemaker.__version__\n",
    "major, minor, patch = sm_version.split('.')\n",
    "if int(major) < 2 or int(minor) < 125:\n",
    "    subprocess.check_call([sys.executable, '-m', 'pip', 'install', 'sagemaker==2.125.0'])\n",
    "    importlib.reload(sagemaker)"
   ]
  },
  {
   "cell_type": "code",
   "execution_count": null,
   "id": "c25ec110",
   "metadata": {},
   "outputs": [],
   "source": [
    "logger = logging.getLogger('__name__')\n",
    "logger.setLevel(logging.DEBUG)\n",
    "logger.addHandler(logging.StreamHandler())"
   ]
  },
  {
   "cell_type": "code",
   "execution_count": null,
   "id": "85c2978c",
   "metadata": {},
   "outputs": [],
   "source": [
    "logger.info(f'Using SageMaker version: {sagemaker.__version__}')\n",
    "logger.info(f'Using Pandas version: {pd.__version__}')"
   ]
  },
  {
   "cell_type": "markdown",
   "id": "16eea690",
   "metadata": {},
   "source": [
    "#### Essentials"
   ]
  },
  {
   "cell_type": "code",
   "execution_count": null,
   "id": "2104e08e",
   "metadata": {},
   "outputs": [],
   "source": [
    "sagemaker_session = sagemaker.Session()\n",
    "role = sagemaker.get_execution_role()\n",
    "default_bucket = sagemaker_session.default_bucket()\n",
    "region = sagemaker_session.boto_region_name\n",
    "logger.info(f'Default S3 bucket = {default_bucket}')\n",
    "prefix = 'sagemaker-feature-store'\n",
    "# check if need this\n",
    "s3_bucket_name = sagemaker_session.default_bucket()\n",
    "\n",
    "featurestore_runtime_client = sagemaker_session.boto_session.client('sagemaker-featurestore-runtime', region_name=region)\n",
    "\n",
    "boto_session = boto3.Session(region_name=region)\n",
    "sagemaker_client = boto_session.client(service_name='sagemaker', region_name=region)\n",
    "featurestore_runtime = boto_session.client(service_name='sagemaker-featurestore-runtime', region_name=region)\n",
    "feature_store_session = sagemaker.Session(boto_session=boto_session, \n",
    "                                          sagemaker_client=sagemaker_client, \n",
    "                                          sagemaker_featurestore_runtime_client=featurestore_runtime_client)"
   ]
  },
  {
   "cell_type": "markdown",
   "id": "1caeeb98",
   "metadata": {},
   "source": [
    "#### Load datasets"
   ]
  },
  {
   "cell_type": "code",
   "execution_count": null,
   "id": "bfba4c48",
   "metadata": {},
   "outputs": [],
   "source": [
    "customers_df = pd.read_csv('.././data/transformed/customers.csv')\n",
    "customers_df.head(5)"
   ]
  },
  {
   "cell_type": "code",
   "execution_count": null,
   "id": "33141778-6992-4b8d-9f49-3c6c114c12eb",
   "metadata": {},
   "outputs": [],
   "source": [
    "customers_df = customers_df.convert_dtypes(infer_objects=True, convert_boolean=False)"
   ]
  },
  {
   "cell_type": "code",
   "execution_count": null,
   "id": "a388a0bf",
   "metadata": {},
   "outputs": [],
   "source": [
    "customers_df['customer_id'] = customers_df['customer_id'].astype('string')\n",
    "customers_df['event_time'] = customers_df['event_time'].astype('string')"
   ]
  },
  {
   "cell_type": "markdown",
   "id": "a83ddfcb",
   "metadata": {},
   "source": [
    "# Create Feature Group in Iceberg table format\n",
    "\n",
    "First, create a feature group with online and offline stores configured."
   ]
  },
  {
   "cell_type": "code",
   "execution_count": null,
   "id": "3102604a",
   "metadata": {},
   "outputs": [],
   "source": [
    "# define feature group name\n",
    "customers_feature_group_iceberg_name = \"customers-fg-iceberg-hd-\" + strftime(\"%d-%H-%M-%S\", gmtime())"
   ]
  },
  {
   "cell_type": "code",
   "execution_count": null,
   "id": "83424d0c",
   "metadata": {},
   "outputs": [],
   "source": [
    "customers_feature_group_iceberg = FeatureGroup(\n",
    "    name=customers_feature_group_iceberg_name, sagemaker_session=sagemaker_session\n",
    ")"
   ]
  },
  {
   "cell_type": "code",
   "execution_count": null,
   "id": "e69212bb-0008-4412-9297-f6698f305fc7",
   "metadata": {
    "tags": []
   },
   "outputs": [],
   "source": [
    "customers_feature_group_iceberg.load_feature_definitions(data_frame=customers_df)"
   ]
  },
  {
   "cell_type": "markdown",
   "id": "256c5726-a97b-44aa-b008-2154fe6aa434",
   "metadata": {},
   "source": [
    "Select Iceberg as a table format when creating new feature groups. A new optional parameter TableFormat can be configured either interactively using the Amazon SageMaker Studio, or through code using the API or the SDK. This parameter can accept the values ICEBERG, or GLUE for current Glue format.  The following code snippet shows you how to create a feature group using the Iceberg format and FeatureGroup.create API of the SageMaker SDK."
   ]
  },
  {
   "cell_type": "code",
   "execution_count": null,
   "id": "7d30b4cf",
   "metadata": {},
   "outputs": [],
   "source": [
    "from sagemaker.feature_store.inputs import TableFormatEnum, TtlDuration\n",
    "\n",
    "record_identifier_customer_feature_name = \"customer_id\"\n",
    "ttl_duration = TtlDuration(unit=\"Seconds\", value=30)\n",
    "\n",
    "customers_feature_group_iceberg.create(\n",
    "    s3_uri=f\"s3://{s3_bucket_name}/{prefix}\",\n",
    "    record_identifier_name=record_identifier_customer_feature_name,\n",
    "    event_time_feature_name=\"event_time\",\n",
    "    role_arn=role,\n",
    "    ttl_duration=ttl_duration,\n",
    "    enable_online_store=True,\n",
    "    table_format=TableFormatEnum.ICEBERG,\n",
    "\n",
    ")"
   ]
  },
  {
   "cell_type": "code",
   "execution_count": null,
   "id": "b719c909",
   "metadata": {},
   "outputs": [],
   "source": [
    "customers_feature_group_iceberg.describe()"
   ]
  },
  {
   "cell_type": "code",
   "execution_count": null,
   "id": "69e0ea60",
   "metadata": {},
   "outputs": [],
   "source": [
    "customers_fg = FeatureGroup(name=customers_feature_group_iceberg_name, sagemaker_session=feature_store_session)"
   ]
  },
  {
   "cell_type": "markdown",
   "id": "bf64e854-e891-43d1-8000-fcd5ac288f9b",
   "metadata": {},
   "source": [
    "### Ingest Data"
   ]
  },
  {
   "cell_type": "code",
   "execution_count": null,
   "id": "29f8c645-c145-4ce2-837c-2a804c8eeb4c",
   "metadata": {
    "tags": []
   },
   "outputs": [],
   "source": [
    "def wait_for_feature_group_creation_complete(feature_group):\n",
    "    status = feature_group.describe().get('FeatureGroupStatus')\n",
    "    print(f'Initial status: {status}')\n",
    "    while status == 'Creating':\n",
    "        logger.info(f'Waiting for feature group: {feature_group.name} to be created ...')\n",
    "        time.sleep(5)\n",
    "        status = feature_group.describe().get('FeatureGroupStatus')\n",
    "    if status != 'Created':\n",
    "        raise SystemExit(f'Failed to create feature group {feature_group.name}: {status}')\n",
    "    logger.info(f'FeatureGroup {feature_group.name} was successfully created.')"
   ]
  },
  {
   "cell_type": "code",
   "execution_count": null,
   "id": "5bf67a2d-4b5b-4977-aff9-fe3cb177bfc0",
   "metadata": {
    "tags": []
   },
   "outputs": [],
   "source": [
    "wait_for_feature_group_creation_complete(customers_fg)"
   ]
  },
  {
   "cell_type": "code",
   "execution_count": null,
   "id": "1f0ced10",
   "metadata": {},
   "outputs": [],
   "source": [
    "%%time\n",
    "logger.info(f'Ingesting data into feature group: {customers_fg.name} ...')\n",
    "customers_fg.ingest(data_frame=customers_df, max_processes=16, wait=True)\n",
    "logger.info(f'{len(customers_df)} orders records ingested into feature group: {customers_fg.name}')"
   ]
  },
  {
   "cell_type": "markdown",
   "id": "efa27c05",
   "metadata": {},
   "source": [
    "### Retrieve Sample Order (to be deleted)"
   ]
  },
  {
   "cell_type": "code",
   "execution_count": null,
   "id": "3a4b2242",
   "metadata": {},
   "outputs": [],
   "source": [
    "customers_query = customers_fg.athena_query()\n",
    "customers_table = customers_query.table_name\n",
    "customers_database = customers_query.database\n",
    "print(customers_table)\n",
    "print(customers_database)"
   ]
  },
  {
   "cell_type": "markdown",
   "id": "6c5fc328-18f5-4afe-9cf4-71fb7b33f080",
   "metadata": {},
   "source": [
    "<div class=\"alert alert-info\"> 💡 Note it takes a few mins for records to appear in the offline store\n",
    "</div>"
   ]
  },
  {
   "cell_type": "code",
   "execution_count": null,
   "id": "145364a8-5122-4e7b-a677-15a0304c1a1e",
   "metadata": {
    "tags": []
   },
   "outputs": [],
   "source": [
    "# Get random rows from Customers FG\n",
    "customers_sample_df = Utils.sample(customers_feature_group_iceberg_name, n=1)\n",
    "customers_sample_df.head()"
   ]
  },
  {
   "cell_type": "code",
   "execution_count": null,
   "id": "f22d6630-25c4-4d62-984f-8d85d0d65474",
   "metadata": {
    "tags": []
   },
   "outputs": [],
   "source": [
    "customers_sample_id = customers_sample_df['customer_id'][0]\n",
    "print(customers_sample_id)"
   ]
  },
  {
   "cell_type": "code",
   "execution_count": null,
   "id": "6c87d097-12a2-4764-a36f-41c8d71267a8",
   "metadata": {},
   "outputs": [],
   "source": [
    "query_results= 'sagemaker-featurestore/athena-results'\n",
    "output_location = f's3://{default_bucket}/{query_results}/query_results/'\n",
    "print(f'Athena query output location: \\n{output_location}')"
   ]
  },
  {
   "cell_type": "markdown",
   "id": "c641d1bb-8052-4630-8851-0608e2929569",
   "metadata": {},
   "source": [
    "# Hard Delete Record using DeleteRecord API"
   ]
  },
  {
   "cell_type": "markdown",
   "id": "fa78eff4-1c75-4e4f-9277-329b1f369b44",
   "metadata": {},
   "source": [
    "You can delete records using the [DeleteRecord API](https://docs.aws.amazon.com/sagemaker/latest/APIReference/API_feature_store_DeleteRecord.html) for Online and Offline stores. For HardDelete, the complete Record is removed from the OnlineStore. In both cases, Feature Store appends the deleted record marker to the OfflineStore.\n",
    "\n",
    "**Note**: Amazon SageMaker Feature Store provides the option for records to be hard deleted from the online store after a time duration is reached, with time to live (TTL) duration (TtlDuration). A record deleted using TtlDuration is hard deleted, or completely removed from the online store, and the deleted record is added to the offline store. For more information, please refer to the [document](https://docs.aws.amazon.com/sagemaker/latest/dg/feature-store-time-to-live.html). "
   ]
  },
  {
   "cell_type": "markdown",
   "id": "1b140e8a-0c3c-4617-bae1-615b5c19ee17",
   "metadata": {
    "tags": []
   },
   "source": [
    "![Iceberg Architecture](../images/smfs_hard_delete_1.png \"Iceberg Architecture\")"
   ]
  },
  {
   "cell_type": "markdown",
   "id": "708af52a-d25f-4d51-8280-5ddd47f43813",
   "metadata": {},
   "source": [
    "### Run DeleteRecord API"
   ]
  },
  {
   "cell_type": "markdown",
   "id": "0c7546d0-5af0-4e31-a4de-142ce1f1e3ae",
   "metadata": {},
   "source": [
    "For customers using online and offline Feature Groups, you have the ability to soft delete records in the online store. This is done using the [DeleteRecord](https://docs.aws.amazon.com/sagemaker/latest/APIReference/API_feature_store_DeleteRecord.html) API which will put delete marker (is_deleted) against the FG record."
   ]
  },
  {
   "cell_type": "code",
   "execution_count": null,
   "id": "5b3b8e0c-a676-44d8-aa10-7ac46c9486fe",
   "metadata": {
    "tags": []
   },
   "outputs": [],
   "source": [
    "from datetime import datetime, timezone, date\n",
    "\n",
    "def generate_event_timestamp():\n",
    "    # naive datetime representing local time\n",
    "    naive_dt = datetime.now()\n",
    "    # take timezone into account\n",
    "    aware_dt = naive_dt.astimezone()\n",
    "    # time in UTC\n",
    "    utc_dt = aware_dt.astimezone(timezone.utc)\n",
    "    # transform to ISO-8601 format\n",
    "    event_time = utc_dt.isoformat(timespec='milliseconds')\n",
    "    event_time = event_time.replace('+00:00', 'Z')\n",
    "    return event_time"
   ]
  },
  {
   "cell_type": "code",
   "execution_count": null,
   "id": "661a5465-b6de-4578-8374-1524f51bd2f1",
   "metadata": {
    "tags": []
   },
   "outputs": [],
   "source": [
    "delete_record_result = featurestore_runtime.delete_record(\n",
    "    FeatureGroupName=customers_feature_group_iceberg_name,\n",
    "    RecordIdentifierValueAsString=customers_sample_id,\n",
    "    EventTime=generate_event_timestamp(),\n",
    "    DeletionMode='HardDelete',\n",
    "    TargetStores=[\n",
    "        'OnlineStore', 'OfflineStore'\n",
    "    ]\n",
    ")"
   ]
  },
  {
   "cell_type": "markdown",
   "id": "5ffa49f7-795f-465d-ab14-f8a0bf264205",
   "metadata": {},
   "source": [
    "### Check that the record has been deleted from the online store"
   ]
  },
  {
   "cell_type": "code",
   "execution_count": null,
   "id": "a130c714-36ac-4d26-8fc2-66fa67e4c26c",
   "metadata": {
    "tags": []
   },
   "outputs": [],
   "source": [
    "import pprint\n",
    "pretty_printer = pprint.PrettyPrinter(indent=4)\n",
    "\n",
    "get_record_result = featurestore_runtime.get_record(\n",
    "    FeatureGroupName=customers_feature_group_iceberg_name,\n",
    "    RecordIdentifierValueAsString=customers_sample_id\n",
    ")\n",
    "pretty_printer.pprint(get_record_result)"
   ]
  },
  {
   "cell_type": "markdown",
   "id": "6cf1d468-5f43-4d6c-93b3-f28b3b93c60f",
   "metadata": {},
   "source": [
    "### Check the customer record has been marked as deleted in offline store"
   ]
  },
  {
   "cell_type": "markdown",
   "id": "8678d556-6c3e-4169-8d7d-143efe3df4ea",
   "metadata": {},
   "source": [
    "<div class=\"alert alert-info\"> 💡 Note it takes a few mins for records to appear in the offline store. You should see two records in the offline store for the sample customer_id, one with is_deleted=True and one with is_deleted=False.\n",
    "</div>"
   ]
  },
  {
   "cell_type": "code",
   "execution_count": null,
   "id": "b20a1a7a-1dda-414a-9e0e-462e5d0bdb78",
   "metadata": {
    "tags": []
   },
   "outputs": [],
   "source": [
    "customers_sample_id = customers_sample_id\n",
    "select_query_string = f'SELECT * ' \\\n",
    "    f'FROM \"{customers_database}\".\"{customers_table}\"' \\\n",
    "    f' WHERE customer_id =\\'{customers_sample_id}\\';'\n",
    "\n",
    "select_query_string"
   ]
  },
  {
   "cell_type": "code",
   "execution_count": null,
   "id": "a53b7789-e534-4ffa-86e2-b1a1c4cc277f",
   "metadata": {
    "tags": []
   },
   "outputs": [],
   "source": [
    "customers_query.run(query_string=select_query_string, output_location=output_location)\n",
    "customers_query.wait()\n",
    "select_record_df = customers_query.as_dataframe()\n",
    "select_record_df.head()"
   ]
  },
  {
   "cell_type": "markdown",
   "id": "8cc1f692-96f9-4ec4-8286-20f795422f55",
   "metadata": {},
   "source": [
    "Feature Store appends the deleted record marker to the OfflineStore. The deleted record marker is a record with the same RecordIdentifer as the original, but with `is_deleted` value set to `True`, `EventTime` set to the delete input `EventTime`, and other feature values set to `null`"
   ]
  },
  {
   "cell_type": "markdown",
   "id": "aebfb438-632d-484b-8501-9de98c7c6695",
   "metadata": {},
   "source": [
    "# Hard Delete records from Offline store with Iceberg Compaction Procedures"
   ]
  },
  {
   "cell_type": "markdown",
   "id": "6a7ee64e-8c95-4ee2-88fb-2bd10d53e706",
   "metadata": {},
   "source": [
    "![Iceberg Architecture](../images/smfs_hard_delete_2.png \"Iceberg Architecture\")"
   ]
  },
  {
   "cell_type": "markdown",
   "id": "4d25fdc2-06b7-4ebe-bace-9ec4ed7289ea",
   "metadata": {},
   "source": [
    "### Delete record from offline store based on deleted record marker"
   ]
  },
  {
   "cell_type": "code",
   "execution_count": null,
   "id": "7f5a4dfd-1e18-4370-8970-53066cf48bc8",
   "metadata": {
    "tags": []
   },
   "outputs": [],
   "source": [
    "delete_query_string = f'DELETE ' \\\n",
    "    f'FROM \"{customers_database}\".\"{customers_table}\"' \\\n",
    "    f' WHERE customer_id in (' \\\n",
    "    f'SELECT customer_id ' \\\n",
    "    f'FROM \"{customers_database}\".\"{customers_table}\"' \\\n",
    "    f' WHERE is_deleted =true);'\n",
    "\n",
    "delete_query_string"
   ]
  },
  {
   "cell_type": "code",
   "execution_count": null,
   "id": "dd03b5e4-5ad3-4c26-a714-d73b7c708f60",
   "metadata": {
    "tags": []
   },
   "outputs": [],
   "source": [
    "customers_query.run(query_string=delete_query_string, output_location=output_location)\n",
    "customers_query.wait()"
   ]
  },
  {
   "cell_type": "markdown",
   "id": "db86b261-195e-40c3-86aa-6053e91df912",
   "metadata": {},
   "source": [
    "<div class=\"alert alert-info\"> 💡 Iceberg generates a snapshot when you create, or modify, a table. A snapshot stores the state of a table. You can specify which snapshot you want to read, and then view the data at that timestamp. Snapshots can be used for time-travel queries, or the table can be rolled back to any valid snapshot. Snapshots accumulate until they are expired by the expireSnapshots operation. Regularly expiring snapshots is recommended to delete data files that are no longer needed, and to keep the size of table metadata small.\n",
    "</div>"
   ]
  },
  {
   "cell_type": "markdown",
   "id": "91e8458c-911c-4a87-a786-7bbc2945ba7b",
   "metadata": {},
   "source": [
    "By default, the data catalog points to the latest snapshot. Since the data files are rewritten on every update or delete, newer snapshots will refer to files that don’t have the deleted records, so when you try to retrieve the customer record without specifying the snapshot the delete record will not be found.\n",
    "\n",
    "The $snapshots table provides a detailed view of snapshots of the Iceberg table. A snapshot is the union of all files in its manifests. Manifest files can also be shared between snapshots to avoid rewriting metadata that changes infrequently."
   ]
  },
  {
   "cell_type": "code",
   "execution_count": null,
   "id": "72ea56bf-c4fb-472f-a745-c35416502d52",
   "metadata": {},
   "outputs": [],
   "source": [
    "snapshot_query_string = f'SELECT * ' \\\n",
    "    f'FROM \"{customers_database}\".\"{customers_table}$snapshots\"';\n",
    "\n",
    "snapshot_query_string"
   ]
  },
  {
   "cell_type": "code",
   "execution_count": null,
   "id": "5fefff52-67b8-4663-b682-7e297686eeef",
   "metadata": {},
   "outputs": [],
   "source": [
    "customers_query.run(query_string=snapshot_query_string, output_location=output_location)\n",
    "customers_query.wait()"
   ]
  },
  {
   "cell_type": "code",
   "execution_count": null,
   "id": "878d28cf-19b6-424b-8666-2f5311eacfc6",
   "metadata": {},
   "outputs": [],
   "source": [
    "snapshots_df = customers_query.as_dataframe()\n",
    "snapshots_df.head()"
   ]
  },
  {
   "cell_type": "markdown",
   "id": "ff0739ed-d76e-40c2-9320-c44fee8be0e8",
   "metadata": {},
   "source": [
    "Retrieve previous Snapshot ID and show that the customer record still exists in the offline feature store"
   ]
  },
  {
   "cell_type": "code",
   "execution_count": null,
   "id": "e8b9158a-af4f-43ad-8aa7-a97aa2f7f320",
   "metadata": {
    "tags": []
   },
   "outputs": [],
   "source": [
    "previous_snapshot_query_string = f'SELECT snapshot_id  ' \\\n",
    "    f'FROM \"{customers_database}\".\"{customers_table}$snapshots\"' \\\n",
    "    f'    WHERE snapshot_id IN (SELECT parent_id FROM \"{customers_database}\".\"{customers_table}$snapshots\" WHERE committed_at = (' \\\n",
    "    f'        SELECT MAX(committed_at) FROM \"{customers_database}\".\"{customers_table}$snapshots\"))' \\\n",
    "    f'    ORDER BY committed_at DESC' \\\n",
    "    f'    Limit 1';\n",
    "\n",
    "previous_snapshot_query_string"
   ]
  },
  {
   "cell_type": "code",
   "execution_count": null,
   "id": "bea7f03a-35d8-4db9-aac0-6f9700772736",
   "metadata": {
    "tags": []
   },
   "outputs": [],
   "source": [
    "customers_query.run(query_string=previous_snapshot_query_string, output_location=output_location)\n",
    "customers_query.wait()"
   ]
  },
  {
   "cell_type": "code",
   "execution_count": null,
   "id": "df3aaa98-3aab-48b3-a66b-5b7d25dbb167",
   "metadata": {
    "tags": []
   },
   "outputs": [],
   "source": [
    "previous_snapshot_df = customers_query.as_dataframe()\n",
    "snapshot_id = previous_snapshot_df['snapshot_id'][0]\n",
    "print(snapshot_id)"
   ]
  },
  {
   "cell_type": "markdown",
   "id": "e607d647-f01d-47d4-8f94-1d05f668c0c5",
   "metadata": {},
   "source": [
    "Retrieve Delete Record from previous Snapshot"
   ]
  },
  {
   "cell_type": "code",
   "execution_count": null,
   "id": "df318e0d-62c6-4ece-bd4a-67ce3d513742",
   "metadata": {
    "tags": []
   },
   "outputs": [],
   "source": [
    "deleted_record_query_string = f'SELECT *  ' \\\n",
    "    f'FROM \"{customers_database}\".\"{customers_table}\" FOR VERSION AS OF {snapshot_id}' \\\n",
    "    f'     WHERE customer_id =\\'{customers_sample_id}\\';'\n",
    "\n",
    "deleted_record_query_string"
   ]
  },
  {
   "cell_type": "code",
   "execution_count": null,
   "id": "4308cc3a-322c-48a7-88e1-e5709de5e820",
   "metadata": {
    "tags": []
   },
   "outputs": [],
   "source": [
    "customers_query.run(query_string=deleted_record_query_string, output_location=output_location)\n",
    "customers_query.wait()"
   ]
  },
  {
   "cell_type": "markdown",
   "id": "ecd25354-aad6-48d2-b464-eba1b7e61f6a",
   "metadata": {},
   "source": [
    "### Run Iceberg Compaction procedure for Snapshot Expiry"
   ]
  },
  {
   "cell_type": "markdown",
   "id": "0ebc8f1e-c54e-44a8-bd09-58e15f7fcd15",
   "metadata": {},
   "source": [
    "To perform Hard Delete of records in the offline store, we need to run \n",
    "* Iceberg compaction using Athena `OPTIMIZE table REWRITE DATA` query. Since newer snapshots where records are deleted may still refer to data files with deleted records. With compaction these records are reconciled using delete files that list deleted records. \n",
    "* Snapshot expiration older than retention period using Athena `VACUUM` query.\n",
    "\n",
    "In this example we will ALTER the vacuum_max_snapshot_age_seconds table property too a very low value for demonstration purpose (60 seconds). Customers have the ability to adjust this value according to their company policy.\n",
    "\n",
    "\n",
    "VACUUM removes snapshots that are older than the amount of time that is specified by the vacuum_max_snapshot_age_seconds table property. By default, this property is set to 432000 seconds (5 days)."
   ]
  },
  {
   "cell_type": "markdown",
   "id": "7941b771-dd11-4a9c-a505-f2c09e9107f0",
   "metadata": {},
   "source": [
    "#### Adjust vacuum_max_snapshot_age_seconds table property"
   ]
  },
  {
   "cell_type": "code",
   "execution_count": null,
   "id": "a6090461-de54-4576-b342-47b7f1e1281a",
   "metadata": {
    "tags": []
   },
   "outputs": [],
   "source": [
    "property_query_string = f'ALTER TABLE `{customers_table}` ' \\\n",
    "    f'SET TBLPROPERTIES (\\'vacuum_max_snapshot_age_seconds\\'=\\'60\\')';\n",
    "\n",
    "property_query_string"
   ]
  },
  {
   "cell_type": "code",
   "execution_count": null,
   "id": "01a38e88-eaa6-4711-ad0f-2a4f05efbe9e",
   "metadata": {
    "tags": []
   },
   "outputs": [],
   "source": [
    "customers_query.run(query_string=property_query_string, output_location=output_location)\n",
    "customers_query.wait()"
   ]
  },
  {
   "cell_type": "markdown",
   "id": "bc4bb237-ba75-4c31-a64e-a901d844d5ae",
   "metadata": {},
   "source": [
    "#### Compaction and Vacuum"
   ]
  },
  {
   "cell_type": "code",
   "execution_count": null,
   "id": "1bd3dc32-e48e-4361-be18-fca47f33971b",
   "metadata": {},
   "outputs": [],
   "source": [
    "!pip3 install pyspark\n",
    "!pip3 install git+https://github.com/awslabs/aws-glue-libs.git"
   ]
  },
  {
   "cell_type": "code",
   "execution_count": null,
   "id": "e548e8f5-faae-458f-9cfd-53524e00d7cd",
   "metadata": {},
   "outputs": [],
   "source": [
    "!python ../02-module-working-with-offline-store/smfs_offline_compaction.py --region {region} --database {customers_database} --table {customers_table} --workgroup primary --outputlocation {output_location}"
   ]
  },
  {
   "cell_type": "markdown",
   "id": "dbf92b3d-a803-4841-9293-0156f94783d2",
   "metadata": {},
   "source": [
    "#### Query post procedures"
   ]
  },
  {
   "cell_type": "markdown",
   "id": "9f8cf71a-02d8-4925-b99d-a03d9b1ab0c6",
   "metadata": {},
   "source": [
    "The Snapshots have expired and the data is no longer present for this customer record."
   ]
  },
  {
   "cell_type": "code",
   "execution_count": null,
   "id": "5838a56b-86d3-43d8-af14-8458df0f1714",
   "metadata": {},
   "outputs": [],
   "source": [
    "%%timeit\n",
    "customers_query.run(query_string=snapshot_query_string, output_location=output_location)\n",
    "customers_query.wait()"
   ]
  },
  {
   "cell_type": "code",
   "execution_count": null,
   "id": "183e8e05-0ef8-480f-b9c1-da9a73b4b855",
   "metadata": {},
   "outputs": [],
   "source": [
    "snapshot_df = customers_query.as_dataframe()\n",
    "snapshot_df.head()"
   ]
  },
  {
   "cell_type": "markdown",
   "id": "3311950b-d343-462c-9dd2-8399141c0e40",
   "metadata": {},
   "source": [
    "There is only one snapshot remaining in Iceberg and if try to retrieve the Customer record it doesn't not exist anymore."
   ]
  },
  {
   "cell_type": "code",
   "execution_count": null,
   "id": "f87e3532-55c5-43e9-a2c0-3b51ca0f6880",
   "metadata": {},
   "outputs": [],
   "source": [
    "customers_query.run(query_string=select_query_string, output_location=output_location)\n",
    "customers_query.wait()\n",
    "select_record_df = customers_query.as_dataframe()\n",
    "select_record_df.head()"
   ]
  },
  {
   "cell_type": "code",
   "execution_count": null,
   "id": "aa3a58db-78d0-45ea-8958-11d84f23018d",
   "metadata": {},
   "outputs": [],
   "source": []
  },
  {
   "cell_type": "code",
   "execution_count": null,
   "id": "92d4c393-6b89-484e-9d98-e43f26f37539",
   "metadata": {},
   "outputs": [],
   "source": []
  },
  {
   "cell_type": "code",
   "execution_count": null,
   "id": "242194f5-478b-4eb6-9fad-493f11752a87",
   "metadata": {},
   "outputs": [],
   "source": []
  }
 ],
 "metadata": {
  "availableInstances": [
   {
    "_defaultOrder": 0,
    "_isFastLaunch": true,
    "category": "General purpose",
    "gpuNum": 0,
    "hideHardwareSpecs": false,
    "memoryGiB": 4,
    "name": "ml.t3.medium",
    "vcpuNum": 2
   },
   {
    "_defaultOrder": 1,
    "_isFastLaunch": false,
    "category": "General purpose",
    "gpuNum": 0,
    "hideHardwareSpecs": false,
    "memoryGiB": 8,
    "name": "ml.t3.large",
    "vcpuNum": 2
   },
   {
    "_defaultOrder": 2,
    "_isFastLaunch": false,
    "category": "General purpose",
    "gpuNum": 0,
    "hideHardwareSpecs": false,
    "memoryGiB": 16,
    "name": "ml.t3.xlarge",
    "vcpuNum": 4
   },
   {
    "_defaultOrder": 3,
    "_isFastLaunch": false,
    "category": "General purpose",
    "gpuNum": 0,
    "hideHardwareSpecs": false,
    "memoryGiB": 32,
    "name": "ml.t3.2xlarge",
    "vcpuNum": 8
   },
   {
    "_defaultOrder": 4,
    "_isFastLaunch": true,
    "category": "General purpose",
    "gpuNum": 0,
    "hideHardwareSpecs": false,
    "memoryGiB": 8,
    "name": "ml.m5.large",
    "vcpuNum": 2
   },
   {
    "_defaultOrder": 5,
    "_isFastLaunch": false,
    "category": "General purpose",
    "gpuNum": 0,
    "hideHardwareSpecs": false,
    "memoryGiB": 16,
    "name": "ml.m5.xlarge",
    "vcpuNum": 4
   },
   {
    "_defaultOrder": 6,
    "_isFastLaunch": false,
    "category": "General purpose",
    "gpuNum": 0,
    "hideHardwareSpecs": false,
    "memoryGiB": 32,
    "name": "ml.m5.2xlarge",
    "vcpuNum": 8
   },
   {
    "_defaultOrder": 7,
    "_isFastLaunch": false,
    "category": "General purpose",
    "gpuNum": 0,
    "hideHardwareSpecs": false,
    "memoryGiB": 64,
    "name": "ml.m5.4xlarge",
    "vcpuNum": 16
   },
   {
    "_defaultOrder": 8,
    "_isFastLaunch": false,
    "category": "General purpose",
    "gpuNum": 0,
    "hideHardwareSpecs": false,
    "memoryGiB": 128,
    "name": "ml.m5.8xlarge",
    "vcpuNum": 32
   },
   {
    "_defaultOrder": 9,
    "_isFastLaunch": false,
    "category": "General purpose",
    "gpuNum": 0,
    "hideHardwareSpecs": false,
    "memoryGiB": 192,
    "name": "ml.m5.12xlarge",
    "vcpuNum": 48
   },
   {
    "_defaultOrder": 10,
    "_isFastLaunch": false,
    "category": "General purpose",
    "gpuNum": 0,
    "hideHardwareSpecs": false,
    "memoryGiB": 256,
    "name": "ml.m5.16xlarge",
    "vcpuNum": 64
   },
   {
    "_defaultOrder": 11,
    "_isFastLaunch": false,
    "category": "General purpose",
    "gpuNum": 0,
    "hideHardwareSpecs": false,
    "memoryGiB": 384,
    "name": "ml.m5.24xlarge",
    "vcpuNum": 96
   },
   {
    "_defaultOrder": 12,
    "_isFastLaunch": false,
    "category": "General purpose",
    "gpuNum": 0,
    "hideHardwareSpecs": false,
    "memoryGiB": 8,
    "name": "ml.m5d.large",
    "vcpuNum": 2
   },
   {
    "_defaultOrder": 13,
    "_isFastLaunch": false,
    "category": "General purpose",
    "gpuNum": 0,
    "hideHardwareSpecs": false,
    "memoryGiB": 16,
    "name": "ml.m5d.xlarge",
    "vcpuNum": 4
   },
   {
    "_defaultOrder": 14,
    "_isFastLaunch": false,
    "category": "General purpose",
    "gpuNum": 0,
    "hideHardwareSpecs": false,
    "memoryGiB": 32,
    "name": "ml.m5d.2xlarge",
    "vcpuNum": 8
   },
   {
    "_defaultOrder": 15,
    "_isFastLaunch": false,
    "category": "General purpose",
    "gpuNum": 0,
    "hideHardwareSpecs": false,
    "memoryGiB": 64,
    "name": "ml.m5d.4xlarge",
    "vcpuNum": 16
   },
   {
    "_defaultOrder": 16,
    "_isFastLaunch": false,
    "category": "General purpose",
    "gpuNum": 0,
    "hideHardwareSpecs": false,
    "memoryGiB": 128,
    "name": "ml.m5d.8xlarge",
    "vcpuNum": 32
   },
   {
    "_defaultOrder": 17,
    "_isFastLaunch": false,
    "category": "General purpose",
    "gpuNum": 0,
    "hideHardwareSpecs": false,
    "memoryGiB": 192,
    "name": "ml.m5d.12xlarge",
    "vcpuNum": 48
   },
   {
    "_defaultOrder": 18,
    "_isFastLaunch": false,
    "category": "General purpose",
    "gpuNum": 0,
    "hideHardwareSpecs": false,
    "memoryGiB": 256,
    "name": "ml.m5d.16xlarge",
    "vcpuNum": 64
   },
   {
    "_defaultOrder": 19,
    "_isFastLaunch": false,
    "category": "General purpose",
    "gpuNum": 0,
    "hideHardwareSpecs": false,
    "memoryGiB": 384,
    "name": "ml.m5d.24xlarge",
    "vcpuNum": 96
   },
   {
    "_defaultOrder": 20,
    "_isFastLaunch": false,
    "category": "General purpose",
    "gpuNum": 0,
    "hideHardwareSpecs": true,
    "memoryGiB": 0,
    "name": "ml.geospatial.interactive",
    "supportedImageNames": [
     "sagemaker-geospatial-v1-0"
    ],
    "vcpuNum": 0
   },
   {
    "_defaultOrder": 21,
    "_isFastLaunch": true,
    "category": "Compute optimized",
    "gpuNum": 0,
    "hideHardwareSpecs": false,
    "memoryGiB": 4,
    "name": "ml.c5.large",
    "vcpuNum": 2
   },
   {
    "_defaultOrder": 22,
    "_isFastLaunch": false,
    "category": "Compute optimized",
    "gpuNum": 0,
    "hideHardwareSpecs": false,
    "memoryGiB": 8,
    "name": "ml.c5.xlarge",
    "vcpuNum": 4
   },
   {
    "_defaultOrder": 23,
    "_isFastLaunch": false,
    "category": "Compute optimized",
    "gpuNum": 0,
    "hideHardwareSpecs": false,
    "memoryGiB": 16,
    "name": "ml.c5.2xlarge",
    "vcpuNum": 8
   },
   {
    "_defaultOrder": 24,
    "_isFastLaunch": false,
    "category": "Compute optimized",
    "gpuNum": 0,
    "hideHardwareSpecs": false,
    "memoryGiB": 32,
    "name": "ml.c5.4xlarge",
    "vcpuNum": 16
   },
   {
    "_defaultOrder": 25,
    "_isFastLaunch": false,
    "category": "Compute optimized",
    "gpuNum": 0,
    "hideHardwareSpecs": false,
    "memoryGiB": 72,
    "name": "ml.c5.9xlarge",
    "vcpuNum": 36
   },
   {
    "_defaultOrder": 26,
    "_isFastLaunch": false,
    "category": "Compute optimized",
    "gpuNum": 0,
    "hideHardwareSpecs": false,
    "memoryGiB": 96,
    "name": "ml.c5.12xlarge",
    "vcpuNum": 48
   },
   {
    "_defaultOrder": 27,
    "_isFastLaunch": false,
    "category": "Compute optimized",
    "gpuNum": 0,
    "hideHardwareSpecs": false,
    "memoryGiB": 144,
    "name": "ml.c5.18xlarge",
    "vcpuNum": 72
   },
   {
    "_defaultOrder": 28,
    "_isFastLaunch": false,
    "category": "Compute optimized",
    "gpuNum": 0,
    "hideHardwareSpecs": false,
    "memoryGiB": 192,
    "name": "ml.c5.24xlarge",
    "vcpuNum": 96
   },
   {
    "_defaultOrder": 29,
    "_isFastLaunch": true,
    "category": "Accelerated computing",
    "gpuNum": 1,
    "hideHardwareSpecs": false,
    "memoryGiB": 16,
    "name": "ml.g4dn.xlarge",
    "vcpuNum": 4
   },
   {
    "_defaultOrder": 30,
    "_isFastLaunch": false,
    "category": "Accelerated computing",
    "gpuNum": 1,
    "hideHardwareSpecs": false,
    "memoryGiB": 32,
    "name": "ml.g4dn.2xlarge",
    "vcpuNum": 8
   },
   {
    "_defaultOrder": 31,
    "_isFastLaunch": false,
    "category": "Accelerated computing",
    "gpuNum": 1,
    "hideHardwareSpecs": false,
    "memoryGiB": 64,
    "name": "ml.g4dn.4xlarge",
    "vcpuNum": 16
   },
   {
    "_defaultOrder": 32,
    "_isFastLaunch": false,
    "category": "Accelerated computing",
    "gpuNum": 1,
    "hideHardwareSpecs": false,
    "memoryGiB": 128,
    "name": "ml.g4dn.8xlarge",
    "vcpuNum": 32
   },
   {
    "_defaultOrder": 33,
    "_isFastLaunch": false,
    "category": "Accelerated computing",
    "gpuNum": 4,
    "hideHardwareSpecs": false,
    "memoryGiB": 192,
    "name": "ml.g4dn.12xlarge",
    "vcpuNum": 48
   },
   {
    "_defaultOrder": 34,
    "_isFastLaunch": false,
    "category": "Accelerated computing",
    "gpuNum": 1,
    "hideHardwareSpecs": false,
    "memoryGiB": 256,
    "name": "ml.g4dn.16xlarge",
    "vcpuNum": 64
   },
   {
    "_defaultOrder": 35,
    "_isFastLaunch": false,
    "category": "Accelerated computing",
    "gpuNum": 1,
    "hideHardwareSpecs": false,
    "memoryGiB": 61,
    "name": "ml.p3.2xlarge",
    "vcpuNum": 8
   },
   {
    "_defaultOrder": 36,
    "_isFastLaunch": false,
    "category": "Accelerated computing",
    "gpuNum": 4,
    "hideHardwareSpecs": false,
    "memoryGiB": 244,
    "name": "ml.p3.8xlarge",
    "vcpuNum": 32
   },
   {
    "_defaultOrder": 37,
    "_isFastLaunch": false,
    "category": "Accelerated computing",
    "gpuNum": 8,
    "hideHardwareSpecs": false,
    "memoryGiB": 488,
    "name": "ml.p3.16xlarge",
    "vcpuNum": 64
   },
   {
    "_defaultOrder": 38,
    "_isFastLaunch": false,
    "category": "Accelerated computing",
    "gpuNum": 8,
    "hideHardwareSpecs": false,
    "memoryGiB": 768,
    "name": "ml.p3dn.24xlarge",
    "vcpuNum": 96
   },
   {
    "_defaultOrder": 39,
    "_isFastLaunch": false,
    "category": "Memory Optimized",
    "gpuNum": 0,
    "hideHardwareSpecs": false,
    "memoryGiB": 16,
    "name": "ml.r5.large",
    "vcpuNum": 2
   },
   {
    "_defaultOrder": 40,
    "_isFastLaunch": false,
    "category": "Memory Optimized",
    "gpuNum": 0,
    "hideHardwareSpecs": false,
    "memoryGiB": 32,
    "name": "ml.r5.xlarge",
    "vcpuNum": 4
   },
   {
    "_defaultOrder": 41,
    "_isFastLaunch": false,
    "category": "Memory Optimized",
    "gpuNum": 0,
    "hideHardwareSpecs": false,
    "memoryGiB": 64,
    "name": "ml.r5.2xlarge",
    "vcpuNum": 8
   },
   {
    "_defaultOrder": 42,
    "_isFastLaunch": false,
    "category": "Memory Optimized",
    "gpuNum": 0,
    "hideHardwareSpecs": false,
    "memoryGiB": 128,
    "name": "ml.r5.4xlarge",
    "vcpuNum": 16
   },
   {
    "_defaultOrder": 43,
    "_isFastLaunch": false,
    "category": "Memory Optimized",
    "gpuNum": 0,
    "hideHardwareSpecs": false,
    "memoryGiB": 256,
    "name": "ml.r5.8xlarge",
    "vcpuNum": 32
   },
   {
    "_defaultOrder": 44,
    "_isFastLaunch": false,
    "category": "Memory Optimized",
    "gpuNum": 0,
    "hideHardwareSpecs": false,
    "memoryGiB": 384,
    "name": "ml.r5.12xlarge",
    "vcpuNum": 48
   },
   {
    "_defaultOrder": 45,
    "_isFastLaunch": false,
    "category": "Memory Optimized",
    "gpuNum": 0,
    "hideHardwareSpecs": false,
    "memoryGiB": 512,
    "name": "ml.r5.16xlarge",
    "vcpuNum": 64
   },
   {
    "_defaultOrder": 46,
    "_isFastLaunch": false,
    "category": "Memory Optimized",
    "gpuNum": 0,
    "hideHardwareSpecs": false,
    "memoryGiB": 768,
    "name": "ml.r5.24xlarge",
    "vcpuNum": 96
   },
   {
    "_defaultOrder": 47,
    "_isFastLaunch": false,
    "category": "Accelerated computing",
    "gpuNum": 1,
    "hideHardwareSpecs": false,
    "memoryGiB": 16,
    "name": "ml.g5.xlarge",
    "vcpuNum": 4
   },
   {
    "_defaultOrder": 48,
    "_isFastLaunch": false,
    "category": "Accelerated computing",
    "gpuNum": 1,
    "hideHardwareSpecs": false,
    "memoryGiB": 32,
    "name": "ml.g5.2xlarge",
    "vcpuNum": 8
   },
   {
    "_defaultOrder": 49,
    "_isFastLaunch": false,
    "category": "Accelerated computing",
    "gpuNum": 1,
    "hideHardwareSpecs": false,
    "memoryGiB": 64,
    "name": "ml.g5.4xlarge",
    "vcpuNum": 16
   },
   {
    "_defaultOrder": 50,
    "_isFastLaunch": false,
    "category": "Accelerated computing",
    "gpuNum": 1,
    "hideHardwareSpecs": false,
    "memoryGiB": 128,
    "name": "ml.g5.8xlarge",
    "vcpuNum": 32
   },
   {
    "_defaultOrder": 51,
    "_isFastLaunch": false,
    "category": "Accelerated computing",
    "gpuNum": 1,
    "hideHardwareSpecs": false,
    "memoryGiB": 256,
    "name": "ml.g5.16xlarge",
    "vcpuNum": 64
   },
   {
    "_defaultOrder": 52,
    "_isFastLaunch": false,
    "category": "Accelerated computing",
    "gpuNum": 4,
    "hideHardwareSpecs": false,
    "memoryGiB": 192,
    "name": "ml.g5.12xlarge",
    "vcpuNum": 48
   },
   {
    "_defaultOrder": 53,
    "_isFastLaunch": false,
    "category": "Accelerated computing",
    "gpuNum": 4,
    "hideHardwareSpecs": false,
    "memoryGiB": 384,
    "name": "ml.g5.24xlarge",
    "vcpuNum": 96
   },
   {
    "_defaultOrder": 54,
    "_isFastLaunch": false,
    "category": "Accelerated computing",
    "gpuNum": 8,
    "hideHardwareSpecs": false,
    "memoryGiB": 768,
    "name": "ml.g5.48xlarge",
    "vcpuNum": 192
   },
   {
    "_defaultOrder": 55,
    "_isFastLaunch": false,
    "category": "Accelerated computing",
    "gpuNum": 8,
    "hideHardwareSpecs": false,
    "memoryGiB": 1152,
    "name": "ml.p4d.24xlarge",
    "vcpuNum": 96
   },
   {
    "_defaultOrder": 56,
    "_isFastLaunch": false,
    "category": "Accelerated computing",
    "gpuNum": 8,
    "hideHardwareSpecs": false,
    "memoryGiB": 1152,
    "name": "ml.p4de.24xlarge",
    "vcpuNum": 96
   },
   {
    "_defaultOrder": 57,
    "_isFastLaunch": false,
    "category": "Accelerated computing",
    "gpuNum": 0,
    "hideHardwareSpecs": false,
    "memoryGiB": 32,
    "name": "ml.trn1.2xlarge",
    "vcpuNum": 8
   },
   {
    "_defaultOrder": 58,
    "_isFastLaunch": false,
    "category": "Accelerated computing",
    "gpuNum": 0,
    "hideHardwareSpecs": false,
    "memoryGiB": 512,
    "name": "ml.trn1.32xlarge",
    "vcpuNum": 128
   },
   {
    "_defaultOrder": 59,
    "_isFastLaunch": false,
    "category": "Accelerated computing",
    "gpuNum": 0,
    "hideHardwareSpecs": false,
    "memoryGiB": 512,
    "name": "ml.trn1n.32xlarge",
    "vcpuNum": 128
   }
  ],
  "instance_type": "ml.t3.medium",
  "kernelspec": {
   "display_name": "Python 3 (ipykernel)",
   "language": "python",
   "name": "python3"
  },
  "language_info": {
   "codemirror_mode": {
    "name": "ipython",
    "version": 3
   },
   "file_extension": ".py",
   "mimetype": "text/x-python",
   "name": "python",
   "nbconvert_exporter": "python",
   "pygments_lexer": "ipython3",
   "version": "3.10.13"
  }
 },
 "nbformat": 4,
 "nbformat_minor": 5
}
