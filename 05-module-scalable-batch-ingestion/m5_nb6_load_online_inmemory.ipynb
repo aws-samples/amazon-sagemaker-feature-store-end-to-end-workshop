{
 "cells": [
  {
   "cell_type": "markdown",
   "metadata": {},
   "source": [
    "# Module 5: Load features into Online Store InMemory Option\n",
    "---\n",
    "\n",
    "**Note:** Please set kernel to `Python 3 (Data Science)` and select instance to `ml.m5.large`.  This will provide the notebook more memory over the ml.t3.medium instance normally used. \n",
    "\n",
    "\n",
    "# Content\n",
    "1. [Background](#Background)\n",
    "1. [Setup](#Setup)\n",
    "1. [Create Feature Group](#Create-Feature-Group)\n",
    "1. [Read and Transform Orders data](#Read-and-Transform-Orders-Data)\n",
    "1. [Write Orders Records to Online Store](#Write-Orders-Table-Records-to-Online-Store)\n",
    "1. [Bulk Ingest Data to the Online Store (SageMaker Processing Job)](#Bulk-Ingest-Data-to-the-Online-Store)\n",
    "1. [Read, Modify, and Write Records to Online Store](#Read,-Modify,-and-Write-Records-to-Online-Store)\n",
    "\n",
    "\n",
    "# Background\n",
    "\n",
    "Amazon SageMaker Feature Store now supports an [Online InMemory](https://docs.aws.amazon.com/sagemaker/latest/dg/feature-store-storage-configurations-online-store.html#feature-store-storage-configurations-online-store-in-memory-tier) storage option to achieve very low latency access to feature data, which is backed by ElastiCache for Redis. This Online storage choice also supports additional [Collection data types](https://docs.aws.amazon.com/sagemaker/latest/dg/feature-store-collection-types.html) such as LIST, SET, and VECTOR.\n",
    "\n",
    "In this example notebook, we will use the SageMaker Feature Store runtime client to call `put_record` and `get_record` to write and read from the Online store. We will also demonstrate how customers can use the [Feature Store Spark Connector](https://docs.aws.amazon.com/sagemaker/latest/dg/batch-ingestion-spark-connector-setup.html) to perform bulk ingestion of features directly to the Online InMemory store.\n",
    "\n",
    "### Online-Only Feature Group\n",
    "\n",
    "First, we will create a new Feature Store Feature Group with Online StorageType set to `InMemory`. This will configure the in-memory Feature Group and also disable the Offline storage.\n",
    "\n",
    "Note: Currently (October 2023), the Online InMemory storage tier does *not* allow Offline storage option, and does not automatically replicate records to offline store.\n"
   ]
  },
  {
   "cell_type": "markdown",
   "metadata": {},
   "source": [
    "# Setup"
   ]
  },
  {
   "cell_type": "code",
   "execution_count": 2,
   "metadata": {
    "tags": []
   },
   "outputs": [],
   "source": [
    "%%capture \n",
    "\n",
    "!pip install --upgrade sagemaker\n",
    "!pip install --upgrade boto3"
   ]
  },
  {
   "cell_type": "code",
   "execution_count": 3,
   "metadata": {
    "tags": []
   },
   "outputs": [
    {
     "name": "stdout",
     "output_type": "stream",
     "text": [
      "sagemaker.config INFO - Not applying SDK defaults from location: /etc/xdg/sagemaker/config.yaml\n",
      "sagemaker.config INFO - Not applying SDK defaults from location: /root/.config/sagemaker/config.yaml\n"
     ]
    }
   ],
   "source": [
    "import sagemaker\n",
    "import boto3\n",
    "\n",
    "from time import gmtime, strftime, sleep\n",
    "from random import randint\n",
    "\n",
    "import pandas as pd\n",
    "import numpy as np\n",
    "import subprocess\n",
    "import importlib\n",
    "import logging\n",
    "import time\n",
    "import sys\n"
   ]
  },
  {
   "cell_type": "code",
   "execution_count": 4,
   "metadata": {
    "tags": []
   },
   "outputs": [
    {
     "name": "stdout",
     "output_type": "stream",
     "text": [
      "Boto3 version: 1.28.62\n",
      "Sagemaker version: 2.191.0\n"
     ]
    }
   ],
   "source": [
    "# Print SDK library versions\n",
    "print(f'Boto3 version: {boto3.__version__}')\n",
    "print(f'Sagemaker version: {sagemaker.__version__}')"
   ]
  },
  {
   "cell_type": "code",
   "execution_count": 5,
   "metadata": {
    "tags": []
   },
   "outputs": [],
   "source": [
    "from sagemaker.feature_store.feature_definition import (\n",
    "    FeatureDefinition, \n",
    "    StringFeatureDefinition, \n",
    "    FractionalFeatureDefinition, \n",
    "    FeatureTypeEnum, \n",
    "    CollectionType, \n",
    "    CollectionTypeEnum, \n",
    "    ListCollectionType\n",
    ")\n",
    "from sagemaker.feature_store.inputs import (\n",
    "    FeatureValue,\n",
    "    FeatureParameter,\n",
    "    TableFormatEnum,\n",
    "    Filter,\n",
    "    ResourceEnum,\n",
    "    Identifier,\n",
    "    DeletionModeEnum,\n",
    "    TtlDuration,\n",
    "    OnlineStoreConfigUpdate,\n",
    "    OnlineStoreStorageTypeEnum,\n",
    ")\n",
    "from sagemaker.feature_store.feature_group import FeatureGroup\n",
    "from sagemaker.feature_store.feature_store import FeatureStore\n"
   ]
  },
  {
   "cell_type": "code",
   "execution_count": 6,
   "metadata": {
    "tags": []
   },
   "outputs": [],
   "source": [
    "logger = logging.getLogger('__name__')\n",
    "logger.setLevel(logging.DEBUG)\n",
    "logger.addHandler(logging.StreamHandler())"
   ]
  },
  {
   "cell_type": "markdown",
   "metadata": {},
   "source": [
    "### Essentials"
   ]
  },
  {
   "cell_type": "code",
   "execution_count": 7,
   "metadata": {
    "tags": []
   },
   "outputs": [
    {
     "name": "stdout",
     "output_type": "stream",
     "text": [
      "sagemaker.config INFO - Not applying SDK defaults from location: /etc/xdg/sagemaker/config.yaml\n",
      "sagemaker.config INFO - Not applying SDK defaults from location: /root/.config/sagemaker/config.yaml\n",
      "sagemaker.config INFO - Not applying SDK defaults from location: /etc/xdg/sagemaker/config.yaml\n",
      "sagemaker.config INFO - Not applying SDK defaults from location: /root/.config/sagemaker/config.yaml\n",
      "us-west-2\n",
      "sagemaker-us-west-2-572539092864\n",
      "arn:aws:iam::572539092864:role/service-role/AmazonSageMaker-ExecutionRole-20200407T174741\n"
     ]
    }
   ],
   "source": [
    "sagemaker_session = sagemaker.session.Session()\n",
    "region_name = sagemaker_session.boto_region_name\n",
    "default_bucket = sagemaker_session.default_bucket()\n",
    "role_arn = sagemaker.get_execution_role()\n",
    "\n",
    "print(region_name)\n",
    "print(default_bucket)\n",
    "print(role_arn)\n",
    "\n",
    "sm_client = boto3.client('sagemaker')\n",
    "fs_client = boto3.client('sagemaker-featurestore-runtime', region_name=region_name)"
   ]
  },
  {
   "cell_type": "code",
   "execution_count": 8,
   "metadata": {
    "tags": []
   },
   "outputs": [
    {
     "name": "stdout",
     "output_type": "stream",
     "text": [
      "S3 Workshop prefix: sagemaker-feature-store/fscw\n",
      "S3 URI Upload prefix: s3://sagemaker-us-west-2-572539092864/sagemaker-feature-store/fscw/data\n"
     ]
    }
   ],
   "source": [
    "# Define S3 prefixes for workshop notebook\n",
    "feature_store_prefix = 'sagemaker-feature-store'\n",
    "workshop_prefix = 'fscw'\n",
    "s3_feature_store_workshop_prefix = f'{feature_store_prefix}/{workshop_prefix}'\n",
    "\n",
    "print(f'S3 Workshop prefix: {s3_feature_store_workshop_prefix}')\n",
    "\n",
    "s3_feature_store_data_prefix = f'{s3_feature_store_workshop_prefix}/data'\n",
    "s3_uri_upload_prefix = f's3://{default_bucket}/{s3_feature_store_data_prefix}'\n",
    "print(f'S3 URI Upload prefix: {s3_uri_upload_prefix}')"
   ]
  },
  {
   "cell_type": "markdown",
   "metadata": {},
   "source": [
    "### Append scripts directory to classpath"
   ]
  },
  {
   "cell_type": "code",
   "execution_count": 9,
   "metadata": {
    "tags": []
   },
   "outputs": [],
   "source": [
    "sys.path.append(\"./scripts\")"
   ]
  },
  {
   "cell_type": "code",
   "execution_count": 10,
   "metadata": {
    "tags": []
   },
   "outputs": [
    {
     "data": {
      "text/plain": [
       "[FeatureValue(feature_name='order_id', value_as_string='O999', value_as_string_list=None),\n",
       " FeatureValue(feature_name='customer_id', value_as_string='C999', value_as_string_list=None),\n",
       " FeatureValue(feature_name='product_id', value_as_string='P999', value_as_string_list=None),\n",
       " FeatureValue(feature_name='purchase_amount', value_as_string='9.99', value_as_string_list=None),\n",
       " FeatureValue(feature_name='is_reordered', value_as_string='1', value_as_string_list=None),\n",
       " FeatureValue(feature_name='event_time', value_as_string='2020-10-30T03:43:21Z', value_as_string_list=None),\n",
       " FeatureValue(feature_name='n_days_since_last_purchase', value_as_string='0.12209302325581398', value_as_string_list=None),\n",
       " FeatureValue(feature_name='n_days_list', value_as_string=None, value_as_string_list=['13', '27', '7', '11', '22'])]"
      ]
     },
     "execution_count": 10,
     "metadata": {},
     "output_type": "execute_result"
    }
   ],
   "source": [
    "from featurestore_helper import (\n",
    "    get_order_features_with_list, \n",
    "    get_feature_definitions_with_list, \n",
    "    create_order_list_fg)\n",
    "\n",
    "sample_feature_list = get_order_features_with_list()\n",
    "sample_feature_list"
   ]
  },
  {
   "cell_type": "code",
   "execution_count": 11,
   "metadata": {
    "tags": []
   },
   "outputs": [
    {
     "data": {
      "text/plain": [
       "[StringFeatureDefinition(feature_name='order_id', feature_type=<FeatureTypeEnum.STRING: 'String'>, collection_type=None),\n",
       " StringFeatureDefinition(feature_name='customer_id', feature_type=<FeatureTypeEnum.STRING: 'String'>, collection_type=None),\n",
       " StringFeatureDefinition(feature_name='product_id', feature_type=<FeatureTypeEnum.STRING: 'String'>, collection_type=None),\n",
       " FractionalFeatureDefinition(feature_name='purchase_amount', feature_type=<FeatureTypeEnum.FRACTIONAL: 'Fractional'>, collection_type=None),\n",
       " IntegralFeatureDefinition(feature_name='is_reordered', feature_type=<FeatureTypeEnum.INTEGRAL: 'Integral'>, collection_type=None),\n",
       " StringFeatureDefinition(feature_name='event_time', feature_type=<FeatureTypeEnum.STRING: 'String'>, collection_type=None),\n",
       " FractionalFeatureDefinition(feature_name='n_days_since_last_purchase', feature_type=<FeatureTypeEnum.FRACTIONAL: 'Fractional'>, collection_type=None),\n",
       " StringFeatureDefinition(feature_name='n_days_list', feature_type=<FeatureTypeEnum.STRING: 'String'>, collection_type=ListCollectionType(collection_type=<CollectionTypeEnum.LIST: 'List'>, collection_config=None))]"
      ]
     },
     "execution_count": 11,
     "metadata": {},
     "output_type": "execute_result"
    }
   ],
   "source": [
    "# validate feature definitions used to create Feature Group\n",
    "feature_definitions = get_feature_definitions_with_list()\n",
    "feature_definitions"
   ]
  },
  {
   "cell_type": "markdown",
   "metadata": {},
   "source": [
    "# Create Feature Group\n",
    "\n",
    "First, create a new Feature Group with Online storage enabled and Offline storage disabled. To use the In-Memory tier, hosted on AWS Elasticache/REDIS, set the StorageType to `InMemory`. To disable the Offline store, simply remove the `OfflineStoreConfig` from the configuration when calling `create_feature_group`. \n",
    "\n",
    "Here are the key configuration items for Online-only Store using InMemory option:\n",
    "\n",
    "```\n",
    "    OnlineStoreConfig={\n",
    "      'EnableOnlineStore': True,\n",
    "      'StorageType': 'InMemory',\n",
    "    }\n",
    "```\n",
    "\n",
    "For more information, please refer to the OnlineStoreConfig [documentation](https://docs.aws.amazon.com/sagemaker/latest/APIReference/API_OnlineStoreConfig.html)."
   ]
  },
  {
   "cell_type": "code",
   "execution_count": 12,
   "metadata": {
    "tags": []
   },
   "outputs": [],
   "source": [
    "feature_group_name = 'FG-online-only-inmemory'"
   ]
  },
  {
   "cell_type": "code",
   "execution_count": 13,
   "metadata": {
    "tags": []
   },
   "outputs": [
    {
     "data": {
      "text/plain": [
       "{'FeatureGroupArn': 'arn:aws:sagemaker:us-west-2:572539092864:feature-group/FG-online-only-inmemory',\n",
       " 'ResponseMetadata': {'RequestId': 'b4ac7224-64a2-49ce-a036-ad2c13decf19',\n",
       "  'HTTPStatusCode': 200,\n",
       "  'HTTPHeaders': {'x-amzn-requestid': 'b4ac7224-64a2-49ce-a036-ad2c13decf19',\n",
       "   'content-type': 'application/x-amz-json-1.1',\n",
       "   'content-length': '100',\n",
       "   'date': 'Wed, 11 Oct 2023 18:17:19 GMT'},\n",
       "  'RetryAttempts': 0}}"
      ]
     },
     "execution_count": 13,
     "metadata": {},
     "output_type": "execute_result"
    }
   ],
   "source": [
    "response = create_order_list_fg(feature_group_name, sagemaker_session, role_arn)\n",
    "response"
   ]
  },
  {
   "cell_type": "code",
   "execution_count": 14,
   "metadata": {
    "tags": []
   },
   "outputs": [],
   "source": [
    "def wait_for_feature_group_creation_complete(feature_group_name):\n",
    "    status = sm_client.describe_feature_group(FeatureGroupName=feature_group_name)['FeatureGroupStatus']\n",
    "    print(f'Initial status: {status}')\n",
    "    while status == 'Creating':\n",
    "        logger.info(f'Waiting for feature group: {feature_group_name} to be created ...')\n",
    "        time.sleep(60)\n",
    "        status = sm_client.describe_feature_group(FeatureGroupName=feature_group_name)['FeatureGroupStatus']\n",
    "    if status != 'Created':\n",
    "        raise SystemExit(f'Failed to create feature group {feature_group_name}: {status}')\n",
    "    logger.info(f'FeatureGroup {feature_group_name} was successfully created.')"
   ]
  },
  {
   "cell_type": "code",
   "execution_count": 15,
   "metadata": {
    "tags": []
   },
   "outputs": [
    {
     "name": "stderr",
     "output_type": "stream",
     "text": [
      "Waiting for feature group: FG-online-only-inmemory to be created ...\n"
     ]
    },
    {
     "name": "stdout",
     "output_type": "stream",
     "text": [
      "Initial status: Creating\n"
     ]
    },
    {
     "name": "stderr",
     "output_type": "stream",
     "text": [
      "Waiting for feature group: FG-online-only-inmemory to be created ...\n",
      "Waiting for feature group: FG-online-only-inmemory to be created ...\n",
      "Waiting for feature group: FG-online-only-inmemory to be created ...\n",
      "Waiting for feature group: FG-online-only-inmemory to be created ...\n",
      "Waiting for feature group: FG-online-only-inmemory to be created ...\n",
      "Waiting for feature group: FG-online-only-inmemory to be created ...\n",
      "Waiting for feature group: FG-online-only-inmemory to be created ...\n",
      "Waiting for feature group: FG-online-only-inmemory to be created ...\n",
      "Waiting for feature group: FG-online-only-inmemory to be created ...\n",
      "FeatureGroup FG-online-only-inmemory was successfully created.\n"
     ]
    }
   ],
   "source": [
    "wait_for_feature_group_creation_complete(feature_group_name)"
   ]
  },
  {
   "cell_type": "markdown",
   "metadata": {},
   "source": [
    "### Describe Feature Group \n",
    "\n",
    "The Feature Group `describe` method returns all the metadata for the Feature Group, including the Feature Definitions which include name and data types. This essentially provides the schema for the Feature Group.\n",
    "\n",
    "Note the presence of `CollectionType` in the output below."
   ]
  },
  {
   "cell_type": "code",
   "execution_count": 16,
   "metadata": {
    "tags": []
   },
   "outputs": [
    {
     "data": {
      "text/plain": [
       "{'FeatureGroupArn': 'arn:aws:sagemaker:us-west-2:572539092864:feature-group/FG-online-only-inmemory',\n",
       " 'FeatureGroupName': 'FG-online-only-inmemory',\n",
       " 'RecordIdentifierFeatureName': 'order_id',\n",
       " 'EventTimeFeatureName': 'event_time',\n",
       " 'FeatureDefinitions': [{'FeatureName': 'order_id', 'FeatureType': 'String'},\n",
       "  {'FeatureName': 'customer_id', 'FeatureType': 'String'},\n",
       "  {'FeatureName': 'product_id', 'FeatureType': 'String'},\n",
       "  {'FeatureName': 'purchase_amount', 'FeatureType': 'Fractional'},\n",
       "  {'FeatureName': 'is_reordered', 'FeatureType': 'Integral'},\n",
       "  {'FeatureName': 'event_time', 'FeatureType': 'String'},\n",
       "  {'FeatureName': 'n_days_since_last_purchase', 'FeatureType': 'Fractional'},\n",
       "  {'FeatureName': 'n_days_list',\n",
       "   'FeatureType': 'String',\n",
       "   'CollectionType': 'List'}],\n",
       " 'CreationTime': datetime.datetime(2023, 10, 11, 18, 17, 19, 345000, tzinfo=tzlocal()),\n",
       " 'OnlineStoreConfig': {'EnableOnlineStore': True, 'StorageType': 'InMemory'},\n",
       " 'RoleArn': 'arn:aws:iam::572539092864:role/service-role/AmazonSageMaker-ExecutionRole-20200407T174741',\n",
       " 'FeatureGroupStatus': 'Created',\n",
       " 'ResponseMetadata': {'RequestId': 'b978e617-f512-4a97-bfe4-f3ef7ec7d0e9',\n",
       "  'HTTPStatusCode': 200,\n",
       "  'HTTPHeaders': {'x-amzn-requestid': 'b978e617-f512-4a97-bfe4-f3ef7ec7d0e9',\n",
       "   'content-type': 'application/x-amz-json-1.1',\n",
       "   'content-length': '1412',\n",
       "   'date': 'Wed, 11 Oct 2023 18:28:03 GMT'},\n",
       "  'RetryAttempts': 0}}"
      ]
     },
     "execution_count": 16,
     "metadata": {},
     "output_type": "execute_result"
    }
   ],
   "source": [
    "# Describe for Feature Group\n",
    "\n",
    "# Note the presence of 'CollectionType' in the Feature Definitions output below\n",
    "fg = FeatureGroup(name=feature_group_name, sagemaker_session=sagemaker_session)\n",
    "fg.describe()"
   ]
  },
  {
   "cell_type": "markdown",
   "metadata": {
    "tags": []
   },
   "source": [
    "### Use sample record to test put_record and get_record"
   ]
  },
  {
   "cell_type": "code",
   "execution_count": 17,
   "metadata": {
    "tags": []
   },
   "outputs": [
    {
     "data": {
      "text/plain": [
       "[FeatureValue(feature_name='order_id', value_as_string='O999', value_as_string_list=None),\n",
       " FeatureValue(feature_name='customer_id', value_as_string='C999', value_as_string_list=None),\n",
       " FeatureValue(feature_name='product_id', value_as_string='P999', value_as_string_list=None),\n",
       " FeatureValue(feature_name='purchase_amount', value_as_string='9.99', value_as_string_list=None),\n",
       " FeatureValue(feature_name='is_reordered', value_as_string='1', value_as_string_list=None),\n",
       " FeatureValue(feature_name='event_time', value_as_string='2020-10-30T03:43:21Z', value_as_string_list=None),\n",
       " FeatureValue(feature_name='n_days_since_last_purchase', value_as_string='0.12209302325581398', value_as_string_list=None),\n",
       " FeatureValue(feature_name='n_days_list', value_as_string=None, value_as_string_list=['13', '27', '7', '11', '22'])]"
      ]
     },
     "execution_count": 17,
     "metadata": {},
     "output_type": "execute_result"
    }
   ],
   "source": [
    "sample_feature_list"
   ]
  },
  {
   "cell_type": "code",
   "execution_count": 18,
   "metadata": {
    "tags": []
   },
   "outputs": [
    {
     "data": {
      "text/plain": [
       "[{'FeatureName': 'order_id', 'ValueAsString': 'O999'},\n",
       " {'FeatureName': 'customer_id', 'ValueAsString': 'C999'},\n",
       " {'FeatureName': 'product_id', 'ValueAsString': 'P999'},\n",
       " {'FeatureName': 'purchase_amount', 'ValueAsString': '9.99'},\n",
       " {'FeatureName': 'is_reordered', 'ValueAsString': '1'},\n",
       " {'FeatureName': 'event_time', 'ValueAsString': '2020-10-30T03:43:21Z'},\n",
       " {'FeatureName': 'n_days_since_last_purchase',\n",
       "  'ValueAsString': '0.12209302325581398'},\n",
       " {'FeatureName': 'n_days_list',\n",
       "  'ValueAsStringList': ['13', '27', '7', '11', '22']}]"
      ]
     },
     "execution_count": 18,
     "metadata": {},
     "output_type": "execute_result"
    }
   ],
   "source": [
    "# Transform FeatureValue list to writable Record \n",
    "\n",
    "sample_record = []\n",
    "for f in sample_feature_list:\n",
    "    feature = {}\n",
    "    feature['FeatureName'] = f.feature_name\n",
    "    if (f.value_as_string_list):\n",
    "        feature['ValueAsStringList'] = f.value_as_string_list\n",
    "    else:\n",
    "        feature['ValueAsString'] = f.value_as_string\n",
    "    sample_record.append(feature)\n",
    "\n",
    "# Dump sample record\n",
    "sample_record"
   ]
  },
  {
   "cell_type": "code",
   "execution_count": 19,
   "metadata": {
    "tags": []
   },
   "outputs": [
    {
     "data": {
      "text/plain": [
       "{'ResponseMetadata': {'RequestId': 'df95e0c9-cf7f-4d97-9ecb-8156b10faf77',\n",
       "  'HTTPStatusCode': 200,\n",
       "  'HTTPHeaders': {'x-amzn-requestid': 'df95e0c9-cf7f-4d97-9ecb-8156b10faf77',\n",
       "   'content-type': 'application/json',\n",
       "   'content-length': '0',\n",
       "   'date': 'Wed, 11 Oct 2023 18:28:11 GMT'},\n",
       "  'RetryAttempts': 0}}"
      ]
     },
     "execution_count": 19,
     "metadata": {},
     "output_type": "execute_result"
    }
   ],
   "source": [
    "fs_client.put_record(FeatureGroupName=feature_group_name, Record=sample_record)"
   ]
  },
  {
   "cell_type": "code",
   "execution_count": 20,
   "metadata": {
    "tags": []
   },
   "outputs": [
    {
     "data": {
      "text/plain": [
       "'O999'"
      ]
     },
     "execution_count": 20,
     "metadata": {},
     "output_type": "execute_result"
    }
   ],
   "source": [
    "sample_record_id = sample_record[0]['ValueAsString']\n",
    "sample_record_id"
   ]
  },
  {
   "cell_type": "code",
   "execution_count": 21,
   "metadata": {
    "tags": []
   },
   "outputs": [
    {
     "data": {
      "text/plain": [
       "[{'FeatureName': 'order_id', 'ValueAsString': 'O999'},\n",
       " {'FeatureName': 'customer_id', 'ValueAsString': 'C999'},\n",
       " {'FeatureName': 'product_id', 'ValueAsString': 'P999'},\n",
       " {'FeatureName': 'purchase_amount', 'ValueAsString': '9.99'},\n",
       " {'FeatureName': 'is_reordered', 'ValueAsString': '1'},\n",
       " {'FeatureName': 'event_time', 'ValueAsString': '2020-10-30T03:43:21Z'},\n",
       " {'FeatureName': 'n_days_since_last_purchase',\n",
       "  'ValueAsString': '0.12209302325581398'},\n",
       " {'FeatureName': 'n_days_list',\n",
       "  'ValueAsStringList': ['13', '27', '7', '11', '22']}]"
      ]
     },
     "execution_count": 21,
     "metadata": {},
     "output_type": "execute_result"
    }
   ],
   "source": [
    "response = fs_client.get_record(FeatureGroupName=feature_group_name, \n",
    "                                RecordIdentifierValueAsString=sample_record_id)\n",
    "response['Record']"
   ]
  },
  {
   "cell_type": "markdown",
   "metadata": {},
   "source": [
    "# Read and Transform Orders Data\n",
    "\n",
    "Read CSV file: We will read the \"orders.csv\" file from the local module 05 directory. We will then transform it to include a ListCollection type feature. You can read more about supported Collection Types in the [documentation](https://docs.aws.amazon.com/sagemaker/latest/dg/feature-store-collection-types.html)."
   ]
  },
  {
   "cell_type": "code",
   "execution_count": 22,
   "metadata": {
    "tags": []
   },
   "outputs": [],
   "source": [
    "orders_data_file = \"../05-module-scalable-batch-ingestion/orders.csv\"\n",
    "orders_df = pd.read_csv(orders_data_file)"
   ]
  },
  {
   "cell_type": "code",
   "execution_count": 23,
   "metadata": {
    "tags": []
   },
   "outputs": [
    {
     "name": "stdout",
     "output_type": "stream",
     "text": [
      "Index(['order_id', 'customer_id', 'product_id', 'purchase_amount',\n",
      "       'is_reordered', 'event_time', 'n_days_since_last_purchase'],\n",
      "      dtype='object')\n",
      "(100000, 7)\n"
     ]
    }
   ],
   "source": [
    "columns = orders_df.columns\n",
    "print(columns)\n",
    "print(orders_df.shape)"
   ]
  },
  {
   "cell_type": "code",
   "execution_count": 24,
   "metadata": {
    "tags": []
   },
   "outputs": [],
   "source": [
    "# Function to generate list of days\n",
    "def get_random_days_list(input):\n",
    "    ndays = int(10.0 * input)\n",
    "    days = []\n",
    "    for day in range(0,ndays):\n",
    "        n =randint(0, 30)\n",
    "        days.append(str(n))\n",
    "    return days\n"
   ]
  },
  {
   "cell_type": "code",
   "execution_count": 25,
   "metadata": {
    "scrolled": true,
    "tags": []
   },
   "outputs": [
    {
     "name": "stdout",
     "output_type": "stream",
     "text": [
      "100000\n"
     ]
    },
    {
     "data": {
      "text/plain": [
       "0                                   [7]\n",
       "1    [23, 21, 22, 27, 8, 22, 5, 13, 14]\n",
       "2                                    []\n",
       "3                           [2, 26, 12]\n",
       "4                               [29, 2]\n",
       "Name: n_days_since_last_purchase, dtype: object"
      ]
     },
     "execution_count": 25,
     "metadata": {},
     "output_type": "execute_result"
    }
   ],
   "source": [
    "# Use Pandas map function to create new column data\n",
    "new_days_col = orders_df['n_days_since_last_purchase'].map(lambda x: get_random_days_list(x))\n",
    "\n",
    "print(new_days_col.size)\n",
    "\n",
    "new_days_col.head(n=5)"
   ]
  },
  {
   "cell_type": "code",
   "execution_count": 26,
   "metadata": {
    "tags": []
   },
   "outputs": [
    {
     "name": "stdout",
     "output_type": "stream",
     "text": [
      "Index(['order_id', 'customer_id', 'product_id', 'purchase_amount',\n",
      "       'is_reordered', 'event_time', 'n_days_since_last_purchase',\n",
      "       'n_days_list'],\n",
      "      dtype='object')\n",
      "(100000, 8)\n"
     ]
    }
   ],
   "source": [
    "# Append new column with list values to Pandas dataframe\n",
    "orders_list_df = orders_df\n",
    "orders_list_df['n_days_list'] = new_days_col\n",
    "\n",
    "print(orders_list_df.columns)\n",
    "print(orders_list_df.shape)"
   ]
  },
  {
   "cell_type": "code",
   "execution_count": 27,
   "metadata": {
    "tags": []
   },
   "outputs": [
    {
     "data": {
      "text/html": [
       "<div>\n",
       "<style scoped>\n",
       "    .dataframe tbody tr th:only-of-type {\n",
       "        vertical-align: middle;\n",
       "    }\n",
       "\n",
       "    .dataframe tbody tr th {\n",
       "        vertical-align: top;\n",
       "    }\n",
       "\n",
       "    .dataframe thead th {\n",
       "        text-align: right;\n",
       "    }\n",
       "</style>\n",
       "<table border=\"1\" class=\"dataframe\">\n",
       "  <thead>\n",
       "    <tr style=\"text-align: right;\">\n",
       "      <th></th>\n",
       "      <th>order_id</th>\n",
       "      <th>customer_id</th>\n",
       "      <th>product_id</th>\n",
       "      <th>purchase_amount</th>\n",
       "      <th>is_reordered</th>\n",
       "      <th>event_time</th>\n",
       "      <th>n_days_since_last_purchase</th>\n",
       "      <th>n_days_list</th>\n",
       "    </tr>\n",
       "  </thead>\n",
       "  <tbody>\n",
       "    <tr>\n",
       "      <th>0</th>\n",
       "      <td>O1</td>\n",
       "      <td>C5731</td>\n",
       "      <td>P16</td>\n",
       "      <td>0.913465</td>\n",
       "      <td>1</td>\n",
       "      <td>2021-09-13T13:21:30.036Z</td>\n",
       "      <td>0.122093</td>\n",
       "      <td>[7]</td>\n",
       "    </tr>\n",
       "    <tr>\n",
       "      <th>1</th>\n",
       "      <td>O2</td>\n",
       "      <td>C3541</td>\n",
       "      <td>P12802</td>\n",
       "      <td>0.663168</td>\n",
       "      <td>1</td>\n",
       "      <td>2021-09-13T13:21:30.036Z</td>\n",
       "      <td>0.903101</td>\n",
       "      <td>[23, 21, 22, 27, 8, 22, 5, 13, 14]</td>\n",
       "    </tr>\n",
       "    <tr>\n",
       "      <th>2</th>\n",
       "      <td>O3</td>\n",
       "      <td>C7402</td>\n",
       "      <td>P8320</td>\n",
       "      <td>0.629604</td>\n",
       "      <td>1</td>\n",
       "      <td>2021-09-13T13:21:30.036Z</td>\n",
       "      <td>0.054264</td>\n",
       "      <td>[]</td>\n",
       "    </tr>\n",
       "    <tr>\n",
       "      <th>3</th>\n",
       "      <td>O4</td>\n",
       "      <td>C7356</td>\n",
       "      <td>P18000</td>\n",
       "      <td>0.202772</td>\n",
       "      <td>0</td>\n",
       "      <td>2021-09-13T13:21:30.036Z</td>\n",
       "      <td>0.343023</td>\n",
       "      <td>[2, 26, 12]</td>\n",
       "    </tr>\n",
       "    <tr>\n",
       "      <th>4</th>\n",
       "      <td>O5</td>\n",
       "      <td>C5806</td>\n",
       "      <td>P12940</td>\n",
       "      <td>0.053168</td>\n",
       "      <td>1</td>\n",
       "      <td>2021-09-13T13:21:30.036Z</td>\n",
       "      <td>0.242248</td>\n",
       "      <td>[29, 2]</td>\n",
       "    </tr>\n",
       "  </tbody>\n",
       "</table>\n",
       "</div>"
      ],
      "text/plain": [
       "  order_id customer_id product_id  purchase_amount  is_reordered  \\\n",
       "0       O1       C5731        P16         0.913465             1   \n",
       "1       O2       C3541     P12802         0.663168             1   \n",
       "2       O3       C7402      P8320         0.629604             1   \n",
       "3       O4       C7356     P18000         0.202772             0   \n",
       "4       O5       C5806     P12940         0.053168             1   \n",
       "\n",
       "                 event_time  n_days_since_last_purchase  \\\n",
       "0  2021-09-13T13:21:30.036Z                    0.122093   \n",
       "1  2021-09-13T13:21:30.036Z                    0.903101   \n",
       "2  2021-09-13T13:21:30.036Z                    0.054264   \n",
       "3  2021-09-13T13:21:30.036Z                    0.343023   \n",
       "4  2021-09-13T13:21:30.036Z                    0.242248   \n",
       "\n",
       "                          n_days_list  \n",
       "0                                 [7]  \n",
       "1  [23, 21, 22, 27, 8, 22, 5, 13, 14]  \n",
       "2                                  []  \n",
       "3                         [2, 26, 12]  \n",
       "4                             [29, 2]  "
      ]
     },
     "execution_count": 27,
     "metadata": {},
     "output_type": "execute_result"
    }
   ],
   "source": [
    "orders_list_df.head(5)"
   ]
  },
  {
   "cell_type": "code",
   "execution_count": 28,
   "metadata": {
    "tags": []
   },
   "outputs": [
    {
     "data": {
      "text/plain": [
       "order_id                                                      O2\n",
       "customer_id                                                C3541\n",
       "product_id                                                P12802\n",
       "purchase_amount                                         0.663168\n",
       "is_reordered                                                   1\n",
       "event_time                              2021-09-13T13:21:30.036Z\n",
       "n_days_since_last_purchase                              0.903101\n",
       "n_days_list                   [23, 21, 22, 27, 8, 22, 5, 13, 14]\n",
       "Name: 1, dtype: object"
      ]
     },
     "execution_count": 28,
     "metadata": {},
     "output_type": "execute_result"
    }
   ],
   "source": [
    "# Dump one row of data\n",
    "orders_list_df.iloc[1]"
   ]
  },
  {
   "cell_type": "code",
   "execution_count": 29,
   "metadata": {
    "tags": []
   },
   "outputs": [],
   "source": [
    "orders_list_data_file = \"../05-module-scalable-batch-ingestion/orders_list.csv\"\n",
    "orders_list_df.to_csv(orders_list_data_file, index=False)\n"
   ]
  },
  {
   "cell_type": "code",
   "execution_count": 30,
   "metadata": {
    "tags": []
   },
   "outputs": [
    {
     "name": "stdout",
     "output_type": "stream",
     "text": [
      "sagemaker.config INFO - Not applying SDK defaults from location: /etc/xdg/sagemaker/config.yaml\n",
      "sagemaker.config INFO - Not applying SDK defaults from location: /root/.config/sagemaker/config.yaml\n"
     ]
    },
    {
     "data": {
      "text/plain": [
       "'s3://sagemaker-us-west-2-572539092864/sagemaker-feature-store/fscw/data/orders_list.csv'"
      ]
     },
     "execution_count": 30,
     "metadata": {},
     "output_type": "execute_result"
    }
   ],
   "source": [
    "# Upload orders_list data file to S3\n",
    "s3_uri = sagemaker.s3.S3Uploader.upload(orders_list_data_file, s3_uri_upload_prefix)\n",
    "s3_uri"
   ]
  },
  {
   "cell_type": "markdown",
   "metadata": {},
   "source": [
    "# Write Orders Table Records to Online Store\n",
    "\n",
    "We now create a Python function to convert each row or orders data to a writeable feature record. Then we iterate over rows in the Pandas Dataframe and call put_record method to write to the Online-only Feature Group."
   ]
  },
  {
   "cell_type": "code",
   "execution_count": 31,
   "metadata": {
    "scrolled": true,
    "tags": []
   },
   "outputs": [],
   "source": [
    "# Function to convert dataframe row data to feature for put_record\n",
    "def convert_row_to_feature(row) -> list:\n",
    "    record = []\n",
    "    row_dict = row.to_dict()\n",
    "    for col, val in row_dict.items():\n",
    "        if isinstance(val, list):\n",
    "            feature = {'FeatureName': col, 'ValueAsStringList': (val)}\n",
    "        else:\n",
    "            feature = {'FeatureName': col, 'ValueAsString': str(val)}\n",
    "        record.append(feature)\n",
    "    return record"
   ]
  },
  {
   "cell_type": "code",
   "execution_count": 32,
   "metadata": {
    "scrolled": true,
    "tags": []
   },
   "outputs": [
    {
     "name": "stdout",
     "output_type": "stream",
     "text": [
      "CPU times: user 13.5 s, sys: 421 ms, total: 13.9 s\n",
      "Wall time: 47 s\n"
     ]
    }
   ],
   "source": [
    "%%time\n",
    "\n",
    "# Iterate through dataframe rows and call put_record to write list data\n",
    "for idx, row in orders_list_df.iterrows():\n",
    "    rec = convert_row_to_feature(row)\n",
    "    try:\n",
    "        fs_client.put_record(FeatureGroupName=feature_group_name, Record=rec)\n",
    "    except Exception:\n",
    "        logger.error(f'Error calling put_record for row # {idx}')\n",
    "    # Only write 10,000 rows to Feature Store from notebook\n",
    "    if (idx >= 10000): break\n"
   ]
  },
  {
   "cell_type": "markdown",
   "metadata": {},
   "source": [
    "# Bulk Ingest Data to the Online Store\n",
    "\n",
    "We will create a [SageMaker Processing Job](https://docs.aws.amazon.com/sagemaker/latest/dg/processing-job.html) which uses the Feature Store Spark Connector to ingest feature data from a Spark Dataframe directly into the online store.\n",
    "\n",
    "To use the Feature Store Spark Connector in a Processing Job, we recommend extending the prebuilt SageMaker Spark Processing container as shown in the [documentation](https://docs.aws.amazon.com/sagemaker/latest/dg/batch-ingestion-spark-connector-setup.html#:~:text=Installation%20on%20a%20Amazon%20SageMaker%20Processing%20Job\n",
    "). \n",
    "\n",
    "For this example, we will install the Spark Connector to a local directory and submit the required modules and Jar file when we run the processing job."
   ]
  },
  {
   "cell_type": "markdown",
   "metadata": {},
   "source": [
    "### Prepare Feature Store Pyspark library\n",
    "\n",
    "The `sagemaker_feature_store_pyspark` library is available on github and can be used in SageMaker Studio notebooks by installing with `pip`. This library implements a Spark connector to Feature Store and enables extra functionality. We will be using the `FeatureStoreManager` class to ingest records to the Online-only InMemory store."
   ]
  },
  {
   "cell_type": "code",
   "execution_count": 33,
   "metadata": {
    "tags": []
   },
   "outputs": [],
   "source": [
    "spark_version = '3.1' # MAJOR.MINOR"
   ]
  },
  {
   "cell_type": "markdown",
   "metadata": {},
   "source": [
    "Install the Spark Connector under `./temp`."
   ]
  },
  {
   "cell_type": "code",
   "execution_count": 34,
   "metadata": {
    "tags": []
   },
   "outputs": [
    {
     "name": "stdout",
     "output_type": "stream",
     "text": [
      "Collecting sagemaker-feature-store-pyspark-3.1\n",
      "  Using cached sagemaker_feature_store_pyspark_3.1-1.1.2-py3-none-any.whl\n",
      "Installing collected packages: sagemaker-feature-store-pyspark-3.1\n",
      "Successfully installed sagemaker-feature-store-pyspark-3.1-1.1.2\n",
      "\u001b[33mWARNING: Target directory /root/Workshop/amazon-sagemaker-feature-store-end-to-end-workshop/05-module-scalable-batch-ingestion/temp/feature_store_pyspark already exists. Specify --upgrade to force replacement.\u001b[0m\u001b[33m\n",
      "\u001b[0m\u001b[33mWARNING: Target directory /root/Workshop/amazon-sagemaker-feature-store-end-to-end-workshop/05-module-scalable-batch-ingestion/temp/sagemaker_feature_store_pyspark_3.1-1.1.2.dist-info already exists. Specify --upgrade to force replacement.\u001b[0m\u001b[33m\n",
      "\u001b[0m\u001b[33mWARNING: Target directory /root/Workshop/amazon-sagemaker-feature-store-end-to-end-workshop/05-module-scalable-batch-ingestion/temp/bin already exists. Specify --upgrade to force replacement.\u001b[0m\u001b[33m\n",
      "\u001b[0m\u001b[33mWARNING: Running pip as the 'root' user can result in broken permissions and conflicting behaviour with the system package manager. It is recommended to use a virtual environment instead: https://pip.pypa.io/warnings/venv\u001b[0m\u001b[33m\n",
      "\u001b[0mNote: you may need to restart the kernel to use updated packages.\n"
     ]
    }
   ],
   "source": [
    "%pip install sagemaker-feature-store-pyspark-{spark_version} -t ./temp --no-binary :all:"
   ]
  },
  {
   "cell_type": "markdown",
   "metadata": {},
   "source": [
    "Zip up the required Python modules."
   ]
  },
  {
   "cell_type": "code",
   "execution_count": 35,
   "metadata": {
    "tags": []
   },
   "outputs": [],
   "source": [
    "import zipfile\n",
    "import os\n",
    "\n",
    "zf = zipfile.ZipFile('feature_store_pyspark.zip', 'w', zipfile.ZIP_DEFLATED)\n",
    "\n",
    "for f in os.listdir('./temp/feature_store_pyspark'):\n",
    "    if f.endswith('.py'):\n",
    "        zf.write(os.path.join('./temp/feature_store_pyspark', f), os.path.join('feature_store_pyspark', f))\n",
    "\n",
    "zf.close()"
   ]
  },
  {
   "cell_type": "markdown",
   "metadata": {},
   "source": [
    "Use `feature_store_pyspark.classpath_jars()` to get the absolute path to the Jar file."
   ]
  },
  {
   "cell_type": "code",
   "execution_count": 36,
   "metadata": {
    "tags": []
   },
   "outputs": [
    {
     "data": {
      "text/plain": [
       "'/root/Workshop/amazon-sagemaker-feature-store-end-to-end-workshop/05-module-scalable-batch-ingestion/temp/feature_store_pyspark/jars/sagemaker-feature-store-spark-sdk.jar'"
      ]
     },
     "execution_count": 36,
     "metadata": {},
     "output_type": "execute_result"
    }
   ],
   "source": [
    "from temp import feature_store_pyspark\n",
    "\n",
    "jar_path = feature_store_pyspark.classpath_jars()[0]\n",
    "jar_path"
   ]
  },
  {
   "cell_type": "code",
   "execution_count": 37,
   "metadata": {
    "tags": []
   },
   "outputs": [
    {
     "name": "stdout",
     "output_type": "stream",
     "text": [
      "sagemaker.config INFO - Not applying SDK defaults from location: /etc/xdg/sagemaker/config.yaml\n",
      "sagemaker.config INFO - Not applying SDK defaults from location: /root/.config/sagemaker/config.yaml\n",
      "\n",
      "Uploaded CSV file to S3 location: \n",
      "s3://sagemaker-us-west-2-572539092864/sagemaker-feature-store/fscw/data/orders.csv\n"
     ]
    }
   ],
   "source": [
    "# Upload original 'orders.csv' data file to S3 for Bulk Ingest Job\n",
    "s3_uri_full_csv_path = sagemaker.s3.S3Uploader.upload(orders_data_file, s3_uri_upload_prefix)\n",
    "\n",
    "print(f'\\nUploaded CSV file to S3 location: \\n{s3_uri_full_csv_path}')"
   ]
  },
  {
   "cell_type": "markdown",
   "metadata": {},
   "source": [
    "Run a processing job using `scripts/ingest_to_online_store.py` and include the zipped Python modules and Jar file."
   ]
  },
  {
   "cell_type": "code",
   "execution_count": null,
   "metadata": {
    "tags": []
   },
   "outputs": [
    {
     "name": "stdout",
     "output_type": "stream",
     "text": [
      "sagemaker.config INFO - Not applying SDK defaults from location: /etc/xdg/sagemaker/config.yaml\n",
      "sagemaker.config INFO - Not applying SDK defaults from location: /root/.config/sagemaker/config.yaml\n"
     ]
    },
    {
     "name": "stderr",
     "output_type": "stream",
     "text": [
      "INFO:sagemaker:Creating processing-job with name sm-processing-pyspark-fs-ingestion-2023-10-11-18-31-20-751\n"
     ]
    },
    {
     "name": "stdout",
     "output_type": "stream",
     "text": [
      "................................................................................................!"
     ]
    }
   ],
   "source": [
    "from sagemaker.spark.processing import PySparkProcessor\n",
    "\n",
    "spark_processor = PySparkProcessor(\n",
    "    base_job_name='sm-processing-pyspark-fs-ingestion',\n",
    "    framework_version=spark_version,\n",
    "    role=role_arn,\n",
    "    instance_count=1,\n",
    "    instance_type='ml.m5.large',\n",
    "    max_runtime_in_seconds=1200, \n",
    "    env={'AWS_DEFAULT_REGION': boto3.Session().region_name, 'mode': 'python'}\n",
    ")\n",
    "\n",
    "spark_processor.run(\n",
    "    submit_app='./scripts/ingest_to_online_store.py',\n",
    "    arguments=[\n",
    "        '--feature_group_name', feature_group_name,\n",
    "        '--region_name', region_name,\n",
    "        '--s3_uri_csv_path', s3_uri_full_csv_path\n",
    "    ],\n",
    "    logs=False,\n",
    "    submit_jars=[jar_path],\n",
    "    submit_py_files=[\n",
    "        './feature_store_pyspark.zip'\n",
    "    ]\n",
    ")"
   ]
  },
  {
   "cell_type": "markdown",
   "metadata": {},
   "source": [
    "# Read, Modify, and Write Records to Online Store\n",
    "\n",
    "Next, we verify that orders data is available in the Online store. Then we read, modify, and write back a record from Online store."
   ]
  },
  {
   "cell_type": "code",
   "execution_count": 39,
   "metadata": {
    "tags": []
   },
   "outputs": [
    {
     "data": {
      "text/plain": [
       "[{'FeatureName': 'order_id', 'ValueAsString': 'O1'},\n",
       " {'FeatureName': 'customer_id', 'ValueAsString': 'C5731'},\n",
       " {'FeatureName': 'product_id', 'ValueAsString': 'P16'},\n",
       " {'FeatureName': 'purchase_amount', 'ValueAsString': '0.9134653465346535'},\n",
       " {'FeatureName': 'is_reordered', 'ValueAsString': '1'},\n",
       " {'FeatureName': 'event_time', 'ValueAsString': '2021-09-13T13:21:30.036Z'},\n",
       " {'FeatureName': 'n_days_since_last_purchase',\n",
       "  'ValueAsString': '0.12209302325581398'}]"
      ]
     },
     "execution_count": 39,
     "metadata": {},
     "output_type": "execute_result"
    }
   ],
   "source": [
    "# Read one record from Online InMemory Store\n",
    "response = fs_client.get_record(\n",
    "    FeatureGroupName=feature_group_name,\n",
    "    RecordIdentifierValueAsString='O1'\n",
    ")\n",
    "record = response['Record']\n",
    "record"
   ]
  },
  {
   "cell_type": "markdown",
   "metadata": {},
   "source": [
    "### Modify and write the record back to Online store"
   ]
  },
  {
   "cell_type": "code",
   "execution_count": 40,
   "metadata": {
    "tags": []
   },
   "outputs": [],
   "source": [
    "# Modify two fields of retrieved orders record \n",
    "for feature in record:\n",
    "    if feature['FeatureName'] == 'purchase_amount':\n",
    "        feature['ValueAsString'] = '99.99'\n",
    "    if feature['FeatureName'] == 'customer_id':\n",
    "        feature['ValueAsString'] = 'C9999'\n"
   ]
  },
  {
   "cell_type": "code",
   "execution_count": 41,
   "metadata": {
    "tags": []
   },
   "outputs": [
    {
     "data": {
      "text/plain": [
       "{'ResponseMetadata': {'RequestId': 'aff7c04c-afa0-4b63-8ac8-530a43635f1d',\n",
       "  'HTTPStatusCode': 200,\n",
       "  'HTTPHeaders': {'x-amzn-requestid': 'aff7c04c-afa0-4b63-8ac8-530a43635f1d',\n",
       "   'content-type': 'application/json',\n",
       "   'content-length': '0',\n",
       "   'date': 'Wed, 11 Oct 2023 18:44:10 GMT'},\n",
       "  'RetryAttempts': 0}}"
      ]
     },
     "execution_count": 41,
     "metadata": {},
     "output_type": "execute_result"
    }
   ],
   "source": [
    "# Write updated record back to Online store\n",
    "fs_client.put_record(FeatureGroupName=feature_group_name, Record=record)"
   ]
  },
  {
   "cell_type": "markdown",
   "metadata": {},
   "source": [
    "Verify that the latest feature data is available in the online store."
   ]
  },
  {
   "cell_type": "code",
   "execution_count": 42,
   "metadata": {
    "tags": []
   },
   "outputs": [
    {
     "data": {
      "text/plain": [
       "[{'FeatureName': 'order_id', 'ValueAsString': 'O1'},\n",
       " {'FeatureName': 'customer_id', 'ValueAsString': 'C9999'},\n",
       " {'FeatureName': 'product_id', 'ValueAsString': 'P16'},\n",
       " {'FeatureName': 'purchase_amount', 'ValueAsString': '99.99'},\n",
       " {'FeatureName': 'is_reordered', 'ValueAsString': '1'},\n",
       " {'FeatureName': 'event_time', 'ValueAsString': '2021-09-13T13:21:30.036Z'},\n",
       " {'FeatureName': 'n_days_since_last_purchase',\n",
       "  'ValueAsString': '0.12209302325581398'}]"
      ]
     },
     "execution_count": 42,
     "metadata": {},
     "output_type": "execute_result"
    }
   ],
   "source": [
    "response = fs_client.get_record(\n",
    "    FeatureGroupName=feature_group_name,\n",
    "    RecordIdentifierValueAsString='O1'\n",
    ")\n",
    "record = response['Record']\n",
    "record"
   ]
  },
  {
   "cell_type": "markdown",
   "metadata": {},
   "source": [
    "### Use Batch Get Record call to test retrieval of multiple records from the online store."
   ]
  },
  {
   "cell_type": "code",
   "execution_count": 43,
   "metadata": {},
   "outputs": [
    {
     "data": {
      "text/plain": [
       "{'ResponseMetadata': {'RequestId': '60cb88d1-9fe2-41d5-a105-70f3b91d8f29',\n",
       "  'HTTPStatusCode': 200,\n",
       "  'HTTPHeaders': {'x-amzn-requestid': '60cb88d1-9fe2-41d5-a105-70f3b91d8f29',\n",
       "   'content-type': 'application/json',\n",
       "   'content-length': '3636',\n",
       "   'date': 'Wed, 11 Oct 2023 18:44:23 GMT'},\n",
       "  'RetryAttempts': 0},\n",
       " 'Records': [{'FeatureGroupName': 'FG-online-only-inmemory',\n",
       "   'RecordIdentifierValueAsString': 'O2',\n",
       "   'Record': [{'FeatureName': 'order_id', 'ValueAsString': 'O2'},\n",
       "    {'FeatureName': 'customer_id', 'ValueAsString': 'C3541'},\n",
       "    {'FeatureName': 'product_id', 'ValueAsString': 'P12802'},\n",
       "    {'FeatureName': 'purchase_amount', 'ValueAsString': '0.6631683168316832'},\n",
       "    {'FeatureName': 'is_reordered', 'ValueAsString': '1'},\n",
       "    {'FeatureName': 'event_time', 'ValueAsString': '2021-09-13T13:21:30.036Z'},\n",
       "    {'FeatureName': 'n_days_since_last_purchase',\n",
       "     'ValueAsString': '0.9031007751937984'}]},\n",
       "  {'FeatureGroupName': 'FG-online-only-inmemory',\n",
       "   'RecordIdentifierValueAsString': 'O5',\n",
       "   'Record': [{'FeatureName': 'order_id', 'ValueAsString': 'O5'},\n",
       "    {'FeatureName': 'customer_id', 'ValueAsString': 'C5806'},\n",
       "    {'FeatureName': 'product_id', 'ValueAsString': 'P12940'},\n",
       "    {'FeatureName': 'purchase_amount', 'ValueAsString': '0.05316831683168317'},\n",
       "    {'FeatureName': 'is_reordered', 'ValueAsString': '1'},\n",
       "    {'FeatureName': 'event_time', 'ValueAsString': '2021-09-13T13:21:30.036Z'},\n",
       "    {'FeatureName': 'n_days_since_last_purchase',\n",
       "     'ValueAsString': '0.2422480620155039'}]},\n",
       "  {'FeatureGroupName': 'FG-online-only-inmemory',\n",
       "   'RecordIdentifierValueAsString': 'O3',\n",
       "   'Record': [{'FeatureName': 'order_id', 'ValueAsString': 'O3'},\n",
       "    {'FeatureName': 'customer_id', 'ValueAsString': 'C7402'},\n",
       "    {'FeatureName': 'product_id', 'ValueAsString': 'P8320'},\n",
       "    {'FeatureName': 'purchase_amount', 'ValueAsString': '0.6296039603960396'},\n",
       "    {'FeatureName': 'is_reordered', 'ValueAsString': '1'},\n",
       "    {'FeatureName': 'event_time', 'ValueAsString': '2021-09-13T13:21:30.036Z'},\n",
       "    {'FeatureName': 'n_days_since_last_purchase',\n",
       "     'ValueAsString': '0.05426356589147288'}]},\n",
       "  {'FeatureGroupName': 'FG-online-only-inmemory',\n",
       "   'RecordIdentifierValueAsString': 'O4',\n",
       "   'Record': [{'FeatureName': 'order_id', 'ValueAsString': 'O4'},\n",
       "    {'FeatureName': 'customer_id', 'ValueAsString': 'C7356'},\n",
       "    {'FeatureName': 'product_id', 'ValueAsString': 'P18000'},\n",
       "    {'FeatureName': 'purchase_amount', 'ValueAsString': '0.20277227722772276'},\n",
       "    {'FeatureName': 'is_reordered', 'ValueAsString': '0'},\n",
       "    {'FeatureName': 'event_time', 'ValueAsString': '2021-09-13T13:21:30.036Z'},\n",
       "    {'FeatureName': 'n_days_since_last_purchase',\n",
       "     'ValueAsString': '0.34302325581395343'}]},\n",
       "  {'FeatureGroupName': 'FG-online-only-inmemory',\n",
       "   'RecordIdentifierValueAsString': 'O1',\n",
       "   'Record': [{'FeatureName': 'order_id', 'ValueAsString': 'O1'},\n",
       "    {'FeatureName': 'customer_id', 'ValueAsString': 'C9999'},\n",
       "    {'FeatureName': 'product_id', 'ValueAsString': 'P16'},\n",
       "    {'FeatureName': 'purchase_amount', 'ValueAsString': '99.99'},\n",
       "    {'FeatureName': 'is_reordered', 'ValueAsString': '1'},\n",
       "    {'FeatureName': 'event_time', 'ValueAsString': '2021-09-13T13:21:30.036Z'},\n",
       "    {'FeatureName': 'n_days_since_last_purchase',\n",
       "     'ValueAsString': '0.12209302325581398'}]}],\n",
       " 'Errors': [],\n",
       " 'UnprocessedIdentifiers': []}"
      ]
     },
     "execution_count": 43,
     "metadata": {},
     "output_type": "execute_result"
    }
   ],
   "source": [
    "# Call Batch Get Record to read multiple records from Online store\n",
    "fs_client.batch_get_record(\n",
    "    Identifiers=[{\n",
    "        'FeatureGroupName': feature_group_name,\n",
    "        'RecordIdentifiersValueAsString': ['O1', 'O2', 'O3', 'O4', 'O5']\n",
    "    }]\n",
    ")"
   ]
  },
  {
   "cell_type": "markdown",
   "metadata": {},
   "source": [
    "# Cleanup (optional)\n",
    "\n",
    "To delete the Feature Group created in this notebook, uncomment and run the code below"
   ]
  },
  {
   "cell_type": "code",
   "execution_count": null,
   "metadata": {
    "tags": []
   },
   "outputs": [],
   "source": [
    "# Delete Feature Group, Online-Only storage\n",
    "\n",
    "#response = sm_client.delete_feature_group(FeatureGroupName=feature_group_name)\n",
    "#response"
   ]
  },
  {
   "cell_type": "code",
   "execution_count": null,
   "metadata": {},
   "outputs": [],
   "source": []
  }
 ],
 "metadata": {
  "availableInstances": [
   {
    "_defaultOrder": 0,
    "_isFastLaunch": true,
    "category": "General purpose",
    "gpuNum": 0,
    "hideHardwareSpecs": false,
    "memoryGiB": 4,
    "name": "ml.t3.medium",
    "vcpuNum": 2
   },
   {
    "_defaultOrder": 1,
    "_isFastLaunch": false,
    "category": "General purpose",
    "gpuNum": 0,
    "hideHardwareSpecs": false,
    "memoryGiB": 8,
    "name": "ml.t3.large",
    "vcpuNum": 2
   },
   {
    "_defaultOrder": 2,
    "_isFastLaunch": false,
    "category": "General purpose",
    "gpuNum": 0,
    "hideHardwareSpecs": false,
    "memoryGiB": 16,
    "name": "ml.t3.xlarge",
    "vcpuNum": 4
   },
   {
    "_defaultOrder": 3,
    "_isFastLaunch": false,
    "category": "General purpose",
    "gpuNum": 0,
    "hideHardwareSpecs": false,
    "memoryGiB": 32,
    "name": "ml.t3.2xlarge",
    "vcpuNum": 8
   },
   {
    "_defaultOrder": 4,
    "_isFastLaunch": true,
    "category": "General purpose",
    "gpuNum": 0,
    "hideHardwareSpecs": false,
    "memoryGiB": 8,
    "name": "ml.m5.large",
    "vcpuNum": 2
   },
   {
    "_defaultOrder": 5,
    "_isFastLaunch": false,
    "category": "General purpose",
    "gpuNum": 0,
    "hideHardwareSpecs": false,
    "memoryGiB": 16,
    "name": "ml.m5.xlarge",
    "vcpuNum": 4
   },
   {
    "_defaultOrder": 6,
    "_isFastLaunch": false,
    "category": "General purpose",
    "gpuNum": 0,
    "hideHardwareSpecs": false,
    "memoryGiB": 32,
    "name": "ml.m5.2xlarge",
    "vcpuNum": 8
   },
   {
    "_defaultOrder": 7,
    "_isFastLaunch": false,
    "category": "General purpose",
    "gpuNum": 0,
    "hideHardwareSpecs": false,
    "memoryGiB": 64,
    "name": "ml.m5.4xlarge",
    "vcpuNum": 16
   },
   {
    "_defaultOrder": 8,
    "_isFastLaunch": false,
    "category": "General purpose",
    "gpuNum": 0,
    "hideHardwareSpecs": false,
    "memoryGiB": 128,
    "name": "ml.m5.8xlarge",
    "vcpuNum": 32
   },
   {
    "_defaultOrder": 9,
    "_isFastLaunch": false,
    "category": "General purpose",
    "gpuNum": 0,
    "hideHardwareSpecs": false,
    "memoryGiB": 192,
    "name": "ml.m5.12xlarge",
    "vcpuNum": 48
   },
   {
    "_defaultOrder": 10,
    "_isFastLaunch": false,
    "category": "General purpose",
    "gpuNum": 0,
    "hideHardwareSpecs": false,
    "memoryGiB": 256,
    "name": "ml.m5.16xlarge",
    "vcpuNum": 64
   },
   {
    "_defaultOrder": 11,
    "_isFastLaunch": false,
    "category": "General purpose",
    "gpuNum": 0,
    "hideHardwareSpecs": false,
    "memoryGiB": 384,
    "name": "ml.m5.24xlarge",
    "vcpuNum": 96
   },
   {
    "_defaultOrder": 12,
    "_isFastLaunch": false,
    "category": "General purpose",
    "gpuNum": 0,
    "hideHardwareSpecs": false,
    "memoryGiB": 8,
    "name": "ml.m5d.large",
    "vcpuNum": 2
   },
   {
    "_defaultOrder": 13,
    "_isFastLaunch": false,
    "category": "General purpose",
    "gpuNum": 0,
    "hideHardwareSpecs": false,
    "memoryGiB": 16,
    "name": "ml.m5d.xlarge",
    "vcpuNum": 4
   },
   {
    "_defaultOrder": 14,
    "_isFastLaunch": false,
    "category": "General purpose",
    "gpuNum": 0,
    "hideHardwareSpecs": false,
    "memoryGiB": 32,
    "name": "ml.m5d.2xlarge",
    "vcpuNum": 8
   },
   {
    "_defaultOrder": 15,
    "_isFastLaunch": false,
    "category": "General purpose",
    "gpuNum": 0,
    "hideHardwareSpecs": false,
    "memoryGiB": 64,
    "name": "ml.m5d.4xlarge",
    "vcpuNum": 16
   },
   {
    "_defaultOrder": 16,
    "_isFastLaunch": false,
    "category": "General purpose",
    "gpuNum": 0,
    "hideHardwareSpecs": false,
    "memoryGiB": 128,
    "name": "ml.m5d.8xlarge",
    "vcpuNum": 32
   },
   {
    "_defaultOrder": 17,
    "_isFastLaunch": false,
    "category": "General purpose",
    "gpuNum": 0,
    "hideHardwareSpecs": false,
    "memoryGiB": 192,
    "name": "ml.m5d.12xlarge",
    "vcpuNum": 48
   },
   {
    "_defaultOrder": 18,
    "_isFastLaunch": false,
    "category": "General purpose",
    "gpuNum": 0,
    "hideHardwareSpecs": false,
    "memoryGiB": 256,
    "name": "ml.m5d.16xlarge",
    "vcpuNum": 64
   },
   {
    "_defaultOrder": 19,
    "_isFastLaunch": false,
    "category": "General purpose",
    "gpuNum": 0,
    "hideHardwareSpecs": false,
    "memoryGiB": 384,
    "name": "ml.m5d.24xlarge",
    "vcpuNum": 96
   },
   {
    "_defaultOrder": 20,
    "_isFastLaunch": false,
    "category": "General purpose",
    "gpuNum": 0,
    "hideHardwareSpecs": true,
    "memoryGiB": 0,
    "name": "ml.geospatial.interactive",
    "supportedImageNames": [
     "sagemaker-geospatial-v1-0"
    ],
    "vcpuNum": 0
   },
   {
    "_defaultOrder": 21,
    "_isFastLaunch": true,
    "category": "Compute optimized",
    "gpuNum": 0,
    "hideHardwareSpecs": false,
    "memoryGiB": 4,
    "name": "ml.c5.large",
    "vcpuNum": 2
   },
   {
    "_defaultOrder": 22,
    "_isFastLaunch": false,
    "category": "Compute optimized",
    "gpuNum": 0,
    "hideHardwareSpecs": false,
    "memoryGiB": 8,
    "name": "ml.c5.xlarge",
    "vcpuNum": 4
   },
   {
    "_defaultOrder": 23,
    "_isFastLaunch": false,
    "category": "Compute optimized",
    "gpuNum": 0,
    "hideHardwareSpecs": false,
    "memoryGiB": 16,
    "name": "ml.c5.2xlarge",
    "vcpuNum": 8
   },
   {
    "_defaultOrder": 24,
    "_isFastLaunch": false,
    "category": "Compute optimized",
    "gpuNum": 0,
    "hideHardwareSpecs": false,
    "memoryGiB": 32,
    "name": "ml.c5.4xlarge",
    "vcpuNum": 16
   },
   {
    "_defaultOrder": 25,
    "_isFastLaunch": false,
    "category": "Compute optimized",
    "gpuNum": 0,
    "hideHardwareSpecs": false,
    "memoryGiB": 72,
    "name": "ml.c5.9xlarge",
    "vcpuNum": 36
   },
   {
    "_defaultOrder": 26,
    "_isFastLaunch": false,
    "category": "Compute optimized",
    "gpuNum": 0,
    "hideHardwareSpecs": false,
    "memoryGiB": 96,
    "name": "ml.c5.12xlarge",
    "vcpuNum": 48
   },
   {
    "_defaultOrder": 27,
    "_isFastLaunch": false,
    "category": "Compute optimized",
    "gpuNum": 0,
    "hideHardwareSpecs": false,
    "memoryGiB": 144,
    "name": "ml.c5.18xlarge",
    "vcpuNum": 72
   },
   {
    "_defaultOrder": 28,
    "_isFastLaunch": false,
    "category": "Compute optimized",
    "gpuNum": 0,
    "hideHardwareSpecs": false,
    "memoryGiB": 192,
    "name": "ml.c5.24xlarge",
    "vcpuNum": 96
   },
   {
    "_defaultOrder": 29,
    "_isFastLaunch": true,
    "category": "Accelerated computing",
    "gpuNum": 1,
    "hideHardwareSpecs": false,
    "memoryGiB": 16,
    "name": "ml.g4dn.xlarge",
    "vcpuNum": 4
   },
   {
    "_defaultOrder": 30,
    "_isFastLaunch": false,
    "category": "Accelerated computing",
    "gpuNum": 1,
    "hideHardwareSpecs": false,
    "memoryGiB": 32,
    "name": "ml.g4dn.2xlarge",
    "vcpuNum": 8
   },
   {
    "_defaultOrder": 31,
    "_isFastLaunch": false,
    "category": "Accelerated computing",
    "gpuNum": 1,
    "hideHardwareSpecs": false,
    "memoryGiB": 64,
    "name": "ml.g4dn.4xlarge",
    "vcpuNum": 16
   },
   {
    "_defaultOrder": 32,
    "_isFastLaunch": false,
    "category": "Accelerated computing",
    "gpuNum": 1,
    "hideHardwareSpecs": false,
    "memoryGiB": 128,
    "name": "ml.g4dn.8xlarge",
    "vcpuNum": 32
   },
   {
    "_defaultOrder": 33,
    "_isFastLaunch": false,
    "category": "Accelerated computing",
    "gpuNum": 4,
    "hideHardwareSpecs": false,
    "memoryGiB": 192,
    "name": "ml.g4dn.12xlarge",
    "vcpuNum": 48
   },
   {
    "_defaultOrder": 34,
    "_isFastLaunch": false,
    "category": "Accelerated computing",
    "gpuNum": 1,
    "hideHardwareSpecs": false,
    "memoryGiB": 256,
    "name": "ml.g4dn.16xlarge",
    "vcpuNum": 64
   },
   {
    "_defaultOrder": 35,
    "_isFastLaunch": false,
    "category": "Accelerated computing",
    "gpuNum": 1,
    "hideHardwareSpecs": false,
    "memoryGiB": 61,
    "name": "ml.p3.2xlarge",
    "vcpuNum": 8
   },
   {
    "_defaultOrder": 36,
    "_isFastLaunch": false,
    "category": "Accelerated computing",
    "gpuNum": 4,
    "hideHardwareSpecs": false,
    "memoryGiB": 244,
    "name": "ml.p3.8xlarge",
    "vcpuNum": 32
   },
   {
    "_defaultOrder": 37,
    "_isFastLaunch": false,
    "category": "Accelerated computing",
    "gpuNum": 8,
    "hideHardwareSpecs": false,
    "memoryGiB": 488,
    "name": "ml.p3.16xlarge",
    "vcpuNum": 64
   },
   {
    "_defaultOrder": 38,
    "_isFastLaunch": false,
    "category": "Accelerated computing",
    "gpuNum": 8,
    "hideHardwareSpecs": false,
    "memoryGiB": 768,
    "name": "ml.p3dn.24xlarge",
    "vcpuNum": 96
   },
   {
    "_defaultOrder": 39,
    "_isFastLaunch": false,
    "category": "Memory Optimized",
    "gpuNum": 0,
    "hideHardwareSpecs": false,
    "memoryGiB": 16,
    "name": "ml.r5.large",
    "vcpuNum": 2
   },
   {
    "_defaultOrder": 40,
    "_isFastLaunch": false,
    "category": "Memory Optimized",
    "gpuNum": 0,
    "hideHardwareSpecs": false,
    "memoryGiB": 32,
    "name": "ml.r5.xlarge",
    "vcpuNum": 4
   },
   {
    "_defaultOrder": 41,
    "_isFastLaunch": false,
    "category": "Memory Optimized",
    "gpuNum": 0,
    "hideHardwareSpecs": false,
    "memoryGiB": 64,
    "name": "ml.r5.2xlarge",
    "vcpuNum": 8
   },
   {
    "_defaultOrder": 42,
    "_isFastLaunch": false,
    "category": "Memory Optimized",
    "gpuNum": 0,
    "hideHardwareSpecs": false,
    "memoryGiB": 128,
    "name": "ml.r5.4xlarge",
    "vcpuNum": 16
   },
   {
    "_defaultOrder": 43,
    "_isFastLaunch": false,
    "category": "Memory Optimized",
    "gpuNum": 0,
    "hideHardwareSpecs": false,
    "memoryGiB": 256,
    "name": "ml.r5.8xlarge",
    "vcpuNum": 32
   },
   {
    "_defaultOrder": 44,
    "_isFastLaunch": false,
    "category": "Memory Optimized",
    "gpuNum": 0,
    "hideHardwareSpecs": false,
    "memoryGiB": 384,
    "name": "ml.r5.12xlarge",
    "vcpuNum": 48
   },
   {
    "_defaultOrder": 45,
    "_isFastLaunch": false,
    "category": "Memory Optimized",
    "gpuNum": 0,
    "hideHardwareSpecs": false,
    "memoryGiB": 512,
    "name": "ml.r5.16xlarge",
    "vcpuNum": 64
   },
   {
    "_defaultOrder": 46,
    "_isFastLaunch": false,
    "category": "Memory Optimized",
    "gpuNum": 0,
    "hideHardwareSpecs": false,
    "memoryGiB": 768,
    "name": "ml.r5.24xlarge",
    "vcpuNum": 96
   },
   {
    "_defaultOrder": 47,
    "_isFastLaunch": false,
    "category": "Accelerated computing",
    "gpuNum": 1,
    "hideHardwareSpecs": false,
    "memoryGiB": 16,
    "name": "ml.g5.xlarge",
    "vcpuNum": 4
   },
   {
    "_defaultOrder": 48,
    "_isFastLaunch": false,
    "category": "Accelerated computing",
    "gpuNum": 1,
    "hideHardwareSpecs": false,
    "memoryGiB": 32,
    "name": "ml.g5.2xlarge",
    "vcpuNum": 8
   },
   {
    "_defaultOrder": 49,
    "_isFastLaunch": false,
    "category": "Accelerated computing",
    "gpuNum": 1,
    "hideHardwareSpecs": false,
    "memoryGiB": 64,
    "name": "ml.g5.4xlarge",
    "vcpuNum": 16
   },
   {
    "_defaultOrder": 50,
    "_isFastLaunch": false,
    "category": "Accelerated computing",
    "gpuNum": 1,
    "hideHardwareSpecs": false,
    "memoryGiB": 128,
    "name": "ml.g5.8xlarge",
    "vcpuNum": 32
   },
   {
    "_defaultOrder": 51,
    "_isFastLaunch": false,
    "category": "Accelerated computing",
    "gpuNum": 1,
    "hideHardwareSpecs": false,
    "memoryGiB": 256,
    "name": "ml.g5.16xlarge",
    "vcpuNum": 64
   },
   {
    "_defaultOrder": 52,
    "_isFastLaunch": false,
    "category": "Accelerated computing",
    "gpuNum": 4,
    "hideHardwareSpecs": false,
    "memoryGiB": 192,
    "name": "ml.g5.12xlarge",
    "vcpuNum": 48
   },
   {
    "_defaultOrder": 53,
    "_isFastLaunch": false,
    "category": "Accelerated computing",
    "gpuNum": 4,
    "hideHardwareSpecs": false,
    "memoryGiB": 384,
    "name": "ml.g5.24xlarge",
    "vcpuNum": 96
   },
   {
    "_defaultOrder": 54,
    "_isFastLaunch": false,
    "category": "Accelerated computing",
    "gpuNum": 8,
    "hideHardwareSpecs": false,
    "memoryGiB": 768,
    "name": "ml.g5.48xlarge",
    "vcpuNum": 192
   },
   {
    "_defaultOrder": 55,
    "_isFastLaunch": false,
    "category": "Accelerated computing",
    "gpuNum": 8,
    "hideHardwareSpecs": false,
    "memoryGiB": 1152,
    "name": "ml.p4d.24xlarge",
    "vcpuNum": 96
   },
   {
    "_defaultOrder": 56,
    "_isFastLaunch": false,
    "category": "Accelerated computing",
    "gpuNum": 8,
    "hideHardwareSpecs": false,
    "memoryGiB": 1152,
    "name": "ml.p4de.24xlarge",
    "vcpuNum": 96
   }
  ],
  "instance_type": "ml.m5.large",
  "kernelspec": {
   "display_name": "Python 3 (Data Science 3.0)",
   "language": "python",
   "name": "python3__SAGEMAKER_INTERNAL__arn:aws:sagemaker:us-west-2:236514542706:image/sagemaker-data-science-310-v1"
  },
  "language_info": {
   "codemirror_mode": {
    "name": "ipython",
    "version": 3
   },
   "file_extension": ".py",
   "mimetype": "text/x-python",
   "name": "python",
   "nbconvert_exporter": "python",
   "pygments_lexer": "ipython3",
   "version": "3.10.6"
  }
 },
 "nbformat": 4,
 "nbformat_minor": 4
}
